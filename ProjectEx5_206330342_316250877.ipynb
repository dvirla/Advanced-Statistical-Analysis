{
 "cells": [
  {
   "cell_type": "code",
   "execution_count": 455,
   "id": "d1bb50e8",
   "metadata": {},
   "outputs": [],
   "source": [
    "import pandas as pd\n",
    "from math import log\n",
    "import numpy as np\n",
    "from scipy.stats import beta, t, bernoulli, norm\n",
    "import matplotlib.pyplot as plt\n",
    "import seaborn as sns\n",
    "import statsmodels.api as sm\n",
    "from scipy.special import logit\n",
    "from sklearn.linear_model import LogisticRegression\n",
    "import warnings\n",
    "warnings.filterwarnings(\"ignore\")"
   ]
  },
  {
   "cell_type": "code",
   "execution_count": 456,
   "id": "b0f58514",
   "metadata": {},
   "outputs": [],
   "source": [
    "df = pd.read_csv('framingham_heart_disease.csv')"
   ]
  },
  {
   "cell_type": "markdown",
   "id": "9035d4f1",
   "metadata": {},
   "source": [
    "# Part A"
   ]
  },
  {
   "cell_type": "markdown",
   "id": "bec5e92c",
   "metadata": {},
   "source": [
    "# Hypothesis question:\n",
    "## Third Experimental question - Does BMI (X) change between gender (Y)"
   ]
  },
  {
   "cell_type": "markdown",
   "id": "bcde2b83",
   "metadata": {},
   "source": [
    "## Question 1"
   ]
  },
  {
   "cell_type": "code",
   "execution_count": 457,
   "id": "3fe0fcc9",
   "metadata": {},
   "outputs": [],
   "source": [
    "df_observed = df.dropna().sample(n=100, random_state=1)\n",
    "df_old_observation = df.drop(df_observed.index).dropna().sample(n=1000, random_state=1)"
   ]
  },
  {
   "cell_type": "markdown",
   "id": "28bdee90",
   "metadata": {},
   "source": [
    "## Question 2 a"
   ]
  },
  {
   "cell_type": "markdown",
   "id": "8360328d",
   "metadata": {},
   "source": [
    "Let's define $\\tau$ as the median of the bmi, and j=1 as male and j=2 as female"
   ]
  },
  {
   "cell_type": "code",
   "execution_count": 458,
   "id": "309f5275",
   "metadata": {},
   "outputs": [
    {
     "name": "stdout",
     "output_type": "stream",
     "text": [
      "tau=24.915\n"
     ]
    }
   ],
   "source": [
    "tau = df_observed[\"BMI\"].median()\n",
    "print(f'tau={tau}')"
   ]
  },
  {
   "cell_type": "markdown",
   "id": "160ace7d",
   "metadata": {},
   "source": [
    "As we seen in class, the MLE estimator of $\\psi$ is $log(\\frac{(n - {X^{2}_{\\tau}}){X^{1}_{\\tau}}}{(m - {X^{1}_{\\tau}}){X^{2}_{\\tau}}})$ where:<br> m is number of males,<br> n is number of females,<br> $X^{1}_{\\tau}=\\sum_{i=1}^{m}I\\{x_{i}^1>\\tau\\}$,<br> $X^{2}_{\\tau}=\\sum_{i=1}^{n}I\\{x_{i}^{2}>\\tau\\}$."
   ]
  },
  {
   "cell_type": "code",
   "execution_count": 459,
   "id": "295f9023",
   "metadata": {},
   "outputs": [],
   "source": [
    "def calcualte_phi_mle(temp_df, tau):\n",
    "    x_1 = len(temp_df[(temp_df[\"male\"] == 1) & (temp_df[\"BMI\"] > tau)])\n",
    "    x_2 = len(temp_df[(temp_df[\"male\"] == 0) & (temp_df[\"BMI\"] > tau)])\n",
    "    m = len(temp_df[temp_df[\"male\"] == 1])\n",
    "    n = len(temp_df[temp_df[\"male\"] == 0])\n",
    "    phi = log((x_1*(n - x_2))/(x_2)*(m- x_1))\n",
    "    return phi, n, m"
   ]
  },
  {
   "cell_type": "code",
   "execution_count": 460,
   "id": "dbc1945f",
   "metadata": {},
   "outputs": [],
   "source": [
    "phi, n, m = calcualte_phi_mle(df_observed, tau)"
   ]
  },
  {
   "cell_type": "code",
   "execution_count": 461,
   "id": "341693a2",
   "metadata": {},
   "outputs": [
    {
     "name": "stdout",
     "output_type": "stream",
     "text": [
      "Number of male: 53, number of female: 47. MLE estimation of Phi: 6.56\n"
     ]
    }
   ],
   "source": [
    "print(f\"Number of male: {n}, number of female: {m}. MLE estimation of Phi: {np.around(phi,2)}\")"
   ]
  },
  {
   "cell_type": "markdown",
   "id": "bbeeca7c",
   "metadata": {},
   "source": [
    "We can see that the log odd ratio is bigger than zero, from that we can infer that the males BMI are more likely to be bigger than $\\tau$ compared to females BMI."
   ]
  },
  {
   "cell_type": "markdown",
   "id": "7999b44d",
   "metadata": {},
   "source": [
    "Let's find the confident interval of $\\psi$ using (quantile) Bootsrap"
   ]
  },
  {
   "cell_type": "code",
   "execution_count": 462,
   "id": "5970fd3c",
   "metadata": {},
   "outputs": [
    {
     "name": "stdout",
     "output_type": "stream",
     "text": [
      "The confident interval is: [5.76, 7.24]\n"
     ]
    }
   ],
   "source": [
    "B = 500\n",
    "alpha = 0.05\n",
    "quantile_list = []\n",
    "for _ in range(B):\n",
    "    temp_df = df_observed.sample(n=len(df_observed), replace=True)\n",
    "    phi, _, _ = calcualte_phi_mle(temp_df, tau)\n",
    "    quantile_list.append(phi)\n",
    "a = np.quantile(quantile_list, q=(alpha/2))\n",
    "b = np.quantile(quantile_list, q=(1-(alpha/2)))\n",
    "print(f\"The confident interval is: [{np.around(a, 2)}, {np.around(b,2)}]\")"
   ]
  },
  {
   "cell_type": "markdown",
   "id": "54b87d88",
   "metadata": {},
   "source": [
    "And indeed, the MLE estimator that we just calculated is inside the interval. Moreover, we can see that the confident interval is short and informative, it suggest that the BMI of male is more likely to be above $\\tau$ than BMI of females."
   ]
  },
  {
   "cell_type": "markdown",
   "id": "9d05011f",
   "metadata": {},
   "source": [
    "## Question 2 b"
   ]
  },
  {
   "cell_type": "markdown",
   "id": "4edd318f",
   "metadata": {},
   "source": [
    "We will assume that: <br> $\\pi(p_1)=1I\\{0\\le{p_1}\\le1\\}$, <br> $\\pi(p_2)=1I\\{0\\le{p_2}\\le1\\}$ <br> ${\\mathcal{L}}_m(p_1)={p_1}^{X^{1}_{\\tau}}{(1-p_1)}^{m-X^{1}_{\\tau}}$ <br> ${\\mathcal{L}}_n(p_2)={p_2}^{X^{2}_{\\tau}}{(1-p_2)}^{n-X^{2}_{\\tau}}$ <br> and as we seen in lecture the postriors are: <br> $p1|X^1\\sim{Beta(X^{1}_{\\tau} + 1, m - X^{1}_{\\tau} +1)}$ <br> $p2|X^2\\sim{Beta(X^{2}_{\\tau} + 1, n - X^{2}_{\\tau} +1)}$<br> We will compute the estimator using simulation by sampling $p_1$ and $p_2$ from their aposterior distributions, and average the simulated phi."
   ]
  },
  {
   "cell_type": "code",
   "execution_count": 463,
   "id": "32feda1b",
   "metadata": {},
   "outputs": [],
   "source": [
    "def simulate_p_beta(x_1, x_2, m, n, jeffery=False):\n",
    "    a1 = x_1 + 0.5 if jeffery else x_1 + 1\n",
    "    b1 = m - x_1 + 0.5 if jeffery else m - x_1 + 1\n",
    "    a2 = x_2 + 0.5 if jeffery else x_2 + 1 \n",
    "    b2 = n - x_2 + 0.5 if jeffery else  n - x_2 + 1\n",
    "    return beta.rvs(a1, b1), beta.rvs(a2, b2)"
   ]
  },
  {
   "cell_type": "code",
   "execution_count": 464,
   "id": "9be2dd4a",
   "metadata": {},
   "outputs": [
    {
     "name": "stdout",
     "output_type": "stream",
     "text": [
      "The estimator of OR is: 0.55\n",
      "The credible interval is: [(-0.24, 1.32)]\n"
     ]
    }
   ],
   "source": [
    "B = 10000\n",
    "phi_list = []\n",
    "x_1 = len(df_observed[(df_observed[\"male\"] == 1) & (df_observed[\"BMI\"] > tau)][\"BMI\"])\n",
    "x_2 = len(df_observed[(df_observed[\"male\"] ==0) & (df_observed[\"BMI\"] > tau)][\"BMI\"])\n",
    "m = len(df_observed[df_observed[\"male\"] == 1])\n",
    "n = len(df_observed[df_observed[\"male\"] == 0])\n",
    "for _ in range(B):\n",
    "    p1, p2 = simulate_p_beta(x_1, x_2, m, n)\n",
    "    phi_flat = logit(p1) - logit(p2)\n",
    "    phi_list.append(phi_flat)\n",
    "phi_e = sum(phi_list)/len(phi_list)\n",
    "a = np.quantile(phi_list, q=(alpha/2))\n",
    "b = np.quantile(phi_list, q=(1-(alpha/2)))\n",
    "print(f\"The estimator of OR is: {np.around(phi_e, 2)}\")\n",
    "print(f\"The credible interval is: [{np.around(a, 2), np.around(b, 2)}]\")"
   ]
  },
  {
   "cell_type": "markdown",
   "id": "b1c37e3f",
   "metadata": {},
   "source": [
    "As we excpect, the odds that men BMI will be above tau is bigger than the odds that women will.<br>\n",
    "With that being said, we can see that the estimator is much closer to zero and the credible interval is not very informative since it is big and contains zero. This could indicate that the prior we chose might be wrong or that there is no evidence for stochastical differences between the distributions."
   ]
  },
  {
   "cell_type": "markdown",
   "id": "6e59b512",
   "metadata": {},
   "source": [
    "## Question 2 c"
   ]
  },
  {
   "cell_type": "markdown",
   "id": "c6626824",
   "metadata": {},
   "source": [
    "Now we will assume:<br>\n",
    "$Z_1^1,...,Z_m^1 \\sim Bernouli(p_1)$<br>\n",
    "$Z_1^2,...,Z_n^2 \\sim Bernouli(p_2)$ where:<br>\n",
    "m is number of males,<br>\n",
    "n is number of females.<br>\n",
    "We saw in the lecture that $\\pi(p_j)=\\sqrt{\\frac{1}{p_j(1-p)j)}}$ for j=1,2. <br>\n",
    "Using these priors we get that the aposteriors distributions of $p_1 \\ and \\ p_2$ are:<br>\n",
    "$p1|X^1\\sim{Beta(X^{1}_{\\tau} + 0.5, m - X^{1}_{\\tau} +0.5)}$ <br>\n",
    "$p2|X^2\\sim{Beta(X^{2}_{\\tau} + 0.5, n - X^{2}_{\\tau} +0.5)}$"
   ]
  },
  {
   "cell_type": "code",
   "execution_count": 465,
   "id": "d566f60b",
   "metadata": {},
   "outputs": [
    {
     "name": "stdout",
     "output_type": "stream",
     "text": [
      "The estimator of OR is: 0.57\n",
      "The credible interval is: [(-0.23, 1.37)]\n"
     ]
    }
   ],
   "source": [
    "B = 10000\n",
    "phi_jefferys_list = []\n",
    "for _ in range(B):\n",
    "    p1, p2 = simulate_p_beta(x_1, x_2, m, n, True)\n",
    "    phi_jefferys = logit(p1) - logit(p2)\n",
    "    phi_jefferys_list.append(phi_jefferys)\n",
    "phi_jefferys_e = sum(phi_jefferys_list)/len(phi_jefferys_list)\n",
    "a = np.quantile(phi_jefferys_list, q=(alpha/2))\n",
    "b = np.quantile(phi_jefferys_list, q=(1-(alpha/2)))\n",
    "print(f\"The estimator of OR is: {np.around(phi_jefferys_e, 2)}\")\n",
    "print(f\"The credible interval is: [{np.around(a, 2), np.around(b, 2)}]\")"
   ]
  },
  {
   "cell_type": "markdown",
   "id": "8420afa5",
   "metadata": {},
   "source": [
    "## Question 2 d"
   ]
  },
  {
   "cell_type": "markdown",
   "id": "56f127a1",
   "metadata": {},
   "source": [
    "Assuming that now both $p_1 \\ and \\ p_2$ have priors in the form of Beta distribution and also assuming $Z_i^j \\sim Bernouli(p_j)$, we get that the aposterior distributions are: <br>\n",
    "$p1|X^1, X^1_{old} \\sim{Beta(X^{1}_{\\tau} + \\alpha_1, m - X^{1}_{\\tau} + \\beta_1)}$ <br>\n",
    "$p2|X^2, X^2_{old} \\sim{Beta(X^{2}_{\\tau} + \\alpha_2, n - X^{2}_{\\tau} + \\beta_2)}$"
   ]
  },
  {
   "cell_type": "code",
   "execution_count": 466,
   "id": "d6db19ff",
   "metadata": {},
   "outputs": [],
   "source": [
    "male_z = df_old_observation[df_old_observation['male'] == 1][['BMI']]\n",
    "female_z = df_old_observation[df_old_observation['male'] == 0][['BMI']]"
   ]
  },
  {
   "cell_type": "code",
   "execution_count": 467,
   "id": "e2292668",
   "metadata": {},
   "outputs": [],
   "source": [
    "male_z['Z'] = male_z[['BMI']].apply(lambda x: x>tau)\n",
    "female_z['Z'] = female_z[['BMI']].apply(lambda x: x>tau)"
   ]
  },
  {
   "cell_type": "code",
   "execution_count": 468,
   "id": "d9abe0ed",
   "metadata": {},
   "outputs": [],
   "source": [
    "male_alpha, male_beta = beta.fit(male_z['Z'])[:2]\n",
    "female_alpha, female_beta = beta.fit(female_z['Z'])[:2]"
   ]
  },
  {
   "cell_type": "code",
   "execution_count": 469,
   "id": "4a187fed",
   "metadata": {},
   "outputs": [
    {
     "name": "stdout",
     "output_type": "stream",
     "text": [
      "The parameteres for p1 are: alpha=1.48, beta=0.62.\n",
      "The parameteres for p2 are: alpha=1.46, beta=0.92.\n"
     ]
    }
   ],
   "source": [
    "print(f\"The parameteres for p1 are: alpha={np.around(male_alpha, 2)}, beta={np.around(male_beta, 2)}.\\nThe parameteres for p2 are: alpha={np.around(female_alpha, 2)}, beta={np.around(female_beta, 2)}.\")"
   ]
  },
  {
   "cell_type": "code",
   "execution_count": 470,
   "id": "c4ab89a7",
   "metadata": {},
   "outputs": [
    {
     "name": "stdout",
     "output_type": "stream",
     "text": [
      "The estimator of OR is: 0.57\n",
      "The credible interval is: [(-0.21, 1.38)]\n"
     ]
    }
   ],
   "source": [
    "B = 10000\n",
    "phi_old_data_list = []\n",
    "for _ in range(B):\n",
    "    p1, p2 = beta.rvs(male_alpha + x_1,m - x_1 + male_beta), beta.rvs(x_2 + female_alpha,n- x_2 + female_beta)\n",
    "    phi_old_data = logit(p1) - logit(p2)\n",
    "    phi_old_data_list.append(phi_old_data)\n",
    "phi_old_data_e = sum(phi_old_data_list)/len(phi_old_data_list)\n",
    "a = np.quantile(phi_old_data_list, q=(alpha/2))\n",
    "b = np.quantile(phi_old_data_list, q=(1-(alpha/2)))\n",
    "print(f\"The estimator of OR is: {np.around(phi_old_data_e, 2)}\")\n",
    "print(f\"The credible interval is: [{np.around(a, 2), np.around(b, 2)}]\")"
   ]
  },
  {
   "cell_type": "markdown",
   "id": "229c8aa0",
   "metadata": {},
   "source": [
    "## Question 2 e"
   ]
  },
  {
   "cell_type": "code",
   "execution_count": 471,
   "id": "5f1507d7",
   "metadata": {},
   "outputs": [
    {
     "name": "stdout",
     "output_type": "stream",
     "text": [
      "Comparing all estimators for phi:\n",
      "phi based on MLE=6.57,\n",
      "phi based on flat priors=0.55,\n",
      "phi based on Jefferys' prior=0.57,\n",
      "phi based on old data and beta prior=0.57.\n"
     ]
    }
   ],
   "source": [
    "print(f\"Comparing all estimators for phi:\\nphi based on MLE={np.around(phi, 2)},\\nphi based on flat priors={np.around(phi_e, 2)},\\nphi based on Jefferys' prior={np.around(phi_jefferys_e, 2)},\\nphi based on old data and beta prior={np.around(phi_old_data_e, 2)}.\")"
   ]
  },
  {
   "cell_type": "markdown",
   "id": "91440504",
   "metadata": {},
   "source": [
    "As we can see, MLE got us the highest phi estimation by far. Moreover, we can see that all estimators agree that the odds of males BMI being larger than $\\tau$ are greater than the odds of females BMI to pass it. <br>\n",
    "However, as we saw in previous sections, the credible intervals for all methods other than MLE are quite large and include zero so it might be not informative enough. <br>\n",
    "Since MLE doesn't assume any prior over $p_1 \\ and \\ p_2$ it might be better to go with it and say confidently that the odds are in favour of males BMI. <br>\n",
    "In addition, comparing between flat, Jefferys' and Beta priors over $p_1 \\ and \\ p_2$ we can see that the flat and Jefferys' priors achieved quite the same estimators while Beta prior achieved an estimator closer to 1. <br>\n",
    "This could be a result of relying on old data and some knowledge over the parameters which is more informative yet biased than the priors that try to be non-informative."
   ]
  },
  {
   "cell_type": "markdown",
   "id": "5d612134",
   "metadata": {},
   "source": [
    "# Part B"
   ]
  },
  {
   "cell_type": "markdown",
   "id": "48c191bb",
   "metadata": {},
   "source": [
    "For this part we'll choose the following paramaters - \n",
    "3 explaining paramaters :\n",
    "* heartRate - numerical variable indicating this person's heart rate per minute.\n",
    "* cigsPerDay - numerical variable indicating how many cigarates the person is smoking if at all.\n",
    "* BMI - numerical variable indicating this person's BMI. <br> <br>\n",
    "\n",
    "and explained paramater : <br>\n",
    "* totChol - numerical variable indicating total amount of cholesterol in this person's blood (mg/dL)."
   ]
  },
  {
   "cell_type": "markdown",
   "id": "69b1f31a",
   "metadata": {},
   "source": [
    "## Question 1"
   ]
  },
  {
   "cell_type": "code",
   "execution_count": 472,
   "id": "de7c014d",
   "metadata": {},
   "outputs": [],
   "source": [
    "df_part_b = df.dropna().sample(n=1000, random_state=1, replace=False)"
   ]
  },
  {
   "cell_type": "code",
   "execution_count": 473,
   "id": "9ecc3f59",
   "metadata": {},
   "outputs": [
    {
     "data": {
      "text/plain": [
       "<AxesSubplot:title={'center':'total cholesterol'}, xlabel='mg/dL', ylabel='Number of pepole'>"
      ]
     },
     "execution_count": 473,
     "metadata": {},
     "output_type": "execute_result"
    },
    {
     "data": {
      "image/png": "[encoded data removed]",
      "text/plain": [
       "<Figure size 1080x720 with 4 Axes>"
      ]
     },
     "metadata": {
      "needs_background": "light"
     },
     "output_type": "display_data"
    }
   ],
   "source": [
    "fig, axes = plt.subplots(nrows=2, ncols=2, figsize=(15,10))\n",
    "axes[0][0].set_title(\"heart Rate\")\n",
    "axes[0][0].set_xlabel(\"heart Rate per min\")\n",
    "axes[0][0].set_ylabel(\"Number of pepole\")\n",
    "df_part_b[\"heartRate\"].hist(ax=axes[0][0])\n",
    "axes[1][0].set_title(\"cigs per day\")\n",
    "axes[1][0].set_xlabel(\"cigs per day\")\n",
    "axes[1][0].set_ylabel(\"Number of pepole\")\n",
    "df_part_b[\"cigsPerDay\"].hist(ax=axes[1][0])\n",
    "axes[0][1].set_title(\"BMI\")\n",
    "axes[0][1].set_xlabel(\"BMI\")\n",
    "axes[0][1].set_ylabel(\"Number of pepole\")\n",
    "df_part_b[\"BMI\"].hist(ax=axes[0][1])\n",
    "axes[1][1].set_title(\"total cholesterol\")\n",
    "axes[1][1].set_xlabel(\"mg/dL\")\n",
    "axes[1][1].set_ylabel(\"Number of pepole\")\n",
    "df_part_b[\"totChol\"].hist(ax=axes[1][1])"
   ]
  },
  {
   "cell_type": "markdown",
   "id": "7c72fff1",
   "metadata": {},
   "source": [
    "We can see that most all of the continous variables has distribution that resembles the normal distribution. <br>\n",
    "In addition, we can see that the variable `cigs per day`'s histogram looks more like a heavy tail distribution."
   ]
  },
  {
   "cell_type": "markdown",
   "id": "fa05f288",
   "metadata": {},
   "source": [
    "## Question 2"
   ]
  },
  {
   "cell_type": "code",
   "execution_count": 474,
   "id": "15ab844d",
   "metadata": {},
   "outputs": [
    {
     "data": {
      "text/html": [
       "<table class=\"simpletable\">\n",
       "<caption>OLS Regression Results</caption>\n",
       "<tr>\n",
       "  <th>Dep. Variable:</th>         <td>totChol</td>     <th>  R-squared:         </th> <td>   0.017</td> \n",
       "</tr>\n",
       "<tr>\n",
       "  <th>Model:</th>                   <td>OLS</td>       <th>  Adj. R-squared:    </th> <td>   0.014</td> \n",
       "</tr>\n",
       "<tr>\n",
       "  <th>Method:</th>             <td>Least Squares</td>  <th>  F-statistic:       </th> <td>   5.578</td> \n",
       "</tr>\n",
       "<tr>\n",
       "  <th>Date:</th>             <td>Sat, 29 Jan 2022</td> <th>  Prob (F-statistic):</th> <td>0.000853</td> \n",
       "</tr>\n",
       "<tr>\n",
       "  <th>Time:</th>                 <td>18:40:43</td>     <th>  Log-Likelihood:    </th> <td> -5205.5</td> \n",
       "</tr>\n",
       "<tr>\n",
       "  <th>No. Observations:</th>      <td>  1000</td>      <th>  AIC:               </th> <td>1.042e+04</td>\n",
       "</tr>\n",
       "<tr>\n",
       "  <th>Df Residuals:</th>          <td>   996</td>      <th>  BIC:               </th> <td>1.044e+04</td>\n",
       "</tr>\n",
       "<tr>\n",
       "  <th>Df Model:</th>              <td>     3</td>      <th>                     </th>     <td> </td>    \n",
       "</tr>\n",
       "<tr>\n",
       "  <th>Covariance Type:</th>      <td>nonrobust</td>    <th>                     </th>     <td> </td>    \n",
       "</tr>\n",
       "</table>\n",
       "<table class=\"simpletable\">\n",
       "<tr>\n",
       "       <td></td>         <th>coef</th>     <th>std err</th>      <th>t</th>      <th>P>|t|</th>  <th>[0.025</th>    <th>0.975]</th>  \n",
       "</tr>\n",
       "<tr>\n",
       "  <th>const</th>      <td>  187.5730</td> <td>   12.412</td> <td>   15.113</td> <td> 0.000</td> <td>  163.217</td> <td>  211.929</td>\n",
       "</tr>\n",
       "<tr>\n",
       "  <th>heartRate</th>  <td>    0.2787</td> <td>    0.120</td> <td>    2.328</td> <td> 0.020</td> <td>    0.044</td> <td>    0.514</td>\n",
       "</tr>\n",
       "<tr>\n",
       "  <th>BMI</th>        <td>    1.1046</td> <td>    0.357</td> <td>    3.091</td> <td> 0.002</td> <td>    0.403</td> <td>    1.806</td>\n",
       "</tr>\n",
       "<tr>\n",
       "  <th>cigsPerDay</th> <td>   -0.0161</td> <td>    0.119</td> <td>   -0.136</td> <td> 0.892</td> <td>   -0.249</td> <td>    0.217</td>\n",
       "</tr>\n",
       "</table>\n",
       "<table class=\"simpletable\">\n",
       "<tr>\n",
       "  <th>Omnibus:</th>       <td>70.541</td> <th>  Durbin-Watson:     </th> <td>   2.038</td>\n",
       "</tr>\n",
       "<tr>\n",
       "  <th>Prob(Omnibus):</th> <td> 0.000</td> <th>  Jarque-Bera (JB):  </th> <td>  88.183</td>\n",
       "</tr>\n",
       "<tr>\n",
       "  <th>Skew:</th>          <td> 0.632</td> <th>  Prob(JB):          </th> <td>7.10e-20</td>\n",
       "</tr>\n",
       "<tr>\n",
       "  <th>Kurtosis:</th>      <td> 3.722</td> <th>  Cond. No.          </th> <td>    724.</td>\n",
       "</tr>\n",
       "</table><br/><br/>Notes:<br/>[1] Standard Errors assume that the covariance matrix of the errors is correctly specified."
      ],
      "text/plain": [
       "<class 'statsmodels.iolib.summary.Summary'>\n",
       "\"\"\"\n",
       "                            OLS Regression Results                            \n",
       "==============================================================================\n",
       "Dep. Variable:                totChol   R-squared:                       0.017\n",
       "Model:                            OLS   Adj. R-squared:                  0.014\n",
       "Method:                 Least Squares   F-statistic:                     5.578\n",
       "Date:                Sat, 29 Jan 2022   Prob (F-statistic):           0.000853\n",
       "Time:                        18:40:43   Log-Likelihood:                -5205.5\n",
       "No. Observations:                1000   AIC:                         1.042e+04\n",
       "Df Residuals:                     996   BIC:                         1.044e+04\n",
       "Df Model:                           3                                         \n",
       "Covariance Type:            nonrobust                                         \n",
       "==============================================================================\n",
       "                 coef    std err          t      P>|t|      [0.025      0.975]\n",
       "------------------------------------------------------------------------------\n",
       "const        187.5730     12.412     15.113      0.000     163.217     211.929\n",
       "heartRate      0.2787      0.120      2.328      0.020       0.044       0.514\n",
       "BMI            1.1046      0.357      3.091      0.002       0.403       1.806\n",
       "cigsPerDay    -0.0161      0.119     -0.136      0.892      -0.249       0.217\n",
       "==============================================================================\n",
       "Omnibus:                       70.541   Durbin-Watson:                   2.038\n",
       "Prob(Omnibus):                  0.000   Jarque-Bera (JB):               88.183\n",
       "Skew:                           0.632   Prob(JB):                     7.10e-20\n",
       "Kurtosis:                       3.722   Cond. No.                         724.\n",
       "==============================================================================\n",
       "\n",
       "Notes:\n",
       "[1] Standard Errors assume that the covariance matrix of the errors is correctly specified.\n",
       "\"\"\""
      ]
     },
     "execution_count": 474,
     "metadata": {},
     "output_type": "execute_result"
    }
   ],
   "source": [
    "X = sm.add_constant(df_part_b[[\"heartRate\", \"BMI\", \"cigsPerDay\"]])\n",
    "Y = df_part_b[\"totChol\"]\n",
    "model = sm.OLS(Y,X)\n",
    "results = model.fit()\n",
    "original_OLS_estimators = results.params\n",
    "results.summary()"
   ]
  },
  {
   "cell_type": "code",
   "execution_count": 475,
   "id": "c7f99c40",
   "metadata": {},
   "outputs": [],
   "source": [
    "def calc_ci(x, y, y_pred, params, quantile):\n",
    "    sigma = (((y - y_pred).T@(y - y_pred))/(len(y) - x.shape[1]))\n",
    "    c = np.linalg.inv(x.T@x)\n",
    "    ci = []\n",
    "    for i in range(x.shape[1]):\n",
    "        a = params[i] - quantile*(c[i][i]*sigma)**0.5\n",
    "        b = params[i] + quantile*(c[i][i]*sigma)**0.5\n",
    "        ci.append((a, b))\n",
    "    return ci"
   ]
  },
  {
   "cell_type": "code",
   "execution_count": 476,
   "id": "d079aaf7",
   "metadata": {},
   "outputs": [
    {
     "name": "stdout",
     "output_type": "stream",
     "text": [
      "confident interval for paramater: const is (148.07, 227.07)\n",
      "confident interval for paramater: heartRate is (-0.1, 0.66)\n",
      "confident interval for paramater: BMI is (-0.03, 2.24)\n",
      "confident interval for paramater: cigsPerDay is (-0.39, 0.36)\n"
     ]
    }
   ],
   "source": [
    "t_q = t.ppf(0.975, df=3)\n",
    "original_OLS_ci = calc_ci(X, Y, results.predict(), results.params, t_q)\n",
    "for i, (a, b) in enumerate(original_OLS_ci):\n",
    "    print(f\"confident interval for paramater: {results.params.index[i]} is ({np.around(a, 2)}, {np.around(b, 2)})\")"
   ]
  },
  {
   "cell_type": "markdown",
   "id": "17063763",
   "metadata": {},
   "source": [
    "## Question 3"
   ]
  },
  {
   "cell_type": "code",
   "execution_count": 477,
   "id": "ef703a8b",
   "metadata": {},
   "outputs": [],
   "source": [
    "Y_sorted = Y.sort_values()\n",
    "n = len(Y_sorted)\n",
    "remove_indices = []\n",
    "for i, index in enumerate(reversed(Y_sorted.index)):\n",
    "    reversed_i = n - (i)\n",
    "    p_i = (reversed_i)/(2+reversed_i)\n",
    "    if bernoulli.rvs(p_i):\n",
    "        remove_indices.append(index)\n",
    "    if len(remove_indices) == 500:\n",
    "        break"
   ]
  },
  {
   "cell_type": "markdown",
   "id": "114f7be6",
   "metadata": {},
   "source": [
    "## Question 4"
   ]
  },
  {
   "cell_type": "markdown",
   "id": "8119e7af",
   "metadata": {},
   "source": [
    "### Question 4 a"
   ]
  },
  {
   "cell_type": "code",
   "execution_count": 478,
   "id": "1684436d",
   "metadata": {},
   "outputs": [],
   "source": [
    "Y_observed = Y.drop(index=remove_indices)\n",
    "X_observed = X.drop(index=remove_indices)"
   ]
  },
  {
   "cell_type": "code",
   "execution_count": 479,
   "id": "ed1fd990",
   "metadata": {},
   "outputs": [
    {
     "data": {
      "text/html": [
       "<table class=\"simpletable\">\n",
       "<caption>OLS Regression Results</caption>\n",
       "<tr>\n",
       "  <th>Dep. Variable:</th>         <td>totChol</td>     <th>  R-squared:         </th> <td>   0.016</td>\n",
       "</tr>\n",
       "<tr>\n",
       "  <th>Model:</th>                   <td>OLS</td>       <th>  Adj. R-squared:    </th> <td>   0.010</td>\n",
       "</tr>\n",
       "<tr>\n",
       "  <th>Method:</th>             <td>Least Squares</td>  <th>  F-statistic:       </th> <td>   2.648</td>\n",
       "</tr>\n",
       "<tr>\n",
       "  <th>Date:</th>             <td>Sat, 29 Jan 2022</td> <th>  Prob (F-statistic):</th>  <td>0.0484</td> \n",
       "</tr>\n",
       "<tr>\n",
       "  <th>Time:</th>                 <td>18:40:43</td>     <th>  Log-Likelihood:    </th> <td> -2229.7</td>\n",
       "</tr>\n",
       "<tr>\n",
       "  <th>No. Observations:</th>      <td>   500</td>      <th>  AIC:               </th> <td>   4467.</td>\n",
       "</tr>\n",
       "<tr>\n",
       "  <th>Df Residuals:</th>          <td>   496</td>      <th>  BIC:               </th> <td>   4484.</td>\n",
       "</tr>\n",
       "<tr>\n",
       "  <th>Df Model:</th>              <td>     3</td>      <th>                     </th>     <td> </td>   \n",
       "</tr>\n",
       "<tr>\n",
       "  <th>Covariance Type:</th>      <td>nonrobust</td>    <th>                     </th>     <td> </td>   \n",
       "</tr>\n",
       "</table>\n",
       "<table class=\"simpletable\">\n",
       "<tr>\n",
       "       <td></td>         <th>coef</th>     <th>std err</th>      <th>t</th>      <th>P>|t|</th>  <th>[0.025</th>    <th>0.975]</th>  \n",
       "</tr>\n",
       "<tr>\n",
       "  <th>const</th>      <td>  198.4525</td> <td>    7.946</td> <td>   24.976</td> <td> 0.000</td> <td>  182.841</td> <td>  214.064</td>\n",
       "</tr>\n",
       "<tr>\n",
       "  <th>heartRate</th>  <td>   -0.1332</td> <td>    0.083</td> <td>   -1.605</td> <td> 0.109</td> <td>   -0.296</td> <td>    0.030</td>\n",
       "</tr>\n",
       "<tr>\n",
       "  <th>BMI</th>        <td>    0.5561</td> <td>    0.228</td> <td>    2.434</td> <td> 0.015</td> <td>    0.107</td> <td>    1.005</td>\n",
       "</tr>\n",
       "<tr>\n",
       "  <th>cigsPerDay</th> <td>   -0.0165</td> <td>    0.079</td> <td>   -0.209</td> <td> 0.834</td> <td>   -0.171</td> <td>    0.138</td>\n",
       "</tr>\n",
       "</table>\n",
       "<table class=\"simpletable\">\n",
       "<tr>\n",
       "  <th>Omnibus:</th>       <td>37.378</td> <th>  Durbin-Watson:     </th> <td>   1.871</td>\n",
       "</tr>\n",
       "<tr>\n",
       "  <th>Prob(Omnibus):</th> <td> 0.000</td> <th>  Jarque-Bera (JB):  </th> <td>  44.370</td>\n",
       "</tr>\n",
       "<tr>\n",
       "  <th>Skew:</th>          <td>-0.729</td> <th>  Prob(JB):          </th> <td>2.32e-10</td>\n",
       "</tr>\n",
       "<tr>\n",
       "  <th>Kurtosis:</th>      <td> 3.056</td> <th>  Cond. No.          </th> <td>    680.</td>\n",
       "</tr>\n",
       "</table><br/><br/>Notes:<br/>[1] Standard Errors assume that the covariance matrix of the errors is correctly specified."
      ],
      "text/plain": [
       "<class 'statsmodels.iolib.summary.Summary'>\n",
       "\"\"\"\n",
       "                            OLS Regression Results                            \n",
       "==============================================================================\n",
       "Dep. Variable:                totChol   R-squared:                       0.016\n",
       "Model:                            OLS   Adj. R-squared:                  0.010\n",
       "Method:                 Least Squares   F-statistic:                     2.648\n",
       "Date:                Sat, 29 Jan 2022   Prob (F-statistic):             0.0484\n",
       "Time:                        18:40:43   Log-Likelihood:                -2229.7\n",
       "No. Observations:                 500   AIC:                             4467.\n",
       "Df Residuals:                     496   BIC:                             4484.\n",
       "Df Model:                           3                                         \n",
       "Covariance Type:            nonrobust                                         \n",
       "==============================================================================\n",
       "                 coef    std err          t      P>|t|      [0.025      0.975]\n",
       "------------------------------------------------------------------------------\n",
       "const        198.4525      7.946     24.976      0.000     182.841     214.064\n",
       "heartRate     -0.1332      0.083     -1.605      0.109      -0.296       0.030\n",
       "BMI            0.5561      0.228      2.434      0.015       0.107       1.005\n",
       "cigsPerDay    -0.0165      0.079     -0.209      0.834      -0.171       0.138\n",
       "==============================================================================\n",
       "Omnibus:                       37.378   Durbin-Watson:                   1.871\n",
       "Prob(Omnibus):                  0.000   Jarque-Bera (JB):               44.370\n",
       "Skew:                          -0.729   Prob(JB):                     2.32e-10\n",
       "Kurtosis:                       3.056   Cond. No.                         680.\n",
       "==============================================================================\n",
       "\n",
       "Notes:\n",
       "[1] Standard Errors assume that the covariance matrix of the errors is correctly specified.\n",
       "\"\"\""
      ]
     },
     "execution_count": 479,
     "metadata": {},
     "output_type": "execute_result"
    }
   ],
   "source": [
    "model_missing_data = sm.OLS(Y_observed,X_observed)\n",
    "results_missing_data = model_missing_data.fit()\n",
    "a_OLS_estimators = results_missing_data.params\n",
    "results_missing_data.summary()"
   ]
  },
  {
   "cell_type": "code",
   "execution_count": 480,
   "id": "4535ed8f",
   "metadata": {},
   "outputs": [
    {
     "name": "stdout",
     "output_type": "stream",
     "text": [
      "confidence interval for paramater with missing data: const is (173.17, 223.74)\n",
      "confidence interval for paramater with missing data: heartRate is (-0.4, 0.13)\n",
      "confidence interval for paramater with missing data: BMI is (-0.17, 1.28)\n",
      "confidence interval for paramater with missing data: cigsPerDay is (-0.27, 0.23)\n"
     ]
    }
   ],
   "source": [
    "a_OLS_ci = calc_ci(X_observed, Y_observed, results_missing_data.predict(), results_missing_data.params, t_q)\n",
    "for i, (a, b) in enumerate(a_OLS_ci):\n",
    "    print(f\"confidence interval for paramater with missing data: {results_missing_data.params.index[i]} is ({np.around(a, 2)}, {np.around(b, 2)})\")"
   ]
  },
  {
   "cell_type": "markdown",
   "id": "703f8c6a",
   "metadata": {},
   "source": [
    "### Question 4 b"
   ]
  },
  {
   "cell_type": "code",
   "execution_count": 481,
   "id": "06666a82",
   "metadata": {},
   "outputs": [],
   "source": [
    "X_missing_data = X[X.index.isin(remove_indices)]\n",
    "Y_missing_data = Y[Y.index.isin(remove_indices)]\n",
    "Y_missing_predictions = results_missing_data.predict(X_missing_data)"
   ]
  },
  {
   "cell_type": "code",
   "execution_count": 482,
   "id": "070e460c",
   "metadata": {},
   "outputs": [],
   "source": [
    "Y_imputed = pd.concat([Y_observed, Y_missing_predictions])\n",
    "X_imputed = pd.concat([X_observed, X_missing_data])"
   ]
  },
  {
   "cell_type": "code",
   "execution_count": 483,
   "id": "1f86df23",
   "metadata": {},
   "outputs": [
    {
     "data": {
      "text/html": [
       "<table class=\"simpletable\">\n",
       "<caption>OLS Regression Results</caption>\n",
       "<tr>\n",
       "  <th>Dep. Variable:</th>            <td>y</td>        <th>  R-squared:         </th> <td>   0.030</td>\n",
       "</tr>\n",
       "<tr>\n",
       "  <th>Model:</th>                   <td>OLS</td>       <th>  Adj. R-squared:    </th> <td>   0.027</td>\n",
       "</tr>\n",
       "<tr>\n",
       "  <th>Method:</th>             <td>Least Squares</td>  <th>  F-statistic:       </th> <td>   10.38</td>\n",
       "</tr>\n",
       "<tr>\n",
       "  <th>Date:</th>             <td>Sat, 29 Jan 2022</td> <th>  Prob (F-statistic):</th> <td>1.00e-06</td>\n",
       "</tr>\n",
       "<tr>\n",
       "  <th>Time:</th>                 <td>18:40:43</td>     <th>  Log-Likelihood:    </th> <td> -4112.9</td>\n",
       "</tr>\n",
       "<tr>\n",
       "  <th>No. Observations:</th>      <td>  1000</td>      <th>  AIC:               </th> <td>   8234.</td>\n",
       "</tr>\n",
       "<tr>\n",
       "  <th>Df Residuals:</th>          <td>   996</td>      <th>  BIC:               </th> <td>   8253.</td>\n",
       "</tr>\n",
       "<tr>\n",
       "  <th>Df Model:</th>              <td>     3</td>      <th>                     </th>     <td> </td>   \n",
       "</tr>\n",
       "<tr>\n",
       "  <th>Covariance Type:</th>      <td>nonrobust</td>    <th>                     </th>     <td> </td>   \n",
       "</tr>\n",
       "</table>\n",
       "<table class=\"simpletable\">\n",
       "<tr>\n",
       "       <td></td>         <th>coef</th>     <th>std err</th>      <th>t</th>      <th>P>|t|</th>  <th>[0.025</th>    <th>0.975]</th>  \n",
       "</tr>\n",
       "<tr>\n",
       "  <th>const</th>      <td>  198.4525</td> <td>    4.162</td> <td>   47.681</td> <td> 0.000</td> <td>  190.285</td> <td>  206.620</td>\n",
       "</tr>\n",
       "<tr>\n",
       "  <th>heartRate</th>  <td>   -0.1332</td> <td>    0.040</td> <td>   -3.320</td> <td> 0.001</td> <td>   -0.212</td> <td>   -0.054</td>\n",
       "</tr>\n",
       "<tr>\n",
       "  <th>BMI</th>        <td>    0.5561</td> <td>    0.120</td> <td>    4.641</td> <td> 0.000</td> <td>    0.321</td> <td>    0.791</td>\n",
       "</tr>\n",
       "<tr>\n",
       "  <th>cigsPerDay</th> <td>   -0.0165</td> <td>    0.040</td> <td>   -0.415</td> <td> 0.679</td> <td>   -0.095</td> <td>    0.062</td>\n",
       "</tr>\n",
       "</table>\n",
       "<table class=\"simpletable\">\n",
       "<tr>\n",
       "  <th>Omnibus:</th>       <td>204.663</td> <th>  Durbin-Watson:     </th> <td>   1.871</td> \n",
       "</tr>\n",
       "<tr>\n",
       "  <th>Prob(Omnibus):</th> <td> 0.000</td>  <th>  Jarque-Bera (JB):  </th> <td> 580.960</td> \n",
       "</tr>\n",
       "<tr>\n",
       "  <th>Skew:</th>          <td>-1.031</td>  <th>  Prob(JB):          </th> <td>7.02e-127</td>\n",
       "</tr>\n",
       "<tr>\n",
       "  <th>Kurtosis:</th>      <td> 6.113</td>  <th>  Cond. No.          </th> <td>    724.</td> \n",
       "</tr>\n",
       "</table><br/><br/>Notes:<br/>[1] Standard Errors assume that the covariance matrix of the errors is correctly specified."
      ],
      "text/plain": [
       "<class 'statsmodels.iolib.summary.Summary'>\n",
       "\"\"\"\n",
       "                            OLS Regression Results                            \n",
       "==============================================================================\n",
       "Dep. Variable:                      y   R-squared:                       0.030\n",
       "Model:                            OLS   Adj. R-squared:                  0.027\n",
       "Method:                 Least Squares   F-statistic:                     10.38\n",
       "Date:                Sat, 29 Jan 2022   Prob (F-statistic):           1.00e-06\n",
       "Time:                        18:40:43   Log-Likelihood:                -4112.9\n",
       "No. Observations:                1000   AIC:                             8234.\n",
       "Df Residuals:                     996   BIC:                             8253.\n",
       "Df Model:                           3                                         \n",
       "Covariance Type:            nonrobust                                         \n",
       "==============================================================================\n",
       "                 coef    std err          t      P>|t|      [0.025      0.975]\n",
       "------------------------------------------------------------------------------\n",
       "const        198.4525      4.162     47.681      0.000     190.285     206.620\n",
       "heartRate     -0.1332      0.040     -3.320      0.001      -0.212      -0.054\n",
       "BMI            0.5561      0.120      4.641      0.000       0.321       0.791\n",
       "cigsPerDay    -0.0165      0.040     -0.415      0.679      -0.095       0.062\n",
       "==============================================================================\n",
       "Omnibus:                      204.663   Durbin-Watson:                   1.871\n",
       "Prob(Omnibus):                  0.000   Jarque-Bera (JB):              580.960\n",
       "Skew:                          -1.031   Prob(JB):                    7.02e-127\n",
       "Kurtosis:                       6.113   Cond. No.                         724.\n",
       "==============================================================================\n",
       "\n",
       "Notes:\n",
       "[1] Standard Errors assume that the covariance matrix of the errors is correctly specified.\n",
       "\"\"\""
      ]
     },
     "execution_count": 483,
     "metadata": {},
     "output_type": "execute_result"
    }
   ],
   "source": [
    "model_imputed = sm.OLS(Y_imputed,X_imputed)\n",
    "results_imputed = model_imputed.fit()\n",
    "b_OLS_estimators = results_imputed.params\n",
    "results_imputed.summary()"
   ]
  },
  {
   "cell_type": "code",
   "execution_count": 484,
   "id": "35699bfb",
   "metadata": {},
   "outputs": [
    {
     "name": "stdout",
     "output_type": "stream",
     "text": [
      "confidence interval for paramater with regresssion imputation: const is (185.21, 211.7)\n",
      "confidence interval for paramater with regresssion imputation: heartRate is (-0.26, -0.01)\n",
      "confidence interval for paramater with regresssion imputation: BMI is (0.17, 0.94)\n",
      "confidence interval for paramater with regresssion imputation: cigsPerDay is (-0.14, 0.11)\n"
     ]
    }
   ],
   "source": [
    "b_OLS_ci = calc_ci(X_imputed, Y_imputed, results_imputed.predict(), results_imputed.params, t_q)\n",
    "for i, (a, b) in enumerate(b_OLS_ci):\n",
    "    print(f\"confidence interval for paramater with regresssion imputation: {results_imputed.params.index[i]} is ({np.around(a, 2)}, {np.around(b, 2)})\")"
   ]
  },
  {
   "cell_type": "markdown",
   "id": "fea88f3e",
   "metadata": {},
   "source": [
    "### Question 4 c + d"
   ]
  },
  {
   "cell_type": "code",
   "execution_count": 485,
   "id": "bdaa5b4d",
   "metadata": {},
   "outputs": [],
   "source": [
    "sigma = ((results_missing_data.resid.values.T@results_missing_data.resid.values)/(len(Y_observed) - X_observed.shape[1]))**0.5\n",
    "M = 50\n",
    "X_M = []\n",
    "Y_M = []\n",
    "for i in range(M):\n",
    "    X_i = pd.concat([X_observed, X_missing_data])\n",
    "    Y_i = []\n",
    "    mus = results_missing_data.predict(X_missing_data)\n",
    "    for mu in mus.values:\n",
    "        Y_M_pred = norm.rvs(loc=mu, scale=sigma)\n",
    "        Y_i.append(Y_M_pred)\n",
    "    Y_i = np.concatenate([Y_observed, Y_i])\n",
    "    X_M.append(X_i)\n",
    "    Y_M.append(Y_i)"
   ]
  },
  {
   "cell_type": "code",
   "execution_count": 486,
   "id": "e3d62c84",
   "metadata": {},
   "outputs": [
    {
     "name": "stdout",
     "output_type": "stream",
     "text": [
      "[[ 7.88810663e-02 -4.95012974e-04 -1.53579579e-03 -9.30532817e-05]\n",
      " [-4.95012974e-04  7.33481953e-06 -2.21641749e-06 -5.36954448e-07]\n",
      " [-1.53579579e-03 -2.21641749e-06  6.53752795e-05  2.67891080e-06]\n",
      " [-9.30532817e-05 -5.36954448e-07  2.67891080e-06  7.20609187e-06]]\n"
     ]
    }
   ],
   "source": [
    "b_params = []\n",
    "b_params_names = [\"const\", \"heartRate\", \"BMI\", \"cigsPerDay\"]\n",
    "cov_matrix = np.linalg.inv(X_M[0].T@X_M[0])\n",
    "print(cov_matrix)\n",
    "var_matrices = []\n",
    "for X_i, Y_i in zip(X_M, Y_M):\n",
    "    model_multi_imputed = sm.OLS(Y_i,X_i)\n",
    "    results_multi_imputed = model_multi_imputed.fit()\n",
    "    sigma = (results_multi_imputed.resid.values.T@results_multi_imputed.resid.values)/(len(Y_i) - X_i.shape[1])\n",
    "    var_matrices.append(sigma*cov_matrix)\n",
    "    b_params.append(results_multi_imputed.params.values)"
   ]
  },
  {
   "cell_type": "code",
   "execution_count": 487,
   "id": "227283d1",
   "metadata": {
    "scrolled": false
   },
   "outputs": [
    {
     "name": "stdout",
     "output_type": "stream",
     "text": [
      "The paramaters estimator using MI for const, is 199.52\n",
      "The paramaters estimator using MI for heartRate, is -0.14\n",
      "The paramaters estimator using MI for BMI, is 0.54\n",
      "The paramaters estimator using MI for cigsPerDay, is -0.02\n"
     ]
    }
   ],
   "source": [
    "c_OLS_estimators = np.mean(b_params, axis=0)\n",
    "for param_name, value in zip(b_params_names, c_OLS_estimators):\n",
    "    print(f\"The paramaters estimator using MI for {param_name}, is {np.around(value, 2)}\")\n",
    "c_OLS_estimators = pd.Series(data=np.mean(b_params, axis=0), index=[b_params_names])"
   ]
  },
  {
   "cell_type": "code",
   "execution_count": 488,
   "id": "0b54fd8a",
   "metadata": {},
   "outputs": [],
   "source": [
    "def calc_robin_se(M, M_params: list, MI_params: np.array, var_matrices: list):\n",
    "    coefficient = (M+1)/(M*(M-1))\n",
    "    params_var = [0]*MI_params.shape[0]\n",
    "    params_se = []\n",
    "    for m in range(M):\n",
    "        for i in range(MI_params.shape[0]):\n",
    "            params_var[i] += ((var_matrices[m][i][i]))/M + coefficient*(M_params[m][i] - MI_params[i])**2\n",
    "    for i in range(MI_params.shape[0]):\n",
    "        params_se.append(np.sqrt(params_var[i]))\n",
    "    return params_se"
   ]
  },
  {
   "cell_type": "code",
   "execution_count": 489,
   "id": "f4c2749e",
   "metadata": {},
   "outputs": [],
   "source": [
    "params_se = calc_robin_se(M, b_params, c_OLS_estimators, var_matrices)"
   ]
  },
  {
   "cell_type": "code",
   "execution_count": 490,
   "id": "12d4120c",
   "metadata": {},
   "outputs": [
    {
     "name": "stdout",
     "output_type": "stream",
     "text": [
      "confidence interval for paramater with multiple imputation: const is (177.54, 221.5)\n",
      "confidence interval for paramater with multiple imputation: heartRate is (-0.35, 0.07)\n",
      "confidence interval for paramater with multiple imputation: BMI is (-0.07, 1.15)\n",
      "confidence interval for paramater with multiple imputation: cigsPerDay is (-0.23, 0.2)\n"
     ]
    }
   ],
   "source": [
    "c_OLS_ci = []\n",
    "for i in range(c_OLS_estimators.shape[0]):\n",
    "    a = c_OLS_estimators[i] - t_q*params_se[i]\n",
    "    b = c_OLS_estimators[i] + t_q*params_se[i]\n",
    "    c_OLS_ci.append((a, b))\n",
    "    print(f\"confidence interval for paramater with multiple imputation: {b_params_names[i]} is ({np.around(a, 2)}, {np.around(b, 2)})\")"
   ]
  },
  {
   "cell_type": "markdown",
   "id": "997373e2",
   "metadata": {},
   "source": [
    "### Question 4 e"
   ]
  },
  {
   "cell_type": "code",
   "execution_count": 491,
   "id": "0cd05500",
   "metadata": {},
   "outputs": [],
   "source": [
    "X_R = X.index.isin(remove_indices)"
   ]
  },
  {
   "cell_type": "code",
   "execution_count": 492,
   "id": "9b9a26b4",
   "metadata": {},
   "outputs": [],
   "source": [
    "clf = LogisticRegression(random_state=0).fit(X, X_R)"
   ]
  },
  {
   "cell_type": "markdown",
   "id": "18f8db15",
   "metadata": {},
   "source": [
    "Extracting only the probability for a record to apear in the data:"
   ]
  },
  {
   "cell_type": "code",
   "execution_count": 493,
   "id": "4e165414",
   "metadata": {},
   "outputs": [],
   "source": [
    "pi_1 = clf.predict_proba(X).T[1]"
   ]
  },
  {
   "cell_type": "markdown",
   "id": "2d5ca834",
   "metadata": {},
   "source": [
    "### Question 4 f"
   ]
  },
  {
   "cell_type": "markdown",
   "id": "f78c2d66",
   "metadata": {},
   "source": [
    "We know that the OLS estimator with no missing data is: <br> \n",
    "$\\hat{w}=\\underset{w}{\\arg\\min}\\frac{1}{n}\\sum_{i=1}^{n}(Y_i - w^TX_i)^2$. <br>\n",
    "With the missing data we will use the IPW estimator: <br>\n",
    "$\\hat{w}=\\underset{w}{\\arg\\min}\\frac{1}{n}\\sum_{i=1}^{n}\\frac{(Y_i - w^TX_i)^2R_i}{\\hat{\\pi}(X_i)}$<br>\n",
    "When $\\hat{\\pi}(X_i)$ is the logistic regression model from the previous section."
   ]
  },
  {
   "cell_type": "code",
   "execution_count": 494,
   "id": "f2c78e51",
   "metadata": {},
   "outputs": [],
   "source": [
    "def calculate_ipw_estimator(X_observed, Y_observed, ipw_weights_observed):\n",
    "    model = sm.WLS(Y_observed,X_observed, weights=ipw_weights_observed)\n",
    "    results = model.fit()\n",
    "    return results.params"
   ]
  },
  {
   "cell_type": "code",
   "execution_count": 495,
   "id": "0fc0e9da",
   "metadata": {},
   "outputs": [],
   "source": [
    "e_OLS_estimators = calculate_ipw_estimator(X_observed, Y_observed, pi_1[X_R])"
   ]
  },
  {
   "cell_type": "code",
   "execution_count": 496,
   "id": "01f88890",
   "metadata": {},
   "outputs": [
    {
     "name": "stdout",
     "output_type": "stream",
     "text": [
      "IPW estimator for const is 198.68\n",
      "IPW estimator for heartRate is -0.13\n",
      "IPW estimator for BMI is 0.53\n",
      "IPW estimator for cigsPerDay is -0.01\n"
     ]
    }
   ],
   "source": [
    "for i, p in enumerate(e_OLS_estimators):\n",
    "    print(f\"IPW estimator for {b_params_names[i]} is {np.round(p, 2)}\")"
   ]
  },
  {
   "cell_type": "markdown",
   "id": "33ecd61f",
   "metadata": {},
   "source": [
    "### Question 4 g"
   ]
  },
  {
   "cell_type": "markdown",
   "id": "fe2930cb",
   "metadata": {},
   "source": [
    "Let's use quantile bootstrap method for the confident interval"
   ]
  },
  {
   "cell_type": "code",
   "execution_count": 497,
   "id": "39ba28e8",
   "metadata": {},
   "outputs": [],
   "source": [
    "B = 1000\n",
    "param_hist = []\n",
    "bootstrap_data = pd.concat([X_observed, Y_observed], axis=1)\n",
    "bootstrap_data[\"weights\"] = pi_1[X_R]\n",
    "for _ in range(B):\n",
    "    temp_data = bootstrap_data.sample(n=len(bootstrap_data), replace=True)\n",
    "    X_bootstrap = temp_data[['const', 'heartRate', 'BMI', 'cigsPerDay']]\n",
    "    Y_bootstrap = temp_data['totChol']\n",
    "    weights = temp_data['weights']\n",
    "    param_hist.append(calculate_ipw_estimator(X_bootstrap, Y_bootstrap, weights))"
   ]
  },
  {
   "cell_type": "code",
   "execution_count": 498,
   "id": "71f6335d",
   "metadata": {},
   "outputs": [
    {
     "name": "stdout",
     "output_type": "stream",
     "text": [
      "IPW confident interval estimator for const is (181.62, 210.43)\n",
      "IPW confident interval estimator for heartRate is (-0.29, -0.0)\n",
      "IPW confident interval estimator for BMI is (0.06, 0.86)\n",
      "IPW confident interval estimator for cigsPerDay is (-0.16, 0.09)\n"
     ]
    }
   ],
   "source": [
    "a = np.quantile(param_hist, axis=0, q=0.025)\n",
    "b = np.quantile(param_hist, axis=0, q=0.925)\n",
    "e_OLS_ci = list(zip(a, b))\n",
    "for i, (a_i, b_i) in enumerate(zip(a, b)):\n",
    "    print(f\"IPW confident interval estimator for {b_params_names[i]} is ({np.round(a_i, 2)}, {np.round(b_i, 2)})\")"
   ]
  },
  {
   "cell_type": "markdown",
   "id": "33895287",
   "metadata": {},
   "source": [
    "### Question 4 h"
   ]
  },
  {
   "cell_type": "code",
   "execution_count": 499,
   "id": "40f61c8e",
   "metadata": {},
   "outputs": [
    {
     "name": "stdout",
     "output_type": "stream",
     "text": [
      "The original OLS estimators are: \n",
      "const         187.573014\n",
      "heartRate       0.278678\n",
      "BMI             1.104632\n",
      "cigsPerDay     -0.016091\n",
      "dtype: float64\n",
      "The missing data OLS estimators are: \n",
      "const         198.452465\n",
      "heartRate      -0.133248\n",
      "BMI             0.556070\n",
      "cigsPerDay     -0.016491\n",
      "dtype: float64\n",
      "The regression imputation OLS estimators are: \n",
      "const         198.452465\n",
      "heartRate      -0.133248\n",
      "BMI             0.556070\n",
      "cigsPerDay     -0.016491\n",
      "dtype: float64\n",
      "The multiple ipmutation OLS estimators are: \n",
      "const         199.518696\n",
      "heartRate      -0.141539\n",
      "BMI             0.540593\n",
      "cigsPerDay     -0.016379\n",
      "dtype: float64\n",
      "The IPW OLS estimators are: \n",
      "const         198.678827\n",
      "heartRate      -0.131551\n",
      "BMI             0.534727\n",
      "cigsPerDay     -0.008766\n",
      "dtype: float64\n"
     ]
    }
   ],
   "source": [
    "print(f\"The original OLS estimators are: \\n{original_OLS_estimators}\")\n",
    "print(f\"The missing data OLS estimators are: \\n{a_OLS_estimators}\")\n",
    "print(f\"The regression imputation OLS estimators are: \\n{b_OLS_estimators}\")\n",
    "print(f\"The multiple ipmutation OLS estimators are: \\n{c_OLS_estimators}\")\n",
    "print(f\"The IPW OLS estimators are: \\n{e_OLS_estimators}\")"
   ]
  },
  {
   "cell_type": "markdown",
   "id": "42c079a9",
   "metadata": {},
   "source": [
    "We can notice the following observations:\n",
    "1. First of all, the magnitude of all estimators are the same. For example the $\\beta_{const}$ based on all methods is $O(\\beta_{const}^{original})$ .\n",
    "2. Morever, comparing all $\\beta_{const}$ across the methods (excluding the original one) we can see they all agree about it within a margin of 1.\n",
    "3. In addition, we can see that the estimators based on the missing data are the same as the estimators based on regression imputation. This makes a lot of sense, since we imputated $y_i$ by the regression prediction trained on the missing data. <br> This will definitely result in data points which are always on the regression line, which should not impact on the new trained model.\n",
    "4. As we can see all methods quite agree on the estimators but they are very different from the estimators based on the original data. This could implicate that the 500 data points extracted to use those methods (namely observed data) has bias, thus resulting in different estimators.'\n",
    "\n",
    "<br>\n",
    "Since all methods resulted in very similar estimators we do not see any preferences of any method over the others. The fact that they are not very informative could be a result of wrong models assumptions."
   ]
  },
  {
   "cell_type": "code",
   "execution_count": 500,
   "id": "8ab407d2",
   "metadata": {},
   "outputs": [],
   "source": [
    "ci_list = [original_OLS_ci, a_OLS_ci, b_OLS_ci, c_OLS_ci, e_OLS_ci]\n",
    "ci_names = ['Original', 'Missing data', 'regression imputation', 'Multiple imputation', 'IPW']\n",
    "data_dict = {}\n",
    "data_dict['beta_i'] = ['beta 0','beta 1','beta 2', 'beta 3']\n",
    "for (name, li) in zip(ci_names, ci_list):\n",
    "    data_dict[name+'_lower'] = [x[0] for x in li]\n",
    "    data_dict[name+'_upper'] = [x[1] for x in li]\n",
    "ci_df = pd.DataFrame(data_dict)"
   ]
  },
  {
   "cell_type": "code",
   "execution_count": 501,
   "id": "03695185",
   "metadata": {},
   "outputs": [
    {
     "data": {
      "image/png": "[encoded data removed]",
      "text/plain": [
       "<Figure size 1440x1440 with 4 Axes>"
      ]
     },
     "metadata": {
      "needs_background": "light"
     },
     "output_type": "display_data"
    }
   ],
   "source": [
    "fig, ax = plt.subplots(2, 2, sharey=True, figsize=(20,20))\n",
    "row_idx = 0\n",
    "col_idx = 0\n",
    "for i, row in ci_df.iterrows():\n",
    "    for y, ci_name in enumerate(ci_names):\n",
    "        ax[row_idx][col_idx].plot((row[ci_name+'_lower'], row[ci_name+'_upper']), (y,y), label=f\"Length={np.around(row[ci_name+'_upper']-row[ci_name+'_lower'],2)}\")\n",
    "    ax[row_idx][col_idx].set_title(row['beta_i'] + ' confidence intervals', fontsize=16)\n",
    "    ax[row_idx][col_idx].set_xlabel('x', fontsize=16)\n",
    "    ax[row_idx][col_idx].set_ylabel('Method', fontsize=16)\n",
    "    ax[row_idx][col_idx].tick_params(axis='both', which='major', labelsize=16)\n",
    "    ax[row_idx][col_idx].legend(fontsize=16)\n",
    "    ax[row_idx][col_idx].axvline(original_OLS_estimators[i], color='black')\n",
    "    col_idx += 1\n",
    "    if i%2:\n",
    "        col_idx = 0\n",
    "        row_idx += 1\n",
    "plt.yticks(range(len(ci_names)),ci_names)\n",
    "plt.show()"
   ]
  },
  {
   "cell_type": "markdown",
   "id": "ef0a7ae4",
   "metadata": {},
   "source": [
    "We can notice the following observations:\n",
    "1. First of all, the original confidence interval are much larger than the confidence intervals based on all other methods. This might be since the data in the original model is twice larger than the \"observed\" data that used in other methods, and as result it might have higher variance.\n",
    "2. We can see that we have very large overlap at most cases between the original confidence intervals and the confidence intervals based on each method (and even complete containment).\n",
    "3. There isn't a significant method which has the smallest confidence interval."
   ]
  }
 ],
 "metadata": {
  "kernelspec": {
   "display_name": "Python 3 (ipykernel)",
   "language": "python",
   "name": "python3"
  },
  "language_info": {
   "codemirror_mode": {
    "name": "ipython",
    "version": 3
   },
   "file_extension": ".py",
   "mimetype": "text/x-python",
   "name": "python",
   "nbconvert_exporter": "python",
   "pygments_lexer": "ipython3",
   "version": "3.9.10"
  }
 },
 "nbformat": 4,
 "nbformat_minor": 5
}
