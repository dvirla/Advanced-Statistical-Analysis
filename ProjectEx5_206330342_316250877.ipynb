{
 "cells": [
  {
   "cell_type": "code",
   "execution_count": 59,
   "id": "d1bb50e8",
   "metadata": {},
   "outputs": [],
   "source": [
    "import pandas as pd\n",
    "from math import log\n",
    "import numpy as np\n",
    "from scipy.stats import beta"
   ]
  },
  {
   "cell_type": "code",
   "execution_count": 3,
   "id": "b0f58514",
   "metadata": {},
   "outputs": [],
   "source": [
    "df = pd.read_csv('framingham_heart_disease.csv')"
   ]
  },
  {
   "cell_type": "markdown",
   "id": "9035d4f1",
   "metadata": {},
   "source": [
    "# Part A"
   ]
  },
  {
   "cell_type": "markdown",
   "id": "bec5e92c",
   "metadata": {},
   "source": [
    "# Hypothesis question:\n",
    "## Third Experimental question - Does BMI (X) change between gender (Y)"
   ]
  },
  {
   "cell_type": "markdown",
   "id": "bcde2b83",
   "metadata": {},
   "source": [
    "## Question 1"
   ]
  },
  {
   "cell_type": "code",
   "execution_count": 18,
   "id": "3fe0fcc9",
   "metadata": {},
   "outputs": [],
   "source": [
    "df_observed = df.sample(n=100, random_state=1)\n",
    "df_old_observation = df.drop(df_observed.index).sample(n=1000, random_state=1)"
   ]
  },
  {
   "cell_type": "markdown",
   "id": "28bdee90",
   "metadata": {},
   "source": [
    "## Question 2 a"
   ]
  },
  {
   "cell_type": "markdown",
   "id": "8360328d",
   "metadata": {},
   "source": [
    "Let's define $\\tau$ as the median of the bmi, and j=1 as male and j=2 as female"
   ]
  },
  {
   "cell_type": "code",
   "execution_count": 21,
   "id": "309f5275",
   "metadata": {},
   "outputs": [],
   "source": [
    "tau = df_old_observation[\"BMI\"].median()"
   ]
  },
  {
   "cell_type": "markdown",
   "id": "160ace7d",
   "metadata": {},
   "source": [
    "As we seen in class, the MLE estimator of $\\psi$ is $log(\\frac{(n - {X^{2}_{\\tau}}){X^{1}_{\\tau}}}{(m - {X^{1}_{\\tau}}){X^{2}_{\\tau}}})$ when:<br> m is number of male <br> n is number of female <br> $X^{1}_{\\tau}=\\sum_{i=1}^{m}I\\{x_{i}^1>\\tau\\}$<br> $X^{2}_{\\tau}=\\sum_{i=1}^{n}I\\{x_{i}^{2}>\\tau\\}$."
   ]
  },
  {
   "cell_type": "code",
   "execution_count": 36,
   "id": "295f9023",
   "metadata": {},
   "outputs": [],
   "source": [
    "def calcualte_phi_mle(temp_df, tau):\n",
    "    x_1 = len(temp_df[(temp_df[\"male\"] == 1) & (temp_df[\"BMI\"] > tau)][\"BMI\"])\n",
    "    x_2 = len(temp_df[(temp_df[\"male\"] == 0) & (temp_df[\"BMI\"] > tau)][\"BMI\"])\n",
    "    m = len(temp_df[temp_df[\"male\"] == 1])\n",
    "    n = len(temp_df[temp_df[\"male\"] == 0])\n",
    "    phi = log((x_1*(n - x_2))/(x_2)*(m- x_1))\n",
    "    return phi, n, m"
   ]
  },
  {
   "cell_type": "code",
   "execution_count": 37,
   "id": "dbc1945f",
   "metadata": {},
   "outputs": [],
   "source": [
    "phi, n, m = calcualte_phi_mle(df, tau)"
   ]
  },
  {
   "cell_type": "code",
   "execution_count": 38,
   "id": "341693a2",
   "metadata": {},
   "outputs": [
    {
     "name": "stdout",
     "output_type": "stream",
     "text": [
      "number of male: 2419, number of female: 1819\n"
     ]
    }
   ],
   "source": [
    "print(f\"number of male: {n}, number of female: {m}\")"
   ]
  },
  {
   "cell_type": "code",
   "execution_count": 39,
   "id": "7b312ad0",
   "metadata": {},
   "outputs": [
    {
     "data": {
      "text/plain": [
       "13.96508385570071"
      ]
     },
     "execution_count": 39,
     "metadata": {},
     "output_type": "execute_result"
    }
   ],
   "source": [
    "phi"
   ]
  },
  {
   "cell_type": "markdown",
   "id": "bbeeca7c",
   "metadata": {},
   "source": [
    "We can see that log Odd ratio is bigger then zero, from that can can infer that the males BMI are more likely to be bigger then $\\tau$ then females BMI"
   ]
  },
  {
   "cell_type": "markdown",
   "id": "7999b44d",
   "metadata": {},
   "source": [
    "Let's find the confident interval of $\\psi$ using (quantile) Bootsrap"
   ]
  },
  {
   "cell_type": "code",
   "execution_count": 54,
   "id": "5970fd3c",
   "metadata": {},
   "outputs": [
    {
     "name": "stdout",
     "output_type": "stream",
     "text": [
      "The confident interval is: [13.855689547347927, 14.069286716811986]\n"
     ]
    }
   ],
   "source": [
    "B = 500\n",
    "alpha = 0.05\n",
    "quantile_list = []\n",
    "for _ in range(B):\n",
    "    temp_df = df.sample(n=len(df), replace=True)\n",
    "    phi, _, _ = calcualte_phi_mle(temp_df, tau)\n",
    "    quantile_list.append(phi)\n",
    "a = np.quantile(quantile_list, q=(alpha/2))\n",
    "b = np.quantile(quantile_list, q=(1-(alpha/2)))\n",
    "print(f\"The confident interval is: [{a}, {b}]\")"
   ]
  },
  {
   "cell_type": "markdown",
   "id": "54b87d88",
   "metadata": {},
   "source": [
    "And indeed, the MLE estimator that we just calculate fall into the interval. More over we can see that the confident interval is short and informative, it suggest that the BMI of male is more likely to be above $\\tau$ then BMI of female"
   ]
  },
  {
   "cell_type": "markdown",
   "id": "9d05011f",
   "metadata": {},
   "source": [
    "## Question 2 b"
   ]
  },
  {
   "cell_type": "markdown",
   "id": "4edd318f",
   "metadata": {},
   "source": [
    "We will assume that: <br> $\\pi(p_1, p_2)=1I\\{1\\ge{p_1}\\ge0\\}$, <br> $\\pi(p_2)=1I\\{1\\ge{p_2}\\ge0\\}$ <br> ${\\mathcal{L}}_m(p_1)={p_1}^{X^{1}_{\\tau}}{(1-p_1)}^{m-X^{1}_{\\tau}}$ <br> ${\\mathcal{L}}_n(p_2)={p_2}^{X^{2}_{\\tau}}{(1-p_2)}^{n-X^{2}_{\\tau}}$ <br> and as we seen in lecture the postriors are: <br> $p1|Z\\sim{Beta(X^{1}_{\\tau} + 1, m - X^{1}_{\\tau} +1)}$ <br> $p2|Z\\sim{Beta(X^{2}_{\\tau} + 1, n - X^{2}_{\\tau} +1)}$<br> We will compute the estimator using the excpectation on the postirior i.e : <br> $E[p_1|Z]=\\frac{X^{1}_{\\tau} + 1}{m + 2}$ <br> $E[p_2|Z]=\\frac{X^{2}_{\\tau} + 1}{n + 2}$"
   ]
  },
  {
   "cell_type": "code",
   "execution_count": 77,
   "id": "32feda1b",
   "metadata": {},
   "outputs": [],
   "source": [
    "def simulate_p_beta(x_1, x_2, m, n, jeffery=False):\n",
    "    a1 = x_1 if jeffery else x_1 + 1\n",
    "    b1 = m - x_1 if jeffery else m - x_1 + 3\n",
    "    a2 = x_2 if jeffery else x_2 + 1 \n",
    "    b2 = m - x_2 if jeffery else  m - x_2 + 3\n",
    "    return beta.rvs(a1, b1), beta.rvs(a2, b2)"
   ]
  },
  {
   "cell_type": "code",
   "execution_count": 78,
   "id": "9be2dd4a",
   "metadata": {},
   "outputs": [
    {
     "name": "stdout",
     "output_type": "stream",
     "text": [
      "The estimator of OR is: 1.164513910597534\n",
      "The credible interval is: [(0.772565503543092, 1.7144119606153525)]\n"
     ]
    }
   ],
   "source": [
    "B = 10000\n",
    "psi_list = []\n",
    "x_1 = len(df_observed[(df_observed[\"male\"] == 1) & (df_observed[\"BMI\"] > tau)][\"BMI\"])\n",
    "x_2 = len(df_observed[(df_observed[\"male\"] ==0) & (df_observed[\"BMI\"] > tau)][\"BMI\"])\n",
    "m = len(df_observed[df_observed[\"male\"] == 1])\n",
    "n = len(df_observed[df_observed[\"male\"] == 0])\n",
    "for _ in range(B):\n",
    "    p1, p2 = simulate_p_beta(x_1, x_2, m, n)\n",
    "    psi = p1/p2\n",
    "    psi_list.append(psi)\n",
    "psi_e = sum(psi_list)/len(psi_list)\n",
    "a = np.quantile(psi_list, q=(alpha/2))\n",
    "b = np.quantile(psi_list, q=(1-(alpha/2)))\n",
    "print(f\"The estimator of OR is: {psi_e}\")\n",
    "print(f\"The credible interval is: [{a, b}]\")"
   ]
  },
  {
   "cell_type": "markdown",
   "id": "b1c37e3f",
   "metadata": {},
   "source": [
    "As we excpect, the probabilty that men BMI will be above tau is bigger then the porobabilty that women will. "
   ]
  },
  {
   "cell_type": "code",
   "execution_count": 75,
   "id": "d566f60b",
   "metadata": {},
   "outputs": [
    {
     "name": "stdout",
     "output_type": "stream",
     "text": [
      "The estimator of OR is: 0.32493221290499275\n",
      "The credible interval is: [(-0.5886033273365838, 1.252496800508029)]\n"
     ]
    }
   ],
   "source": [
    "for _ in range(B):\n",
    "    p1, p2 = simulate_p_beta(x_1, x_2, m, n, True)\n",
    "    psi = log((p1/(1-p1))/(p2/(1-p2)))\n",
    "    psi_list.append(psi)\n",
    "psi_e = sum(psi_list)/len(psi_list)\n",
    "a = np.quantile(psi_list, q=(alpha/2))\n",
    "b = np.quantile(psi_list, q=(1-(alpha/2)))\n",
    "print(f\"The estimator of OR is: {psi_e}\")\n",
    "print(f\"The credible interval is: [{a, b}]\")"
   ]
  },
  {
   "cell_type": "code",
   "execution_count": 58,
   "id": "c381b5c9",
   "metadata": {},
   "outputs": [
    {
     "data": {
      "text/plain": [
       "-0.6466271649250525"
      ]
     },
     "execution_count": 58,
     "metadata": {},
     "output_type": "execute_result"
    }
   ],
   "source": [
    "log((p2/(1-p2)))"
   ]
  }
 ],
 "metadata": {
  "kernelspec": {
   "display_name": "Python 3 (ipykernel)",
   "language": "python",
   "name": "python3"
  },
  "language_info": {
   "codemirror_mode": {
    "name": "ipython",
    "version": 3
   },
   "file_extension": ".py",
   "mimetype": "text/x-python",
   "name": "python",
   "nbconvert_exporter": "python",
   "pygments_lexer": "ipython3",
   "version": "3.9.10"
  }
 },
 "nbformat": 4,
 "nbformat_minor": 5
}
