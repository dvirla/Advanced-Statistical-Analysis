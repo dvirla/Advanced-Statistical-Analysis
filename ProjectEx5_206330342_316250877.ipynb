{
 "cells": [
  {
   "cell_type": "code",
   "execution_count": 295,
   "id": "d1bb50e8",
   "metadata": {},
   "outputs": [],
   "source": [
    "import pandas as pd\n",
    "from math import log\n",
    "import numpy as np\n",
    "from scipy.stats import beta, t, bernoulli, norm\n",
    "import matplotlib.pyplot as plt\n",
    "import seaborn as sns\n",
    "import statsmodels.api as sm\n",
    "from scipy.special import logit\n",
    "from sklearn.linear_model import LogisticRegression\n",
    "import warnings\n",
    "warnings.filterwarnings(\"ignore\")"
   ]
  },
  {
   "cell_type": "code",
   "execution_count": 296,
   "id": "b0f58514",
   "metadata": {},
   "outputs": [],
   "source": [
    "df = pd.read_csv('framingham_heart_disease.csv')"
   ]
  },
  {
   "cell_type": "markdown",
   "id": "9035d4f1",
   "metadata": {},
   "source": [
    "# Part A"
   ]
  },
  {
   "cell_type": "markdown",
   "id": "bec5e92c",
   "metadata": {},
   "source": [
    "# Hypothesis question:\n",
    "## Third Experimental question - Does BMI (X) change between gender (Y)"
   ]
  },
  {
   "cell_type": "markdown",
   "id": "bcde2b83",
   "metadata": {},
   "source": [
    "## Question 1"
   ]
  },
  {
   "cell_type": "code",
   "execution_count": 297,
   "id": "3fe0fcc9",
   "metadata": {},
   "outputs": [],
   "source": [
    "df_observed = df.dropna().sample(n=100, random_state=1)\n",
    "df_old_observation = df.drop(df_observed.index).dropna().sample(n=1000, random_state=1)"
   ]
  },
  {
   "cell_type": "markdown",
   "id": "28bdee90",
   "metadata": {},
   "source": [
    "## Question 2 a"
   ]
  },
  {
   "cell_type": "markdown",
   "id": "8360328d",
   "metadata": {},
   "source": [
    "Let's define $\\tau$ as the median of the bmi, and j=1 as male and j=2 as female"
   ]
  },
  {
   "cell_type": "code",
   "execution_count": 298,
   "id": "309f5275",
   "metadata": {},
   "outputs": [
    {
     "name": "stdout",
     "output_type": "stream",
     "text": [
      "tau=24.915\n"
     ]
    }
   ],
   "source": [
    "tau = df_observed[\"BMI\"].median()\n",
    "print(f'tau={tau}')"
   ]
  },
  {
   "cell_type": "markdown",
   "id": "160ace7d",
   "metadata": {},
   "source": [
    "As we seen in class, the MLE estimator of $\\psi$ is $log(\\frac{(n - {X^{2}_{\\tau}}){X^{1}_{\\tau}}}{(m - {X^{1}_{\\tau}}){X^{2}_{\\tau}}})$ where:<br> m is number of males,<br> n is number of females,<br> $X^{1}_{\\tau}=\\sum_{i=1}^{m}I\\{x_{i}^1>\\tau\\}$,<br> $X^{2}_{\\tau}=\\sum_{i=1}^{n}I\\{x_{i}^{2}>\\tau\\}$."
   ]
  },
  {
   "cell_type": "code",
   "execution_count": 299,
   "id": "295f9023",
   "metadata": {},
   "outputs": [],
   "source": [
    "def calcualte_phi_mle(temp_df, tau):\n",
    "    x_1 = len(temp_df[(temp_df[\"male\"] == 1) & (temp_df[\"BMI\"] > tau)])\n",
    "    x_2 = len(temp_df[(temp_df[\"male\"] == 0) & (temp_df[\"BMI\"] > tau)])\n",
    "    m = len(temp_df[temp_df[\"male\"] == 1])\n",
    "    n = len(temp_df[temp_df[\"male\"] == 0])\n",
    "    phi = log((x_1*(n - x_2))/(x_2)*(m- x_1))\n",
    "    return phi, n, m"
   ]
  },
  {
   "cell_type": "code",
   "execution_count": 300,
   "id": "dbc1945f",
   "metadata": {},
   "outputs": [],
   "source": [
    "phi, n, m = calcualte_phi_mle(df_observed, tau)"
   ]
  },
  {
   "cell_type": "code",
   "execution_count": 301,
   "id": "341693a2",
   "metadata": {},
   "outputs": [
    {
     "name": "stdout",
     "output_type": "stream",
     "text": [
      "Number of male: 53, number of female: 47. MLE estimation of Phi: 6.56\n"
     ]
    }
   ],
   "source": [
    "print(f\"Number of male: {n}, number of female: {m}. MLE estimation of Phi: {np.around(phi,2)}\")"
   ]
  },
  {
   "cell_type": "markdown",
   "id": "bbeeca7c",
   "metadata": {},
   "source": [
    "We can see that the log odd ratio is bigger than zero, from that we can infer that the males BMI are more likely to be bigger than $\\tau$ compared to females BMI."
   ]
  },
  {
   "cell_type": "markdown",
   "id": "7999b44d",
   "metadata": {},
   "source": [
    "Let's find the confident interval of $\\psi$ using (quantile) Bootsrap"
   ]
  },
  {
   "cell_type": "code",
   "execution_count": 302,
   "id": "5970fd3c",
   "metadata": {},
   "outputs": [
    {
     "name": "stdout",
     "output_type": "stream",
     "text": [
      "The confident interval is: [5.89, 7.31]\n"
     ]
    }
   ],
   "source": [
    "B = 500\n",
    "alpha = 0.05\n",
    "quantile_list = []\n",
    "for _ in range(B):\n",
    "    temp_df = df_observed.sample(n=len(df_observed), replace=True)\n",
    "    phi, _, _ = calcualte_phi_mle(temp_df, tau)\n",
    "    quantile_list.append(phi)\n",
    "a = np.quantile(quantile_list, q=(alpha/2))\n",
    "b = np.quantile(quantile_list, q=(1-(alpha/2)))\n",
    "print(f\"The confident interval is: [{np.around(a, 2)}, {np.around(b,2)}]\")"
   ]
  },
  {
   "cell_type": "markdown",
   "id": "54b87d88",
   "metadata": {},
   "source": [
    "And indeed, the MLE estimator that we just calculated is inside the interval. Moreover, we can see that the confident interval is short and informative, it suggest that the BMI of male is more likely to be above $\\tau$ than BMI of females."
   ]
  },
  {
   "cell_type": "markdown",
   "id": "9d05011f",
   "metadata": {},
   "source": [
    "## Question 2 b"
   ]
  },
  {
   "cell_type": "markdown",
   "id": "4edd318f",
   "metadata": {},
   "source": [
    "We will assume that: <br> $\\pi(p_1)=1I\\{0\\le{p_1}\\le1\\}$, <br> $\\pi(p_2)=1I\\{0\\le{p_2}\\le1\\}$ <br> ${\\mathcal{L}}_m(p_1)={p_1}^{X^{1}_{\\tau}}{(1-p_1)}^{m-X^{1}_{\\tau}}$ <br> ${\\mathcal{L}}_n(p_2)={p_2}^{X^{2}_{\\tau}}{(1-p_2)}^{n-X^{2}_{\\tau}}$ <br> and as we seen in lecture the postriors are: <br> $p1|X^1\\sim{Beta(X^{1}_{\\tau} + 1, m - X^{1}_{\\tau} +1)}$ <br> $p2|X^2\\sim{Beta(X^{2}_{\\tau} + 1, n - X^{2}_{\\tau} +1)}$<br> We will compute the estimator using simulation by sampling $p_1$ and $p_2$ from their aposterior distributions, and average the simulated phi."
   ]
  },
  {
   "cell_type": "code",
   "execution_count": 303,
   "id": "32feda1b",
   "metadata": {},
   "outputs": [],
   "source": [
    "def simulate_p_beta(x_1, x_2, m, n, jeffery=False):\n",
    "    a1 = x_1 + 0.5 if jeffery else x_1 + 1\n",
    "    b1 = m - x_1 + 0.5 if jeffery else m - x_1 + 1\n",
    "    a2 = x_2 + 0.5 if jeffery else x_2 + 1 \n",
    "    b2 = n - x_2 + 0.5 if jeffery else  n - x_2 + 1\n",
    "    return beta.rvs(a1, b1), beta.rvs(a2, b2)"
   ]
  },
  {
   "cell_type": "code",
   "execution_count": 304,
   "id": "9be2dd4a",
   "metadata": {},
   "outputs": [
    {
     "name": "stdout",
     "output_type": "stream",
     "text": [
      "The estimator of OR is: 0.55\n",
      "The credible interval is: [(-0.23, 1.34)]\n"
     ]
    }
   ],
   "source": [
    "B = 10000\n",
    "phi_list = []\n",
    "x_1 = len(df_observed[(df_observed[\"male\"] == 1) & (df_observed[\"BMI\"] > tau)][\"BMI\"])\n",
    "x_2 = len(df_observed[(df_observed[\"male\"] ==0) & (df_observed[\"BMI\"] > tau)][\"BMI\"])\n",
    "m = len(df_observed[df_observed[\"male\"] == 1])\n",
    "n = len(df_observed[df_observed[\"male\"] == 0])\n",
    "for _ in range(B):\n",
    "    p1, p2 = simulate_p_beta(x_1, x_2, m, n)\n",
    "    phi_flat = logit(p1) - logit(p2)\n",
    "    phi_list.append(phi_flat)\n",
    "phi_e = sum(phi_list)/len(phi_list)\n",
    "a = np.quantile(phi_list, q=(alpha/2))\n",
    "b = np.quantile(phi_list, q=(1-(alpha/2)))\n",
    "print(f\"The estimator of OR is: {np.around(phi_e, 2)}\")\n",
    "print(f\"The credible interval is: [{np.around(a, 2), np.around(b, 2)}]\")"
   ]
  },
  {
   "cell_type": "markdown",
   "id": "b1c37e3f",
   "metadata": {},
   "source": [
    "As we excpect, the odds that men BMI will be above tau is bigger than the odds that women will.<br>\n",
    "With that being said, we can see that the estimator is much closer to zero and the credible interval is not very informative since it is big and contains zero. This could indicate that the prior we chose might be wrong or that there is no evidence for stochastical differences between the distributions."
   ]
  },
  {
   "cell_type": "markdown",
   "id": "6e59b512",
   "metadata": {},
   "source": [
    "## Question 2 c"
   ]
  },
  {
   "cell_type": "markdown",
   "id": "c6626824",
   "metadata": {},
   "source": [
    "Now we will assume:<br>\n",
    "$Z_1^1,...,Z_m^1 \\sim Bernouli(p_1)$<br>\n",
    "$Z_1^2,...,Z_n^2 \\sim Bernouli(p_2)$ where:<br>\n",
    "m is number of males,<br>\n",
    "n is number of females.<br>\n",
    "We saw in the lecture that $\\pi(p_j)=\\sqrt{\\frac{1}{p_j(1-p)j)}}$ for j=1,2. <br>\n",
    "Using these priors we get that the aposteriors distributions of $p_1 \\ and \\ p_2$ are:<br>\n",
    "$p1|X^1\\sim{Beta(X^{1}_{\\tau} + 0.5, m - X^{1}_{\\tau} +0.5)}$ <br>\n",
    "$p2|X^2\\sim{Beta(X^{2}_{\\tau} + 0.5, n - X^{2}_{\\tau} +0.5)}$"
   ]
  },
  {
   "cell_type": "code",
   "execution_count": 305,
   "id": "d566f60b",
   "metadata": {},
   "outputs": [
    {
     "name": "stdout",
     "output_type": "stream",
     "text": [
      "The estimator of OR is: 0.57\n",
      "The credible interval is: [(-0.23, 1.37)]\n"
     ]
    }
   ],
   "source": [
    "B = 10000\n",
    "phi_jefferys_list = []\n",
    "for _ in range(B):\n",
    "    p1, p2 = simulate_p_beta(x_1, x_2, m, n, True)\n",
    "    phi_jefferys = logit(p1) - logit(p2)\n",
    "    phi_jefferys_list.append(phi_jefferys)\n",
    "phi_jefferys_e = sum(phi_jefferys_list)/len(phi_jefferys_list)\n",
    "a = np.quantile(phi_jefferys_list, q=(alpha/2))\n",
    "b = np.quantile(phi_jefferys_list, q=(1-(alpha/2)))\n",
    "print(f\"The estimator of OR is: {np.around(phi_jefferys_e, 2)}\")\n",
    "print(f\"The credible interval is: [{np.around(a, 2), np.around(b, 2)}]\")"
   ]
  },
  {
   "cell_type": "markdown",
   "id": "8420afa5",
   "metadata": {},
   "source": [
    "## Question 2 d"
   ]
  },
  {
   "cell_type": "markdown",
   "id": "56f127a1",
   "metadata": {},
   "source": [
    "Assuming that now both $p_1 \\ and \\ p_2$ have priors in the form of Beta distribution and also assuming $Z_i^j \\sim Bernouli(p_j)$, we get that the aposterior distributions are: <br>\n",
    "$p1|X^1, X^1_{old} \\sim{Beta(X^{1}_{\\tau} + \\alpha_1, m - X^{1}_{\\tau} + \\beta_1)}$ <br>\n",
    "$p2|X^2, X^2_{old} \\sim{Beta(X^{2}_{\\tau} + \\alpha_2, n - X^{2}_{\\tau} + \\beta_2)}$"
   ]
  },
  {
   "cell_type": "code",
   "execution_count": 306,
   "id": "d6db19ff",
   "metadata": {},
   "outputs": [],
   "source": [
    "male_z = df_old_observation[df_old_observation['male'] == 1][['BMI']]\n",
    "female_z = df_old_observation[df_old_observation['male'] == 0][['BMI']]"
   ]
  },
  {
   "cell_type": "code",
   "execution_count": 307,
   "id": "e2292668",
   "metadata": {},
   "outputs": [],
   "source": [
    "male_z['Z'] = male_z[['BMI']].apply(lambda x: x>tau)\n",
    "female_z['Z'] = female_z[['BMI']].apply(lambda x: x>tau)"
   ]
  },
  {
   "cell_type": "code",
   "execution_count": 308,
   "id": "d9abe0ed",
   "metadata": {},
   "outputs": [],
   "source": [
    "male_alpha, male_beta = beta.fit(male_z['Z'])[:2]\n",
    "female_alpha, female_beta = beta.fit(female_z['Z'])[:2]"
   ]
  },
  {
   "cell_type": "code",
   "execution_count": 309,
   "id": "4a187fed",
   "metadata": {},
   "outputs": [
    {
     "name": "stdout",
     "output_type": "stream",
     "text": [
      "The parameteres for p1 are: alpha=1.48, beta=0.62.\n",
      "The parameteres for p2 are: alpha=1.46, beta=0.92.\n"
     ]
    }
   ],
   "source": [
    "print(f\"The parameteres for p1 are: alpha={np.around(male_alpha, 2)}, beta={np.around(male_beta, 2)}.\\nThe parameteres for p2 are: alpha={np.around(female_alpha, 2)}, beta={np.around(female_beta, 2)}.\")"
   ]
  },
  {
   "cell_type": "code",
   "execution_count": 310,
   "id": "c4ab89a7",
   "metadata": {},
   "outputs": [
    {
     "name": "stdout",
     "output_type": "stream",
     "text": [
      "The estimator of OR is: 0.57\n",
      "The credible interval is: [(-0.2, 1.38)]\n"
     ]
    }
   ],
   "source": [
    "B = 10000\n",
    "phi_old_data_list = []\n",
    "for _ in range(B):\n",
    "    p1, p2 = beta.rvs(male_alpha + x_1,m - x_1 + male_beta), beta.rvs(x_2 + female_alpha,n- x_2 + female_beta)\n",
    "    phi_old_data = logit(p1) - logit(p2)\n",
    "    phi_old_data_list.append(phi_old_data)\n",
    "phi_old_data_e = sum(phi_old_data_list)/len(phi_old_data_list)\n",
    "a = np.quantile(phi_old_data_list, q=(alpha/2))\n",
    "b = np.quantile(phi_old_data_list, q=(1-(alpha/2)))\n",
    "print(f\"The estimator of OR is: {np.around(phi_old_data_e, 2)}\")\n",
    "print(f\"The credible interval is: [{np.around(a, 2), np.around(b, 2)}]\")"
   ]
  },
  {
   "cell_type": "markdown",
   "id": "229c8aa0",
   "metadata": {},
   "source": [
    "## Question 2 e"
   ]
  },
  {
   "cell_type": "code",
   "execution_count": 311,
   "id": "5f1507d7",
   "metadata": {},
   "outputs": [
    {
     "name": "stdout",
     "output_type": "stream",
     "text": [
      "Comparing all estimators for phi:\n",
      "phi based on MLE=6.55,\n",
      "phi based on flat priors=0.55,\n",
      "phi based on Jefferys' prior=0.57,\n",
      "phi based on old data and beta prior=0.57.\n"
     ]
    }
   ],
   "source": [
    "print(f\"Comparing all estimators for phi:\\nphi based on MLE={np.around(phi, 2)},\\nphi based on flat priors={np.around(phi_e, 2)},\\nphi based on Jefferys' prior={np.around(phi_jefferys_e, 2)},\\nphi based on old data and beta prior={np.around(phi_old_data_e, 2)}.\")"
   ]
  },
  {
   "cell_type": "markdown",
   "id": "91440504",
   "metadata": {},
   "source": [
    "As we can see, MLE got us the highest phi estimation by far. Moreover, we can see that all estimators agree that the odds of males BMI being larger than $\\tau$ are greater than the odds of females BMI to pass it. <br>\n",
    "However, as we saw in previous sections, the credible intervals for all methods other than MLE are quite large and include zero so it might be not informative enough. <br>\n",
    "Since MLE doesn't assume any prior over $p_1 \\ and \\ p_2$ it might be better to go with it and say confidently that the odds are in favour of males BMI. <br>\n",
    "In addition, comparing between flat, Jefferys' and Beta priors over $p_1 \\ and \\ p_2$ we can see that the flat and Jefferys' priors achieved quite the same estimators while Beta prior achieved an estimator closer to 1. <br>\n",
    "This could be a result of relying on old data and some knowledge over the parameters which is more informative yet biased than the priors that try to be non-informative."
   ]
  },
  {
   "cell_type": "markdown",
   "id": "5d612134",
   "metadata": {},
   "source": [
    "# Part B"
   ]
  },
  {
   "cell_type": "markdown",
   "id": "48c191bb",
   "metadata": {},
   "source": [
    "For this part we'll choose the following paramaters - \n",
    "3 explaining paramaters :\n",
    "* heartRate - numerical variable indicating this person's heart rate per minute.\n",
    "* cigsPerDay - numerical variable indicating how many cigarates the person is smoking if at all.\n",
    "* BMI - numerical variable indicating this person's BMI. <br> <br>\n",
    "\n",
    "and explained paramater : <br>\n",
    "* totChol - numerical variable indicating total amount of cholesterol in this person's blood (mg/dL)."
   ]
  },
  {
   "cell_type": "markdown",
   "id": "69b1f31a",
   "metadata": {},
   "source": [
    "## Question 1"
   ]
  },
  {
   "cell_type": "code",
   "execution_count": 312,
   "id": "de7c014d",
   "metadata": {},
   "outputs": [],
   "source": [
    "df_part_b = df.dropna().sample(n=1000, random_state=1, replace=False)"
   ]
  },
  {
   "cell_type": "code",
   "execution_count": 313,
   "id": "9ecc3f59",
   "metadata": {},
   "outputs": [
    {
     "data": {
      "text/plain": [
       "<AxesSubplot:title={'center':'total cholesterol'}, xlabel='mg/dL', ylabel='Number of pepole'>"
      ]
     },
     "execution_count": 313,
     "metadata": {},
     "output_type": "execute_result"
    },
    {
     "data": {
      "image/png": "[encoded data removed]",
      "text/plain": [
       "<Figure size 1080x720 with 4 Axes>"
      ]
     },
     "metadata": {
      "needs_background": "light"
     },
     "output_type": "display_data"
    }
   ],
   "source": [
    "fig, axes = plt.subplots(nrows=2, ncols=2, figsize=(15,10))\n",
    "axes[0][0].set_title(\"heart Rate\")\n",
    "axes[0][0].set_xlabel(\"heart Rate per min\")\n",
    "axes[0][0].set_ylabel(\"Number of pepole\")\n",
    "df_part_b[\"heartRate\"].hist(ax=axes[0][0])\n",
    "axes[1][0].set_title(\"cigs per day\")\n",
    "axes[1][0].set_xlabel(\"cigs per day\")\n",
    "axes[1][0].set_ylabel(\"Number of pepole\")\n",
    "df_part_b[\"cigsPerDay\"].hist(ax=axes[1][0])\n",
    "axes[0][1].set_title(\"BMI\")\n",
    "axes[0][1].set_xlabel(\"BMI\")\n",
    "axes[0][1].set_ylabel(\"Number of pepole\")\n",
    "df_part_b[\"BMI\"].hist(ax=axes[0][1])\n",
    "axes[1][1].set_title(\"total cholesterol\")\n",
    "axes[1][1].set_xlabel(\"mg/dL\")\n",
    "axes[1][1].set_ylabel(\"Number of pepole\")\n",
    "df_part_b[\"totChol\"].hist(ax=axes[1][1])"
   ]
  },
  {
   "cell_type": "code",
   "execution_count": null,
   "id": "edd8dec9",
   "metadata": {},
   "outputs": [],
   "source": [
    "We can see that the "
   ]
  },
  {
   "cell_type": "markdown",
   "id": "fa05f288",
   "metadata": {},
   "source": [
    "## Question 2"
   ]
  },
  {
   "cell_type": "code",
   "execution_count": 314,
   "id": "15ab844d",
   "metadata": {},
   "outputs": [
    {
     "data": {
      "text/html": [
       "<table class=\"simpletable\">\n",
       "<caption>OLS Regression Results</caption>\n",
       "<tr>\n",
       "  <th>Dep. Variable:</th>         <td>totChol</td>     <th>  R-squared:         </th> <td>   0.017</td> \n",
       "</tr>\n",
       "<tr>\n",
       "  <th>Model:</th>                   <td>OLS</td>       <th>  Adj. R-squared:    </th> <td>   0.014</td> \n",
       "</tr>\n",
       "<tr>\n",
       "  <th>Method:</th>             <td>Least Squares</td>  <th>  F-statistic:       </th> <td>   5.578</td> \n",
       "</tr>\n",
       "<tr>\n",
       "  <th>Date:</th>             <td>Fri, 28 Jan 2022</td> <th>  Prob (F-statistic):</th> <td>0.000853</td> \n",
       "</tr>\n",
       "<tr>\n",
       "  <th>Time:</th>                 <td>11:52:58</td>     <th>  Log-Likelihood:    </th> <td> -5205.5</td> \n",
       "</tr>\n",
       "<tr>\n",
       "  <th>No. Observations:</th>      <td>  1000</td>      <th>  AIC:               </th> <td>1.042e+04</td>\n",
       "</tr>\n",
       "<tr>\n",
       "  <th>Df Residuals:</th>          <td>   996</td>      <th>  BIC:               </th> <td>1.044e+04</td>\n",
       "</tr>\n",
       "<tr>\n",
       "  <th>Df Model:</th>              <td>     3</td>      <th>                     </th>     <td> </td>    \n",
       "</tr>\n",
       "<tr>\n",
       "  <th>Covariance Type:</th>      <td>nonrobust</td>    <th>                     </th>     <td> </td>    \n",
       "</tr>\n",
       "</table>\n",
       "<table class=\"simpletable\">\n",
       "<tr>\n",
       "       <td></td>         <th>coef</th>     <th>std err</th>      <th>t</th>      <th>P>|t|</th>  <th>[0.025</th>    <th>0.975]</th>  \n",
       "</tr>\n",
       "<tr>\n",
       "  <th>const</th>      <td>  187.5730</td> <td>   12.412</td> <td>   15.113</td> <td> 0.000</td> <td>  163.217</td> <td>  211.929</td>\n",
       "</tr>\n",
       "<tr>\n",
       "  <th>heartRate</th>  <td>    0.2787</td> <td>    0.120</td> <td>    2.328</td> <td> 0.020</td> <td>    0.044</td> <td>    0.514</td>\n",
       "</tr>\n",
       "<tr>\n",
       "  <th>BMI</th>        <td>    1.1046</td> <td>    0.357</td> <td>    3.091</td> <td> 0.002</td> <td>    0.403</td> <td>    1.806</td>\n",
       "</tr>\n",
       "<tr>\n",
       "  <th>cigsPerDay</th> <td>   -0.0161</td> <td>    0.119</td> <td>   -0.136</td> <td> 0.892</td> <td>   -0.249</td> <td>    0.217</td>\n",
       "</tr>\n",
       "</table>\n",
       "<table class=\"simpletable\">\n",
       "<tr>\n",
       "  <th>Omnibus:</th>       <td>70.541</td> <th>  Durbin-Watson:     </th> <td>   2.038</td>\n",
       "</tr>\n",
       "<tr>\n",
       "  <th>Prob(Omnibus):</th> <td> 0.000</td> <th>  Jarque-Bera (JB):  </th> <td>  88.183</td>\n",
       "</tr>\n",
       "<tr>\n",
       "  <th>Skew:</th>          <td> 0.632</td> <th>  Prob(JB):          </th> <td>7.10e-20</td>\n",
       "</tr>\n",
       "<tr>\n",
       "  <th>Kurtosis:</th>      <td> 3.722</td> <th>  Cond. No.          </th> <td>    724.</td>\n",
       "</tr>\n",
       "</table><br/><br/>Notes:<br/>[1] Standard Errors assume that the covariance matrix of the errors is correctly specified."
      ],
      "text/plain": [
       "<class 'statsmodels.iolib.summary.Summary'>\n",
       "\"\"\"\n",
       "                            OLS Regression Results                            \n",
       "==============================================================================\n",
       "Dep. Variable:                totChol   R-squared:                       0.017\n",
       "Model:                            OLS   Adj. R-squared:                  0.014\n",
       "Method:                 Least Squares   F-statistic:                     5.578\n",
       "Date:                Fri, 28 Jan 2022   Prob (F-statistic):           0.000853\n",
       "Time:                        11:52:58   Log-Likelihood:                -5205.5\n",
       "No. Observations:                1000   AIC:                         1.042e+04\n",
       "Df Residuals:                     996   BIC:                         1.044e+04\n",
       "Df Model:                           3                                         \n",
       "Covariance Type:            nonrobust                                         \n",
       "==============================================================================\n",
       "                 coef    std err          t      P>|t|      [0.025      0.975]\n",
       "------------------------------------------------------------------------------\n",
       "const        187.5730     12.412     15.113      0.000     163.217     211.929\n",
       "heartRate      0.2787      0.120      2.328      0.020       0.044       0.514\n",
       "BMI            1.1046      0.357      3.091      0.002       0.403       1.806\n",
       "cigsPerDay    -0.0161      0.119     -0.136      0.892      -0.249       0.217\n",
       "==============================================================================\n",
       "Omnibus:                       70.541   Durbin-Watson:                   2.038\n",
       "Prob(Omnibus):                  0.000   Jarque-Bera (JB):               88.183\n",
       "Skew:                           0.632   Prob(JB):                     7.10e-20\n",
       "Kurtosis:                       3.722   Cond. No.                         724.\n",
       "==============================================================================\n",
       "\n",
       "Notes:\n",
       "[1] Standard Errors assume that the covariance matrix of the errors is correctly specified.\n",
       "\"\"\""
      ]
     },
     "execution_count": 314,
     "metadata": {},
     "output_type": "execute_result"
    }
   ],
   "source": [
    "X = sm.add_constant(df_part_b[[\"heartRate\", \"BMI\", \"cigsPerDay\"]])\n",
    "Y = df_part_b[\"totChol\"]\n",
    "model = sm.OLS(Y,X)\n",
    "results = model.fit()\n",
    "original_OLS_estimators = results.params\n",
    "results.summary()"
   ]
  },
  {
   "cell_type": "code",
   "execution_count": 315,
   "id": "c7f99c40",
   "metadata": {},
   "outputs": [],
   "source": [
    "def calc_ci(x, y, y_pred, params, quantile):\n",
    "    sigma = (((y - y_pred).T@(y - y_pred))/(len(y) - x.shape[1]))\n",
    "    c = np.linalg.inv(x.T@x)\n",
    "    ci = []\n",
    "    for i in range(x.shape[1]):\n",
    "        a = params[i] - quantile*(c[i][i]*sigma)**0.5\n",
    "        b = params[i] + quantile*(c[i][i]*sigma)**0.5\n",
    "        ci.append((a, b))\n",
    "    return ci"
   ]
  },
  {
   "cell_type": "code",
   "execution_count": 316,
   "id": "d079aaf7",
   "metadata": {},
   "outputs": [
    {
     "name": "stdout",
     "output_type": "stream",
     "text": [
      "confident interval for paramater: const is (148.07, 227.07)\n",
      "confident interval for paramater: heartRate is (-0.1, 0.66)\n",
      "confident interval for paramater: BMI is (-0.03, 2.24)\n",
      "confident interval for paramater: cigsPerDay is (-0.39, 0.36)\n"
     ]
    }
   ],
   "source": [
    "t_q = t.ppf(0.975, df=3)\n",
    "original_OLS_ci = calc_ci(X, Y, results.predict(), results.params, t_q)\n",
    "for i, (a, b) in enumerate(original_OLS_ci):\n",
    "    print(f\"confident interval for paramater: {results.params.index[i]} is ({np.around(a, 2)}, {np.around(b, 2)})\")"
   ]
  },
  {
   "cell_type": "markdown",
   "id": "17063763",
   "metadata": {},
   "source": [
    "## Question 3"
   ]
  },
  {
   "cell_type": "code",
   "execution_count": 317,
   "id": "ef703a8b",
   "metadata": {},
   "outputs": [],
   "source": [
    "Y_sorted = Y.sort_values()\n",
    "n = len(Y_sorted)\n",
    "remove_indices = []\n",
    "for i, index in enumerate(reversed(Y_sorted.index)):\n",
    "    reversed_i = n - (i)\n",
    "    p_i = (reversed_i)/(2+reversed_i)\n",
    "    if bernoulli.rvs(p_i):\n",
    "        remove_indices.append(index)\n",
    "    if len(remove_indices) == 500:\n",
    "        break"
   ]
  },
  {
   "cell_type": "markdown",
   "id": "114f7be6",
   "metadata": {},
   "source": [
    "## Question 4"
   ]
  },
  {
   "cell_type": "markdown",
   "id": "8119e7af",
   "metadata": {},
   "source": [
    "### Question 4 a"
   ]
  },
  {
   "cell_type": "code",
   "execution_count": 318,
   "id": "1684436d",
   "metadata": {},
   "outputs": [],
   "source": [
    "Y_observed = Y.drop(index=remove_indices)\n",
    "X_observed = X.drop(index=remove_indices)"
   ]
  },
  {
   "cell_type": "code",
   "execution_count": 319,
   "id": "ed1fd990",
   "metadata": {},
   "outputs": [
    {
     "data": {
      "text/html": [
       "<table class=\"simpletable\">\n",
       "<caption>OLS Regression Results</caption>\n",
       "<tr>\n",
       "  <th>Dep. Variable:</th>         <td>totChol</td>     <th>  R-squared:         </th> <td>   0.018</td>\n",
       "</tr>\n",
       "<tr>\n",
       "  <th>Model:</th>                   <td>OLS</td>       <th>  Adj. R-squared:    </th> <td>   0.012</td>\n",
       "</tr>\n",
       "<tr>\n",
       "  <th>Method:</th>             <td>Least Squares</td>  <th>  F-statistic:       </th> <td>   2.966</td>\n",
       "</tr>\n",
       "<tr>\n",
       "  <th>Date:</th>             <td>Fri, 28 Jan 2022</td> <th>  Prob (F-statistic):</th>  <td>0.0317</td> \n",
       "</tr>\n",
       "<tr>\n",
       "  <th>Time:</th>                 <td>11:52:58</td>     <th>  Log-Likelihood:    </th> <td> -2237.0</td>\n",
       "</tr>\n",
       "<tr>\n",
       "  <th>No. Observations:</th>      <td>   500</td>      <th>  AIC:               </th> <td>   4482.</td>\n",
       "</tr>\n",
       "<tr>\n",
       "  <th>Df Residuals:</th>          <td>   496</td>      <th>  BIC:               </th> <td>   4499.</td>\n",
       "</tr>\n",
       "<tr>\n",
       "  <th>Df Model:</th>              <td>     3</td>      <th>                     </th>     <td> </td>   \n",
       "</tr>\n",
       "<tr>\n",
       "  <th>Covariance Type:</th>      <td>nonrobust</td>    <th>                     </th>     <td> </td>   \n",
       "</tr>\n",
       "</table>\n",
       "<table class=\"simpletable\">\n",
       "<tr>\n",
       "       <td></td>         <th>coef</th>     <th>std err</th>      <th>t</th>      <th>P>|t|</th>  <th>[0.025</th>    <th>0.975]</th>  \n",
       "</tr>\n",
       "<tr>\n",
       "  <th>const</th>      <td>  199.6294</td> <td>    8.050</td> <td>   24.798</td> <td> 0.000</td> <td>  183.813</td> <td>  215.446</td>\n",
       "</tr>\n",
       "<tr>\n",
       "  <th>heartRate</th>  <td>   -0.1544</td> <td>    0.084</td> <td>   -1.840</td> <td> 0.066</td> <td>   -0.319</td> <td>    0.010</td>\n",
       "</tr>\n",
       "<tr>\n",
       "  <th>BMI</th>        <td>    0.5778</td> <td>    0.232</td> <td>    2.491</td> <td> 0.013</td> <td>    0.122</td> <td>    1.034</td>\n",
       "</tr>\n",
       "<tr>\n",
       "  <th>cigsPerDay</th> <td>   -0.0166</td> <td>    0.080</td> <td>   -0.208</td> <td> 0.836</td> <td>   -0.174</td> <td>    0.141</td>\n",
       "</tr>\n",
       "</table>\n",
       "<table class=\"simpletable\">\n",
       "<tr>\n",
       "  <th>Omnibus:</th>       <td>29.288</td> <th>  Durbin-Watson:     </th> <td>   1.887</td>\n",
       "</tr>\n",
       "<tr>\n",
       "  <th>Prob(Omnibus):</th> <td> 0.000</td> <th>  Jarque-Bera (JB):  </th> <td>  32.870</td>\n",
       "</tr>\n",
       "<tr>\n",
       "  <th>Skew:</th>          <td>-0.618</td> <th>  Prob(JB):          </th> <td>7.28e-08</td>\n",
       "</tr>\n",
       "<tr>\n",
       "  <th>Kurtosis:</th>      <td> 3.224</td> <th>  Cond. No.          </th> <td>    679.</td>\n",
       "</tr>\n",
       "</table><br/><br/>Notes:<br/>[1] Standard Errors assume that the covariance matrix of the errors is correctly specified."
      ],
      "text/plain": [
       "<class 'statsmodels.iolib.summary.Summary'>\n",
       "\"\"\"\n",
       "                            OLS Regression Results                            \n",
       "==============================================================================\n",
       "Dep. Variable:                totChol   R-squared:                       0.018\n",
       "Model:                            OLS   Adj. R-squared:                  0.012\n",
       "Method:                 Least Squares   F-statistic:                     2.966\n",
       "Date:                Fri, 28 Jan 2022   Prob (F-statistic):             0.0317\n",
       "Time:                        11:52:58   Log-Likelihood:                -2237.0\n",
       "No. Observations:                 500   AIC:                             4482.\n",
       "Df Residuals:                     496   BIC:                             4499.\n",
       "Df Model:                           3                                         \n",
       "Covariance Type:            nonrobust                                         \n",
       "==============================================================================\n",
       "                 coef    std err          t      P>|t|      [0.025      0.975]\n",
       "------------------------------------------------------------------------------\n",
       "const        199.6294      8.050     24.798      0.000     183.813     215.446\n",
       "heartRate     -0.1544      0.084     -1.840      0.066      -0.319       0.010\n",
       "BMI            0.5778      0.232      2.491      0.013       0.122       1.034\n",
       "cigsPerDay    -0.0166      0.080     -0.208      0.836      -0.174       0.141\n",
       "==============================================================================\n",
       "Omnibus:                       29.288   Durbin-Watson:                   1.887\n",
       "Prob(Omnibus):                  0.000   Jarque-Bera (JB):               32.870\n",
       "Skew:                          -0.618   Prob(JB):                     7.28e-08\n",
       "Kurtosis:                       3.224   Cond. No.                         679.\n",
       "==============================================================================\n",
       "\n",
       "Notes:\n",
       "[1] Standard Errors assume that the covariance matrix of the errors is correctly specified.\n",
       "\"\"\""
      ]
     },
     "execution_count": 319,
     "metadata": {},
     "output_type": "execute_result"
    }
   ],
   "source": [
    "model_missing_data = sm.OLS(Y_observed,X_observed)\n",
    "results_missing_data = model_missing_data.fit()\n",
    "a_OLS_estimators = results_missing_data.params\n",
    "results_missing_data.summary()"
   ]
  },
  {
   "cell_type": "code",
   "execution_count": 320,
   "id": "4535ed8f",
   "metadata": {},
   "outputs": [
    {
     "name": "stdout",
     "output_type": "stream",
     "text": [
      "confidence interval for paramater with missing data: const is (174.01, 225.25)\n",
      "confidence interval for paramater with missing data: heartRate is (-0.42, 0.11)\n",
      "confidence interval for paramater with missing data: BMI is (-0.16, 1.32)\n",
      "confidence interval for paramater with missing data: cigsPerDay is (-0.27, 0.24)\n"
     ]
    }
   ],
   "source": [
    "a_OLS_ci = calc_ci(X_observed, Y_observed, results_missing_data.predict(), results_missing_data.params, t_q)\n",
    "for i, (a, b) in enumerate(a_OLS_ci):\n",
    "    print(f\"confidence interval for paramater with missing data: {results_missing_data.params.index[i]} is ({np.around(a, 2)}, {np.around(b, 2)})\")"
   ]
  },
  {
   "cell_type": "markdown",
   "id": "703f8c6a",
   "metadata": {},
   "source": [
    "### Question 4 b"
   ]
  },
  {
   "cell_type": "code",
   "execution_count": 321,
   "id": "06666a82",
   "metadata": {},
   "outputs": [],
   "source": [
    "X_missing_data = X[X.index.isin(remove_indices)]\n",
    "Y_missing_data = Y[Y.index.isin(remove_indices)]\n",
    "Y_missing_predictions = results_missing_data.predict(X_missing_data)"
   ]
  },
  {
   "cell_type": "code",
   "execution_count": 322,
   "id": "070e460c",
   "metadata": {},
   "outputs": [],
   "source": [
    "Y_imputed = pd.concat([Y_observed, Y_missing_predictions])\n",
    "X_imputed = pd.concat([X_observed, X_missing_data])"
   ]
  },
  {
   "cell_type": "code",
   "execution_count": 323,
   "id": "1f86df23",
   "metadata": {},
   "outputs": [
    {
     "data": {
      "text/html": [
       "<table class=\"simpletable\">\n",
       "<caption>OLS Regression Results</caption>\n",
       "<tr>\n",
       "  <th>Dep. Variable:</th>            <td>y</td>        <th>  R-squared:         </th> <td>   0.034</td>\n",
       "</tr>\n",
       "<tr>\n",
       "  <th>Model:</th>                   <td>OLS</td>       <th>  Adj. R-squared:    </th> <td>   0.031</td>\n",
       "</tr>\n",
       "<tr>\n",
       "  <th>Method:</th>             <td>Least Squares</td>  <th>  F-statistic:       </th> <td>   11.71</td>\n",
       "</tr>\n",
       "<tr>\n",
       "  <th>Date:</th>             <td>Fri, 28 Jan 2022</td> <th>  Prob (F-statistic):</th> <td>1.52e-07</td>\n",
       "</tr>\n",
       "<tr>\n",
       "  <th>Time:</th>                 <td>11:52:58</td>     <th>  Log-Likelihood:    </th> <td> -4127.5</td>\n",
       "</tr>\n",
       "<tr>\n",
       "  <th>No. Observations:</th>      <td>  1000</td>      <th>  AIC:               </th> <td>   8263.</td>\n",
       "</tr>\n",
       "<tr>\n",
       "  <th>Df Residuals:</th>          <td>   996</td>      <th>  BIC:               </th> <td>   8283.</td>\n",
       "</tr>\n",
       "<tr>\n",
       "  <th>Df Model:</th>              <td>     3</td>      <th>                     </th>     <td> </td>   \n",
       "</tr>\n",
       "<tr>\n",
       "  <th>Covariance Type:</th>      <td>nonrobust</td>    <th>                     </th>     <td> </td>   \n",
       "</tr>\n",
       "</table>\n",
       "<table class=\"simpletable\">\n",
       "<tr>\n",
       "       <td></td>         <th>coef</th>     <th>std err</th>      <th>t</th>      <th>P>|t|</th>  <th>[0.025</th>    <th>0.975]</th>  \n",
       "</tr>\n",
       "<tr>\n",
       "  <th>const</th>      <td>  199.6294</td> <td>    4.223</td> <td>   47.268</td> <td> 0.000</td> <td>  191.342</td> <td>  207.917</td>\n",
       "</tr>\n",
       "<tr>\n",
       "  <th>heartRate</th>  <td>   -0.1544</td> <td>    0.041</td> <td>   -3.792</td> <td> 0.000</td> <td>   -0.234</td> <td>   -0.075</td>\n",
       "</tr>\n",
       "<tr>\n",
       "  <th>BMI</th>        <td>    0.5778</td> <td>    0.122</td> <td>    4.753</td> <td> 0.000</td> <td>    0.339</td> <td>    0.816</td>\n",
       "</tr>\n",
       "<tr>\n",
       "  <th>cigsPerDay</th> <td>   -0.0166</td> <td>    0.040</td> <td>   -0.411</td> <td> 0.681</td> <td>   -0.096</td> <td>    0.063</td>\n",
       "</tr>\n",
       "</table>\n",
       "<table class=\"simpletable\">\n",
       "<tr>\n",
       "  <th>Omnibus:</th>       <td>184.088</td> <th>  Durbin-Watson:     </th> <td>   1.887</td> \n",
       "</tr>\n",
       "<tr>\n",
       "  <th>Prob(Omnibus):</th> <td> 0.000</td>  <th>  Jarque-Bera (JB):  </th> <td> 622.730</td> \n",
       "</tr>\n",
       "<tr>\n",
       "  <th>Skew:</th>          <td>-0.874</td>  <th>  Prob(JB):          </th> <td>5.97e-136</td>\n",
       "</tr>\n",
       "<tr>\n",
       "  <th>Kurtosis:</th>      <td> 6.448</td>  <th>  Cond. No.          </th> <td>    724.</td> \n",
       "</tr>\n",
       "</table><br/><br/>Notes:<br/>[1] Standard Errors assume that the covariance matrix of the errors is correctly specified."
      ],
      "text/plain": [
       "<class 'statsmodels.iolib.summary.Summary'>\n",
       "\"\"\"\n",
       "                            OLS Regression Results                            \n",
       "==============================================================================\n",
       "Dep. Variable:                      y   R-squared:                       0.034\n",
       "Model:                            OLS   Adj. R-squared:                  0.031\n",
       "Method:                 Least Squares   F-statistic:                     11.71\n",
       "Date:                Fri, 28 Jan 2022   Prob (F-statistic):           1.52e-07\n",
       "Time:                        11:52:58   Log-Likelihood:                -4127.5\n",
       "No. Observations:                1000   AIC:                             8263.\n",
       "Df Residuals:                     996   BIC:                             8283.\n",
       "Df Model:                           3                                         \n",
       "Covariance Type:            nonrobust                                         \n",
       "==============================================================================\n",
       "                 coef    std err          t      P>|t|      [0.025      0.975]\n",
       "------------------------------------------------------------------------------\n",
       "const        199.6294      4.223     47.268      0.000     191.342     207.917\n",
       "heartRate     -0.1544      0.041     -3.792      0.000      -0.234      -0.075\n",
       "BMI            0.5778      0.122      4.753      0.000       0.339       0.816\n",
       "cigsPerDay    -0.0166      0.040     -0.411      0.681      -0.096       0.063\n",
       "==============================================================================\n",
       "Omnibus:                      184.088   Durbin-Watson:                   1.887\n",
       "Prob(Omnibus):                  0.000   Jarque-Bera (JB):              622.730\n",
       "Skew:                          -0.874   Prob(JB):                    5.97e-136\n",
       "Kurtosis:                       6.448   Cond. No.                         724.\n",
       "==============================================================================\n",
       "\n",
       "Notes:\n",
       "[1] Standard Errors assume that the covariance matrix of the errors is correctly specified.\n",
       "\"\"\""
      ]
     },
     "execution_count": 323,
     "metadata": {},
     "output_type": "execute_result"
    }
   ],
   "source": [
    "model_imputed = sm.OLS(Y_imputed,X_imputed)\n",
    "results_imputed = model_imputed.fit()\n",
    "b_OLS_estimators = results_imputed.params\n",
    "results_imputed.summary()"
   ]
  },
  {
   "cell_type": "code",
   "execution_count": 324,
   "id": "35699bfb",
   "metadata": {},
   "outputs": [
    {
     "name": "stdout",
     "output_type": "stream",
     "text": [
      "confidence interval for paramater with regresssion imputation: const is (186.19, 213.07)\n",
      "confidence interval for paramater with regresssion imputation: heartRate is (-0.28, -0.02)\n",
      "confidence interval for paramater with regresssion imputation: BMI is (0.19, 0.96)\n",
      "confidence interval for paramater with regresssion imputation: cigsPerDay is (-0.15, 0.11)\n"
     ]
    }
   ],
   "source": [
    "b_OLS_ci = calc_ci(X_imputed, Y_imputed, results_imputed.predict(), results_imputed.params, t_q)\n",
    "for i, (a, b) in enumerate(b_OLS_ci):\n",
    "    print(f\"confidence interval for paramater with regresssion imputation: {results_imputed.params.index[i]} is ({np.around(a, 2)}, {np.around(b, 2)})\")"
   ]
  },
  {
   "cell_type": "markdown",
   "id": "fea88f3e",
   "metadata": {},
   "source": [
    "### Question 4 c + d"
   ]
  },
  {
   "cell_type": "code",
   "execution_count": 325,
   "id": "bdaa5b4d",
   "metadata": {},
   "outputs": [],
   "source": [
    "sigma = ((results_missing_data.resid.values.T@results_missing_data.resid.values)/(len(Y_observed) - X_observed.shape[1]))**0.5\n",
    "M = 50\n",
    "X_M = []\n",
    "Y_M = []\n",
    "for i in range(M):\n",
    "    X_i = pd.concat([X_observed, X_missing_data])\n",
    "    Y_i = []\n",
    "    mus = results_missing_data.predict(X_missing_data)\n",
    "    for mu in mus.values:\n",
    "        Y_M_pred = norm.rvs(loc=mu, scale=sigma)\n",
    "        Y_i.append(Y_M_pred)\n",
    "    Y_i = np.concatenate([Y_observed, Y_i])\n",
    "    X_M.append(X_i)\n",
    "    Y_M.append(Y_i)"
   ]
  },
  {
   "cell_type": "code",
   "execution_count": 326,
   "id": "e3d62c84",
   "metadata": {},
   "outputs": [],
   "source": [
    "b_params = []\n",
    "b_params_names = [\"const\", \"heartRate\", \"BMI\", \"cigsPerDay\"]\n",
    "cov_matrix = np.linalg.inv(X_M[0].T@X_M[0])\n",
    "var_matrices = []\n",
    "for X_i, Y_i in zip(X_M, Y_M):\n",
    "    model_multi_imputed = sm.OLS(Y_i,X_i)\n",
    "    results_multi_imputed = model_multi_imputed.fit()\n",
    "    sigma = (results_multi_imputed.resid.values.T@results_multi_imputed.resid.values)/(len(Y_i) - X_i.shape[1])\n",
    "    var_matrices.append(sigma*cov_matrix)\n",
    "    b_params.append(results_multi_imputed.params.values)"
   ]
  },
  {
   "cell_type": "code",
   "execution_count": 327,
   "id": "227283d1",
   "metadata": {
    "scrolled": false
   },
   "outputs": [
    {
     "name": "stdout",
     "output_type": "stream",
     "text": [
      "The paramaters estimator using MI for const, is 195.84\n",
      "The paramaters estimator using MI for heartRate, is -0.09\n",
      "The paramaters estimator using MI for BMI, is 0.53\n",
      "The paramaters estimator using MI for cigsPerDay, is -0.03\n"
     ]
    }
   ],
   "source": [
    "c_OLS_estimators = np.mean(b_params, axis=0)\n",
    "for param_name, value in zip(b_params_names, estimated_params):\n",
    "    print(f\"The paramaters estimator using MI for {param_name}, is {np.around(value, 2)}\")\n",
    "c_OLS_estimators = pd.Series(data=np.mean(b_params, axis=0), index=[b_params_names])"
   ]
  },
  {
   "cell_type": "code",
   "execution_count": 328,
   "id": "0b54fd8a",
   "metadata": {},
   "outputs": [],
   "source": [
    "def calc_robin_se(M, M_params: list, MI_params: np.array, var_matrices: list):\n",
    "    coefficient = (M+1)/(M*(M-1))\n",
    "    params_var = [0]*MI_params.shape[0]\n",
    "    params_se = []\n",
    "    for m in range(M):\n",
    "        for i in range(MI_params.shape[0]):\n",
    "            params_var[i] += (1/(var_matrices[m][i][i]))/M + coefficient*(M_params[m][i] - MI_params[i])**2\n",
    "    for i in range(MI_params.shape[0]):\n",
    "        params_se.append(np.sqrt(params_var[i]))\n",
    "    return params_se"
   ]
  },
  {
   "cell_type": "code",
   "execution_count": 329,
   "id": "f4c2749e",
   "metadata": {},
   "outputs": [],
   "source": [
    "params_se = calc_robin_se(M, b_params, estimated_params, var_matrices)"
   ]
  },
  {
   "cell_type": "code",
   "execution_count": 330,
   "id": "12d4120c",
   "metadata": {},
   "outputs": [
    {
     "name": "stdout",
     "output_type": "stream",
     "text": [
      "confidence interval for paramater with multiple imputation: const is (190.91, 200.76)\n",
      "confidence interval for paramater with multiple imputation: heartRate is (-0.24, 0.06)\n",
      "confidence interval for paramater with multiple imputation: BMI is (0.39, 0.68)\n",
      "confidence interval for paramater with multiple imputation: cigsPerDay is (-0.18, 0.12)\n"
     ]
    }
   ],
   "source": [
    "c_OLS_ci = []\n",
    "for i in range(estimated_params.shape[0]):\n",
    "    a = estimated_params[i] - t_q*params_se[i]*(cov_matrix[i][i])**0.5\n",
    "    b = estimated_params[i] + t_q*params_se[i]*(cov_matrix[i][i])**0.5\n",
    "    c_OLS_ci.append((a, b))\n",
    "    print(f\"confidence interval for paramater with multiple imputation: {b_params_names[i]} is ({np.around(a, 2)}, {np.around(b, 2)})\")"
   ]
  },
  {
   "cell_type": "markdown",
   "id": "997373e2",
   "metadata": {},
   "source": [
    "### Question 4 e"
   ]
  },
  {
   "cell_type": "code",
   "execution_count": 331,
   "id": "0cd05500",
   "metadata": {},
   "outputs": [],
   "source": [
    "X_R = X.index.isin(remove_indices)"
   ]
  },
  {
   "cell_type": "code",
   "execution_count": 332,
   "id": "9b9a26b4",
   "metadata": {},
   "outputs": [],
   "source": [
    "clf = LogisticRegression(random_state=0).fit(X, X_R)"
   ]
  },
  {
   "cell_type": "code",
   "execution_count": 333,
   "id": "4e165414",
   "metadata": {},
   "outputs": [],
   "source": [
    "pi_1 = clf.predict_proba(X).T[1]"
   ]
  },
  {
   "cell_type": "code",
   "execution_count": 334,
   "id": "92eb3c3a",
   "metadata": {},
   "outputs": [
    {
     "data": {
      "text/plain": [
       "array([0.69616305, 0.47540939, 0.43783335, 0.57846697, 0.50193574,\n",
       "       0.5300777 , 0.47598834, 0.47935516, 0.50009974, 0.43868248,\n",
       "       0.49616064, 0.52507444, 0.46079118, 0.61311907, 0.52444545,\n",
       "       0.5640638 , 0.42566533, 0.49354602, 0.50123658, 0.60172409,\n",
       "       0.54460168, 0.47314167, 0.41099122, 0.55320142, 0.47248078,\n",
       "       0.49494042, 0.46169785, 0.47534829, 0.58667313, 0.44120122,\n",
       "       0.43872816, 0.47794266, 0.47206739, 0.4034293 , 0.65359917,\n",
       "       0.47565181, 0.4707246 , 0.4308365 , 0.47805936, 0.59439691,\n",
       "       0.3841562 , 0.47433078, 0.48560279, 0.53104203, 0.43506356,\n",
       "       0.5877357 , 0.43442547, 0.54905395, 0.51539685, 0.42075989,\n",
       "       0.52384035, 0.47096194, 0.53919309, 0.46981991, 0.51473907,\n",
       "       0.52143444, 0.48025312, 0.48443735, 0.40685114, 0.50476566,\n",
       "       0.50238075, 0.47777055, 0.41126965, 0.59229734, 0.50566132,\n",
       "       0.39449803, 0.57318357, 0.43741335, 0.38661755, 0.42417528,\n",
       "       0.47873486, 0.48355178, 0.56675072, 0.35485681, 0.5073134 ,\n",
       "       0.64392546, 0.49238716, 0.39679767, 0.48251817, 0.68174479,\n",
       "       0.43258921, 0.50116232, 0.57112629, 0.52898319, 0.40883591,\n",
       "       0.53735685, 0.57884436, 0.49357382, 0.56913532, 0.41666674,\n",
       "       0.49634795, 0.5753074 , 0.53373362, 0.41209426, 0.60680095,\n",
       "       0.63198043, 0.43304255, 0.54090495, 0.42881309, 0.42718037,\n",
       "       0.43921239, 0.5299649 , 0.50478975, 0.51121665, 0.53355552,\n",
       "       0.61217689, 0.56834567, 0.54528597, 0.64926674, 0.41045006,\n",
       "       0.47438999, 0.52310948, 0.57641074, 0.48302528, 0.57122412,\n",
       "       0.43419075, 0.51490957, 0.57148209, 0.44614505, 0.61146549,\n",
       "       0.43623452, 0.4843466 , 0.57925906, 0.42379664, 0.39701715,\n",
       "       0.4273739 , 0.43240346, 0.54203952, 0.42476247, 0.45665795,\n",
       "       0.49670583, 0.43365289, 0.47281804, 0.43518393, 0.41121215,\n",
       "       0.45737963, 0.53449784, 0.41915347, 0.48917427, 0.43394074,\n",
       "       0.44253128, 0.49601784, 0.39954119, 0.5364437 , 0.52514833,\n",
       "       0.54376449, 0.40976351, 0.56389059, 0.44496844, 0.36367469,\n",
       "       0.48599016, 0.39491106, 0.44915494, 0.58831273, 0.40529638,\n",
       "       0.54839826, 0.48990468, 0.43012177, 0.38822173, 0.55481448,\n",
       "       0.43886884, 0.47421431, 0.4501536 , 0.44767609, 0.53717792,\n",
       "       0.51386429, 0.45466521, 0.55857645, 0.37925936, 0.47932916,\n",
       "       0.55519733, 0.48319601, 0.41922928, 0.46599306, 0.49313439,\n",
       "       0.3899618 , 0.47793712, 0.49064989, 0.49336241, 0.42392888,\n",
       "       0.47450278, 0.48235139, 0.45177357, 0.46287656, 0.52255427,\n",
       "       0.54644118, 0.5827915 , 0.58886235, 0.40691738, 0.39875874,\n",
       "       0.49690807, 0.48455398, 0.53746562, 0.6260211 , 0.46669455,\n",
       "       0.590067  , 0.40685114, 0.716969  , 0.45119677, 0.44639614,\n",
       "       0.47772247, 0.51873115, 0.588169  , 0.51696779, 0.39542348,\n",
       "       0.4426319 , 0.4621001 , 0.47314716, 0.48822707, 0.55425914,\n",
       "       0.46589823, 0.51225389, 0.41724026, 0.60585176, 0.43227056,\n",
       "       0.6134163 , 0.44332935, 0.41455873, 0.55168087, 0.47344683,\n",
       "       0.46819594, 0.39841025, 0.49612357, 0.42214904, 0.49282842,\n",
       "       0.46488185, 0.533539  , 0.49365167, 0.46990634, 0.44803384,\n",
       "       0.54063769, 0.50075257, 0.51783659, 0.50612121, 0.51889407,\n",
       "       0.43308231, 0.5259142 , 0.6535437 , 0.51356785, 0.47367429,\n",
       "       0.44440241, 0.47917479, 0.74644065, 0.51413313, 0.49352377,\n",
       "       0.55774228, 0.56176376, 0.45010412, 0.65386948, 0.46370293,\n",
       "       0.51237625, 0.63781838, 0.38617291, 0.48158646, 0.55379366,\n",
       "       0.51015299, 0.53640868, 0.54586899, 0.61900579, 0.52691331,\n",
       "       0.48634403, 0.44944866, 0.42620041, 0.56653385, 0.57223962,\n",
       "       0.58997482, 0.57864432, 0.42958549, 0.39590945, 0.49395214,\n",
       "       0.45189312, 0.5049862 , 0.46442988, 0.51629725, 0.35204776,\n",
       "       0.5053163 , 0.67260708, 0.58571219, 0.45972424, 0.47938288,\n",
       "       0.48264596, 0.47961805, 0.48016613, 0.4086677 , 0.46336716,\n",
       "       0.49765126, 0.46755691, 0.57366254, 0.47977542, 0.5735193 ,\n",
       "       0.44458927, 0.49742733, 0.49318264, 0.51367539, 0.53056169,\n",
       "       0.46132397, 0.41282412, 0.43700851, 0.54557653, 0.352813  ,\n",
       "       0.43578756, 0.45513725, 0.49853263, 0.48146423, 0.51384889,\n",
       "       0.50376613, 0.46337074, 0.39283886, 0.81472163, 0.4842169 ,\n",
       "       0.48171024, 0.71445909, 0.49441759, 0.47203589, 0.49539845,\n",
       "       0.56591437, 0.62999063, 0.52454166, 0.49717688, 0.57153297,\n",
       "       0.48211424, 0.54931659, 0.47072352, 0.44140972, 0.75774628,\n",
       "       0.4197188 , 0.42440828, 0.51958856, 0.5575647 , 0.43354717,\n",
       "       0.45842916, 0.56628246, 0.71015546, 0.39221626, 0.59141205,\n",
       "       0.47641028, 0.59761921, 0.42755452, 0.80578243, 0.5456354 ,\n",
       "       0.39788751, 0.53508574, 0.54328548, 0.35537326, 0.57639805,\n",
       "       0.53621496, 0.50508086, 0.3521341 , 0.41774171, 0.54925966,\n",
       "       0.48632379, 0.41093549, 0.54826414, 0.56423714, 0.3984547 ,\n",
       "       0.52756184, 0.52445279, 0.39797468, 0.51660475, 0.43310085,\n",
       "       0.4960772 , 0.52300213, 0.53147821, 0.55262752, 0.45714764,\n",
       "       0.59216822, 0.47522616, 0.58028209, 0.46478598, 0.54415644,\n",
       "       0.59558035, 0.4905832 , 0.45960998, 0.41655672, 0.55579461,\n",
       "       0.53923732, 0.50844084, 0.39427304, 0.42272824, 0.56048276,\n",
       "       0.49959153, 0.47550363, 0.43666142, 0.55825461, 0.54614654,\n",
       "       0.46971452, 0.52713476, 0.54385646, 0.44052097, 0.54393782,\n",
       "       0.73994945, 0.53991552, 0.47155936, 0.48728918, 0.45482904,\n",
       "       0.57005184, 0.38903602, 0.45783799, 0.43196872, 0.48776738,\n",
       "       0.5374877 , 0.44831625, 0.47164958, 0.63035387, 0.50506605,\n",
       "       0.46290974, 0.47565353, 0.5267021 , 0.53840041, 0.5039589 ,\n",
       "       0.61165928, 0.40079976, 0.43417575, 0.40826081, 0.59224   ,\n",
       "       0.53176247, 0.45409693, 0.52825707, 0.4573464 , 0.46580661,\n",
       "       0.53056722, 0.5416299 , 0.47586998, 0.58730624, 0.66463556,\n",
       "       0.51687702, 0.49698964, 0.53689566, 0.41868755, 0.45727652,\n",
       "       0.45517287, 0.47768171, 0.49311945, 0.59816315, 0.45042719,\n",
       "       0.51240547, 0.4963147 , 0.50265406, 0.4330954 , 0.50442187,\n",
       "       0.49572488, 0.41015108, 0.51716789, 0.57799118, 0.53104019,\n",
       "       0.51235774, 0.47365944, 0.51198815, 0.49837307, 0.57692865,\n",
       "       0.56142607, 0.56134577, 0.62381385, 0.59090284, 0.52067175,\n",
       "       0.45651991, 0.41297526, 0.44120492, 0.53751173, 0.58741236,\n",
       "       0.53602505, 0.39817442, 0.55718234, 0.51235022, 0.53596964,\n",
       "       0.54772023, 0.55875023, 0.44527992, 0.40846693, 0.52589205,\n",
       "       0.71053389, 0.37921392, 0.55565712, 0.48971552, 0.54426496,\n",
       "       0.51512045, 0.50904327, 0.41350049, 0.53706172, 0.44264291,\n",
       "       0.42007413, 0.45275828, 0.55249912, 0.41788614, 0.54203209,\n",
       "       0.59726227, 0.48822707, 0.49205892, 0.52376636, 0.43530613,\n",
       "       0.52138073, 0.41340148, 0.44593785, 0.55180381, 0.52319092,\n",
       "       0.64877837, 0.64600965, 0.56481153, 0.50357063, 0.48637747,\n",
       "       0.41954722, 0.56669606, 0.4833487 , 0.47711343, 0.41621963,\n",
       "       0.50928424, 0.51915886, 0.45807928, 0.55679059, 0.49533914,\n",
       "       0.45608189, 0.37342317, 0.53940323, 0.50261598, 0.46292814,\n",
       "       0.46439844, 0.49493302, 0.4868482 , 0.57251911, 0.5112923 ,\n",
       "       0.4135904 , 0.50769316, 0.46502139, 0.50181702, 0.47273671,\n",
       "       0.49759427, 0.62876386, 0.52637844, 0.4688904 , 0.59127223,\n",
       "       0.46058108, 0.41240346, 0.48819001, 0.48682406, 0.55624685,\n",
       "       0.57151671, 0.57685615, 0.38833104, 0.5017094 , 0.40137423,\n",
       "       0.55455979, 0.54762096, 0.42564904, 0.45453466, 0.40601   ,\n",
       "       0.44400132, 0.37622811, 0.53343927, 0.46432281, 0.54526014,\n",
       "       0.53344667, 0.48453373, 0.41345368, 0.51291744, 0.47935516,\n",
       "       0.49291936, 0.54954622, 0.49498867, 0.42832808, 0.49364612,\n",
       "       0.49867545, 0.45756007, 0.46669455, 0.54659454, 0.44116103,\n",
       "       0.49787381, 0.46216838, 0.58860738, 0.4254749 , 0.44031442,\n",
       "       0.48527122, 0.45149984, 0.5849955 , 0.43491032, 0.50432983,\n",
       "       0.40038721, 0.58836305, 0.50690734, 0.59553202, 0.49707121,\n",
       "       0.53733293, 0.52766229, 0.46859303, 0.42403763, 0.53847409,\n",
       "       0.44713138, 0.5086891 , 0.39912688, 0.5236092 , 0.66767767,\n",
       "       0.61882568, 0.46406444, 0.41576726, 0.61031043, 0.54829164,\n",
       "       0.46538054, 0.59718204, 0.45111597, 0.66907373, 0.59180098,\n",
       "       0.53963356, 0.41838424, 0.44831996, 0.43123319, 0.45453832,\n",
       "       0.47409778, 0.57513012, 0.45041069, 0.43135685, 0.54292142,\n",
       "       0.5811851 , 0.6893327 , 0.47023368, 0.42292702, 0.53888526,\n",
       "       0.56746452, 0.42789031, 0.47765386, 0.50042791, 0.52620833,\n",
       "       0.4810827 , 0.5426802 , 0.49778331, 0.52537409, 0.51048001,\n",
       "       0.44267035, 0.48897774, 0.41955446, 0.5711334 , 0.46695676,\n",
       "       0.55952516, 0.56896416, 0.4550534 , 0.44442983, 0.53217073,\n",
       "       0.53056169, 0.50763791, 0.60640797, 0.47488948, 0.5223266 ,\n",
       "       0.52851586, 0.43054911, 0.56110833, 0.55479798, 0.52873214,\n",
       "       0.47812696, 0.52273193, 0.38481978, 0.66441064, 0.49748478,\n",
       "       0.43084861, 0.4559487 , 0.43273632, 0.48100492, 0.47532973,\n",
       "       0.58930771, 0.53669424, 0.53677587, 0.49702484, 0.42852608,\n",
       "       0.63229783, 0.43528233, 0.46497896, 0.46148802, 0.63461464,\n",
       "       0.49594183, 0.45206756, 0.39986016, 0.42536799, 0.63504974,\n",
       "       0.46829939, 0.55287876, 0.52840309, 0.51604896, 0.61324402,\n",
       "       0.43143553, 0.48846056, 0.43906068, 0.47312497, 0.55687473,\n",
       "       0.61795896, 0.49815425, 0.47452502, 0.48602908, 0.42147061,\n",
       "       0.48908077, 0.52072547, 0.50679058, 0.5344897 , 0.49766653,\n",
       "       0.40903526, 0.50055594, 0.57415598, 0.46702323, 0.46630497,\n",
       "       0.43735492, 0.46502397, 0.48032348, 0.45274756, 0.50392926,\n",
       "       0.4932029 , 0.53675922, 0.51923481, 0.49304533, 0.51836258,\n",
       "       0.49938013, 0.58065608, 0.55816133, 0.49323449, 0.50357694,\n",
       "       0.57135308, 0.50690734, 0.53172734, 0.5299464 , 0.36095403,\n",
       "       0.47352069, 0.51317501, 0.51039847, 0.51148657, 0.48234951,\n",
       "       0.6031597 , 0.55049162, 0.48761914, 0.42993088, 0.53527952,\n",
       "       0.568533  , 0.58690517, 0.47473329, 0.37206505, 0.49751066,\n",
       "       0.39097373, 0.43733306, 0.54667433, 0.45189483, 0.42854566,\n",
       "       0.42126801, 0.44418628, 0.41673342, 0.45261339, 0.47211721,\n",
       "       0.52869253, 0.45450528, 0.51573026, 0.49106668, 0.63257042,\n",
       "       0.55873018, 0.53401523, 0.43674716, 0.51511666, 0.43886884,\n",
       "       0.49263371, 0.47034645, 0.4030669 , 0.50705935, 0.45208964,\n",
       "       0.35365193, 0.43583502, 0.50704269, 0.44004753, 0.50179112,\n",
       "       0.45744585, 0.41920912, 0.4743197 , 0.53683662, 0.40318117,\n",
       "       0.53699529, 0.44138233, 0.35324679, 0.48319716, 0.71384114,\n",
       "       0.48473017, 0.40768027, 0.49949141, 0.49782417, 0.41455692,\n",
       "       0.50007925, 0.46763074, 0.42768703, 0.47108574, 0.55619736,\n",
       "       0.46225326, 0.4649428 , 0.45805171, 0.54207628, 0.3969191 ,\n",
       "       0.5010863 , 0.37629669, 0.63293581, 0.45386158, 0.59278096,\n",
       "       0.42037841, 0.48652199, 0.45571204, 0.62603073, 0.53717427,\n",
       "       0.49464192, 0.45565501, 0.53907689, 0.48534331, 0.58476509,\n",
       "       0.45399581, 0.38124005, 0.45977393, 0.38925335, 0.51585253,\n",
       "       0.47804079, 0.5178662 , 0.46692355, 0.51798811, 0.56307601,\n",
       "       0.5708953 , 0.45623839, 0.48044939, 0.48335725, 0.42801201,\n",
       "       0.52194536, 0.57507528, 0.51621212, 0.48165317, 0.47146841,\n",
       "       0.48732079, 0.39447681, 0.44039484, 0.49616432, 0.44372114,\n",
       "       0.47356881, 0.57674397, 0.447777  , 0.59508711, 0.53894785,\n",
       "       0.63027587, 0.51946632, 0.50550922, 0.53890149, 0.59254199,\n",
       "       0.52785586, 0.46135151, 0.42807373, 0.41941534, 0.51641202,\n",
       "       0.63047808, 0.45274388, 0.47607531, 0.52213224, 0.59938387,\n",
       "       0.50341932, 0.51857006, 0.54431835, 0.59093159, 0.51545975,\n",
       "       0.54216462, 0.49958413, 0.47127471, 0.54575677, 0.42820816,\n",
       "       0.53134875, 0.5652564 , 0.47479883, 0.44701948, 0.4647952 ,\n",
       "       0.45412826, 0.39579233, 0.44207744, 0.52736962, 0.50944373,\n",
       "       0.57851052, 0.48235139, 0.51781246, 0.50909151, 0.53846506,\n",
       "       0.50204841, 0.55518458, 0.42984546, 0.64997931, 0.59923249,\n",
       "       0.6278267 , 0.41472435, 0.50489908, 0.46035809, 0.43056589,\n",
       "       0.44589605, 0.44191645, 0.41761   , 0.62144165, 0.50852239,\n",
       "       0.49756636, 0.42564361, 0.54191943, 0.56259116, 0.49217026,\n",
       "       0.46356274, 0.35737253, 0.51196293, 0.44464786, 0.57567884,\n",
       "       0.54109472, 0.53519835, 0.48726878, 0.43791367, 0.5907342 ,\n",
       "       0.5095865 , 0.46174246, 0.59641269, 0.48899072, 0.43099108,\n",
       "       0.61106708, 0.41231718, 0.56385039, 0.4282495 , 0.59054062,\n",
       "       0.51369955, 0.41885732, 0.47807966, 0.48700749, 0.46985494,\n",
       "       0.37940604, 0.53252717, 0.5607593 , 0.42558556, 0.48051908,\n",
       "       0.47655644, 0.61041281, 0.45987347, 0.46481909, 0.44865029,\n",
       "       0.60908885, 0.53586068, 0.47643626, 0.44585723, 0.49450842,\n",
       "       0.44703417, 0.57670963, 0.48935702, 0.42703699, 0.43918673,\n",
       "       0.51919045, 0.5643484 , 0.67758911, 0.48089746, 0.52662076,\n",
       "       0.4848616 , 0.5097144 , 0.52263007, 0.45721572, 0.40699255,\n",
       "       0.51180909, 0.40162132, 0.52991132, 0.50043715, 0.46388921,\n",
       "       0.38735521, 0.65126791, 0.58684033, 0.53469081, 0.47526318,\n",
       "       0.51490032, 0.45383405, 0.6287551 , 0.48835866, 0.49438229,\n",
       "       0.46413458, 0.62236434, 0.43857293, 0.47938288, 0.51046707,\n",
       "       0.47305291, 0.56505958, 0.51087854, 0.62240094, 0.51269133,\n",
       "       0.42168845, 0.46103821, 0.41109536, 0.65328001, 0.45437102,\n",
       "       0.46639183, 0.56203613, 0.4490063 , 0.53855711, 0.59247637,\n",
       "       0.59314793, 0.58155956, 0.57356096, 0.45409701, 0.4160394 ,\n",
       "       0.58654538, 0.55139293, 0.52194342, 0.62952358, 0.44981384,\n",
       "       0.41642876, 0.48236248, 0.52745837, 0.5031059 , 0.66253235,\n",
       "       0.50844444, 0.58655077, 0.52038852, 0.54271708, 0.61503883])"
      ]
     },
     "execution_count": 334,
     "metadata": {},
     "output_type": "execute_result"
    }
   ],
   "source": [
    "pi_1"
   ]
  },
  {
   "cell_type": "markdown",
   "id": "2d5ca834",
   "metadata": {},
   "source": [
    "### Question 4 f"
   ]
  },
  {
   "cell_type": "markdown",
   "id": "f78c2d66",
   "metadata": {},
   "source": [
    "We know that the OLS estimator with no missing data is: <br> \n",
    "$\\hat{w}=\\underset{w}{\\arg\\min}\\frac{1}{n}\\sum_{i=1}^{n}(Y_i - w^TX_i)^2$. <br>\n",
    "With the missing data we will use the IPW estimator: <br>\n",
    "$\\hat{w}=\\underset{w}{\\arg\\min}\\frac{1}{n}\\sum_{i=1}^{n}\\frac{(Y_i - w^TX_i)^2R_i}{\\hat{\\pi}(X_i)}$<br>\n",
    "When $\\hat{\\pi}(X_i)$ is the LR model from the previous section."
   ]
  },
  {
   "cell_type": "code",
   "execution_count": 335,
   "id": "f2c78e51",
   "metadata": {},
   "outputs": [],
   "source": [
    "def calculate_ipw_estimator(X_ipw, Y_ipw, ipw_weights_observed):\n",
    "    model = sm.WLS(Y_ipw,X_ipw, weights=ipw_weights_observed)\n",
    "    results = model.fit()\n",
    "    return results.params"
   ]
  },
  {
   "cell_type": "code",
   "execution_count": 336,
   "id": "0fc0e9da",
   "metadata": {},
   "outputs": [],
   "source": [
    "e_OLS_estimators = calculate_ipw_estimator(X_observed, Y_observed, pi_1[X_R])"
   ]
  },
  {
   "cell_type": "code",
   "execution_count": 337,
   "id": "01f88890",
   "metadata": {},
   "outputs": [
    {
     "name": "stdout",
     "output_type": "stream",
     "text": [
      "IPW estimator for const is 200.23\n",
      "IPW estimator for heartRate is -0.16\n",
      "IPW estimator for BMI is 0.55\n",
      "IPW estimator for cigsPerDay is -0.0\n"
     ]
    }
   ],
   "source": [
    "for i, p in enumerate(e_OLS_estimators):\n",
    "    print(f\"IPW estimator for {b_params_names[i]} is {np.round(p, 2)}\")"
   ]
  },
  {
   "cell_type": "markdown",
   "id": "33ecd61f",
   "metadata": {},
   "source": [
    "### Question 4 g"
   ]
  },
  {
   "cell_type": "markdown",
   "id": "fe2930cb",
   "metadata": {},
   "source": [
    "Let's use quantile bootstrap method for the confident interval"
   ]
  },
  {
   "cell_type": "code",
   "execution_count": 338,
   "id": "39ba28e8",
   "metadata": {},
   "outputs": [],
   "source": [
    "B = 1000\n",
    "param_hist = []\n",
    "bootstrap_data = pd.concat([X_observed, Y_observed], axis=1)\n",
    "bootstrap_data[\"weights\"] = pi_1[X_R]\n",
    "for _ in range(B):\n",
    "    temp_data = bootstrap_data.sample(n=len(bootstrap_data), replace=True)\n",
    "    X_bootstrap = temp_data[['const', 'heartRate', 'BMI', 'cigsPerDay']]\n",
    "    Y_bootstrap = temp_data['totChol']\n",
    "    weights = temp_data['weights']\n",
    "    param_hist.append(calculate_ipw_estimator(X_bootstrap, Y_bootstrap, weights))"
   ]
  },
  {
   "cell_type": "code",
   "execution_count": 339,
   "id": "71f6335d",
   "metadata": {},
   "outputs": [
    {
     "name": "stdout",
     "output_type": "stream",
     "text": [
      "IPW confident interval estimator for const is (182.88, 212.16)\n",
      "IPW confident interval estimator for heartRate is (-0.32, -0.03)\n",
      "IPW confident interval estimator for BMI is (0.07, 0.89)\n",
      "IPW confident interval estimator for cigsPerDay is (-0.15, 0.11)\n"
     ]
    }
   ],
   "source": [
    "a = np.quantile(param_hist, axis=0, q=0.025)\n",
    "b = np.quantile(param_hist, axis=0, q=0.925)\n",
    "e_OLS_ci = list(zip(a, b))\n",
    "for i, (a_i, b_i) in enumerate(zip(a, b)):\n",
    "    print(f\"IPW confident interval estimator for {b_params_names[i]} is ({np.round(a_i, 2)}, {np.round(b_i, 2)})\")"
   ]
  },
  {
   "cell_type": "markdown",
   "id": "33895287",
   "metadata": {},
   "source": [
    "### Question 4 h"
   ]
  },
  {
   "cell_type": "code",
   "execution_count": 340,
   "id": "40f61c8e",
   "metadata": {},
   "outputs": [
    {
     "name": "stdout",
     "output_type": "stream",
     "text": [
      "The original OLS estimators are: \n",
      "const         187.573014\n",
      "heartRate       0.278678\n",
      "BMI             1.104632\n",
      "cigsPerDay     -0.016091\n",
      "dtype: float64\n",
      "The missing data OLS estimators are: \n",
      "const         199.629358\n",
      "heartRate      -0.154429\n",
      "BMI             0.577836\n",
      "cigsPerDay     -0.016606\n",
      "dtype: float64\n",
      "The regression imputation OLS estimators are: \n",
      "const         199.629358\n",
      "heartRate      -0.154429\n",
      "BMI             0.577836\n",
      "cigsPerDay     -0.016606\n",
      "dtype: float64\n",
      "The multiple ipmutation OLS estimators are: \n",
      "const         199.097656\n",
      "heartRate      -0.153337\n",
      "BMI             0.591932\n",
      "cigsPerDay     -0.010122\n",
      "dtype: float64\n",
      "The IPW OLS estimators are: \n",
      "const         200.225185\n",
      "heartRate      -0.158120\n",
      "BMI             0.548367\n",
      "cigsPerDay     -0.002527\n",
      "dtype: float64\n"
     ]
    }
   ],
   "source": [
    "print(f\"The original OLS estimators are: \\n{original_OLS_estimators}\")\n",
    "print(f\"The missing data OLS estimators are: \\n{a_OLS_estimators}\")\n",
    "print(f\"The regression imputation OLS estimators are: \\n{b_OLS_estimators}\")\n",
    "print(f\"The multiple ipmutation OLS estimators are: \\n{c_OLS_estimators}\")\n",
    "print(f\"The IPW OLS estimators are: \\n{e_OLS_estimators}\")"
   ]
  },
  {
   "cell_type": "code",
   "execution_count": 341,
   "id": "8ab407d2",
   "metadata": {},
   "outputs": [],
   "source": [
    "ci_list = [original_OLS_ci, a_OLS_ci, b_OLS_ci, c_OLS_ci, e_OLS_ci]\n",
    "ci_names = ['Original', 'Missing data', 'regression imputation', 'Multiple imputation', 'IPW']\n",
    "data_dict = {}\n",
    "data_dict['beta_i'] = ['beta 0','beta 1','beta 2', 'beta 3']\n",
    "for (name, li) in zip(ci_names, ci_list):\n",
    "    data_dict[name+'_lower'] = [x[0] for x in li]\n",
    "    data_dict[name+'_upper'] = [x[1] for x in li]\n",
    "ci_df = pd.DataFrame(data_dict)"
   ]
  },
  {
   "cell_type": "code",
   "execution_count": 342,
   "id": "03695185",
   "metadata": {},
   "outputs": [
    {
     "data": {
      "image/png": "[encoded data removed]",
      "text/plain": [
       "<Figure size 1440x1440 with 4 Axes>"
      ]
     },
     "metadata": {
      "needs_background": "light"
     },
     "output_type": "display_data"
    }
   ],
   "source": [
    "fig, ax = plt.subplots(2, 2, sharey=True, figsize=(20,20))\n",
    "row_idx = 0\n",
    "col_idx = 0\n",
    "for i, row in ci_df.iterrows():\n",
    "    for y, ci_name in enumerate(ci_names):\n",
    "        ax[row_idx][col_idx].plot((row[ci_name+'_lower'], row[ci_name+'_upper']), (y,y), label=f\"Length={np.around(row[ci_name+'_upper']-row[ci_name+'_lower'],2)}\")\n",
    "    ax[row_idx][col_idx].set_title(row['beta_i'] + ' confidence intervals', fontsize=16)\n",
    "    ax[row_idx][col_idx].set_xlabel('x', fontsize=16)\n",
    "    ax[row_idx][col_idx].set_ylabel('Method', fontsize=16)\n",
    "    ax[row_idx][col_idx].tick_params(axis='both', which='major', labelsize=16)\n",
    "    ax[row_idx][col_idx].legend(fontsize=16)\n",
    "    ax[row_idx][col_idx].axvline(original_OLS_estimators[i], color='black')\n",
    "    col_idx += 1\n",
    "    if i%2:\n",
    "        col_idx = 0\n",
    "        row_idx += 1\n",
    "plt.yticks(range(len(ci_names)),ci_names)\n",
    "plt.show()"
   ]
  }
 ],
 "metadata": {
  "kernelspec": {
   "display_name": "Python 3 (ipykernel)",
   "language": "python",
   "name": "python3"
  },
  "language_info": {
   "codemirror_mode": {
    "name": "ipython",
    "version": 3
   },
   "file_extension": ".py",
   "mimetype": "text/x-python",
   "name": "python",
   "nbconvert_exporter": "python",
   "pygments_lexer": "ipython3",
   "version": "3.9.10"
  }
 },
 "nbformat": 4,
 "nbformat_minor": 5
}
