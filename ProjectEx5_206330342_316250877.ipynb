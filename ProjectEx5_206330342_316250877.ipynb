{
 "cells": [
  {
   "cell_type": "code",
   "execution_count": 41,
   "id": "d1bb50e8",
   "metadata": {},
   "outputs": [],
   "source": [
    "import pandas as pd\n",
    "from math import log\n",
    "import numpy as np\n",
    "from scipy.stats import beta, t\n",
    "import matplotlib.pyplot as plt\n",
    "import seaborn as sns\n",
    "import statsmodels.api as sm\n",
    "from scipy.special import logit\n",
    "import warnings\n",
    "warnings.filterwarnings(\"ignore\")"
   ]
  },
  {
   "cell_type": "code",
   "execution_count": 3,
   "id": "b0f58514",
   "metadata": {},
   "outputs": [],
   "source": [
    "df = pd.read_csv('framingham_heart_disease.csv')"
   ]
  },
  {
   "cell_type": "markdown",
   "id": "9035d4f1",
   "metadata": {},
   "source": [
    "# Part A"
   ]
  },
  {
   "cell_type": "markdown",
   "id": "bec5e92c",
   "metadata": {},
   "source": [
    "# Hypothesis question:\n",
    "## Third Experimental question - Does BMI (X) change between gender (Y)"
   ]
  },
  {
   "cell_type": "markdown",
   "id": "bcde2b83",
   "metadata": {},
   "source": [
    "## Question 1"
   ]
  },
  {
   "cell_type": "code",
   "execution_count": 21,
   "id": "3fe0fcc9",
   "metadata": {},
   "outputs": [],
   "source": [
    "df_observed = df.dropna().sample(n=100, random_state=1)\n",
    "df_old_observation = df.drop(df_observed.index).dropna().sample(n=1000, random_state=1)"
   ]
  },
  {
   "cell_type": "markdown",
   "id": "28bdee90",
   "metadata": {},
   "source": [
    "## Question 2 a"
   ]
  },
  {
   "cell_type": "markdown",
   "id": "8360328d",
   "metadata": {},
   "source": [
    "Let's define $\\tau$ as the median of the bmi, and j=1 as male and j=2 as female"
   ]
  },
  {
   "cell_type": "code",
   "execution_count": 22,
   "id": "309f5275",
   "metadata": {},
   "outputs": [
    {
     "name": "stdout",
     "output_type": "stream",
     "text": [
      "tau=24.915\n"
     ]
    }
   ],
   "source": [
    "tau = df_observed[\"BMI\"].median()\n",
    "print(f'tau={tau}')"
   ]
  },
  {
   "cell_type": "markdown",
   "id": "160ace7d",
   "metadata": {},
   "source": [
    "As we seen in class, the MLE estimator of $\\psi$ is $log(\\frac{(n - {X^{2}_{\\tau}}){X^{1}_{\\tau}}}{(m - {X^{1}_{\\tau}}){X^{2}_{\\tau}}})$ where:<br> m is number of males,<br> n is number of females,<br> $X^{1}_{\\tau}=\\sum_{i=1}^{m}I\\{x_{i}^1>\\tau\\}$,<br> $X^{2}_{\\tau}=\\sum_{i=1}^{n}I\\{x_{i}^{2}>\\tau\\}$."
   ]
  },
  {
   "cell_type": "code",
   "execution_count": 23,
   "id": "295f9023",
   "metadata": {},
   "outputs": [],
   "source": [
    "def calcualte_phi_mle(temp_df, tau):\n",
    "    x_1 = len(temp_df[(temp_df[\"male\"] == 1) & (temp_df[\"BMI\"] > tau)])\n",
    "    x_2 = len(temp_df[(temp_df[\"male\"] == 0) & (temp_df[\"BMI\"] > tau)])\n",
    "    m = len(temp_df[temp_df[\"male\"] == 1])\n",
    "    n = len(temp_df[temp_df[\"male\"] == 0])\n",
    "    phi = log((x_1*(n - x_2))/(x_2)*(m- x_1))\n",
    "    return phi, n, m"
   ]
  },
  {
   "cell_type": "code",
   "execution_count": 24,
   "id": "dbc1945f",
   "metadata": {},
   "outputs": [],
   "source": [
    "phi, n, m = calcualte_phi_mle(df_observed, tau)"
   ]
  },
  {
   "cell_type": "code",
   "execution_count": 25,
   "id": "341693a2",
   "metadata": {},
   "outputs": [
    {
     "name": "stdout",
     "output_type": "stream",
     "text": [
      "Number of male: 53, number of female: 47. MLE estimation of Phi: 6.56\n"
     ]
    }
   ],
   "source": [
    "print(f\"Number of male: {n}, number of female: {m}. MLE estimation of Phi: {np.around(phi,2)}\")"
   ]
  },
  {
   "cell_type": "markdown",
   "id": "bbeeca7c",
   "metadata": {},
   "source": [
    "We can see that the log odd ratio is bigger than zero, from that we can infer that the males BMI are more likely to be bigger than $\\tau$ compared to females BMI."
   ]
  },
  {
   "cell_type": "markdown",
   "id": "7999b44d",
   "metadata": {},
   "source": [
    "Let's find the confident interval of $\\psi$ using (quantile) Bootsrap"
   ]
  },
  {
   "cell_type": "code",
   "execution_count": 26,
   "id": "5970fd3c",
   "metadata": {},
   "outputs": [
    {
     "name": "stdout",
     "output_type": "stream",
     "text": [
      "The confident interval is: [5.86, 7.21]\n"
     ]
    }
   ],
   "source": [
    "B = 500\n",
    "alpha = 0.05\n",
    "quantile_list = []\n",
    "for _ in range(B):\n",
    "    temp_df = df_observed.sample(n=len(df_observed), replace=True)\n",
    "    phi, _, _ = calcualte_phi_mle(temp_df, tau)\n",
    "    quantile_list.append(phi)\n",
    "a = np.quantile(quantile_list, q=(alpha/2))\n",
    "b = np.quantile(quantile_list, q=(1-(alpha/2)))\n",
    "print(f\"The confident interval is: [{np.around(a, 2)}, {np.around(b,2)}]\")"
   ]
  },
  {
   "cell_type": "markdown",
   "id": "54b87d88",
   "metadata": {},
   "source": [
    "And indeed, the MLE estimator that we just calculated is inside the interval. Moreover, we can see that the confident interval is short and informative, it suggest that the BMI of male is more likely to be above $\\tau$ than BMI of females."
   ]
  },
  {
   "cell_type": "markdown",
   "id": "9d05011f",
   "metadata": {},
   "source": [
    "## Question 2 b"
   ]
  },
  {
   "cell_type": "markdown",
   "id": "4edd318f",
   "metadata": {},
   "source": [
    "We will assume that: <br> $\\pi(p_1)=1I\\{0\\le{p_1}\\le1\\}$, <br> $\\pi(p_2)=1I\\{0\\le{p_2}\\le1\\}$ <br> ${\\mathcal{L}}_m(p_1)={p_1}^{X^{1}_{\\tau}}{(1-p_1)}^{m-X^{1}_{\\tau}}$ <br> ${\\mathcal{L}}_n(p_2)={p_2}^{X^{2}_{\\tau}}{(1-p_2)}^{n-X^{2}_{\\tau}}$ <br> and as we seen in lecture the postriors are: <br> $p1|X^1\\sim{Beta(X^{1}_{\\tau} + 1, m - X^{1}_{\\tau} +1)}$ <br> $p2|X^2\\sim{Beta(X^{2}_{\\tau} + 1, n - X^{2}_{\\tau} +1)}$<br> We will compute the estimator using simulation by sampling $p_1$ and $p_2$ from their aposterior distributions, and average the simulated phi."
   ]
  },
  {
   "cell_type": "code",
   "execution_count": 27,
   "id": "32feda1b",
   "metadata": {},
   "outputs": [],
   "source": [
    "def simulate_p_beta(x_1, x_2, m, n, jeffery=False):\n",
    "    a1 = x_1 + 0.5 if jeffery else x_1 + 1\n",
    "    b1 = m - x_1 + 0.5 if jeffery else m - x_1 + 1\n",
    "    a2 = x_2 + 0.5 if jeffery else x_2 + 1 \n",
    "    b2 = n - x_2 + 0.5 if jeffery else  n - x_2 + 1\n",
    "    return beta.rvs(a1, b1), beta.rvs(a2, b2)"
   ]
  },
  {
   "cell_type": "code",
   "execution_count": 28,
   "id": "9be2dd4a",
   "metadata": {},
   "outputs": [
    {
     "name": "stdout",
     "output_type": "stream",
     "text": [
      "The estimator of OR is: 0.55\n",
      "The credible interval is: [(-0.23, 1.32)]\n"
     ]
    }
   ],
   "source": [
    "B = 10000\n",
    "phi_list = []\n",
    "x_1 = len(df_observed[(df_observed[\"male\"] == 1) & (df_observed[\"BMI\"] > tau)][\"BMI\"])\n",
    "x_2 = len(df_observed[(df_observed[\"male\"] ==0) & (df_observed[\"BMI\"] > tau)][\"BMI\"])\n",
    "m = len(df_observed[df_observed[\"male\"] == 1])\n",
    "n = len(df_observed[df_observed[\"male\"] == 0])\n",
    "for _ in range(B):\n",
    "    p1, p2 = simulate_p_beta(x_1, x_2, m, n)\n",
    "    phi_flat = logit(p1) - logit(p2)\n",
    "    phi_list.append(phi_flat)\n",
    "phi_e = sum(phi_list)/len(phi_list)\n",
    "a = np.quantile(phi_list, q=(alpha/2))\n",
    "b = np.quantile(phi_list, q=(1-(alpha/2)))\n",
    "print(f\"The estimator of OR is: {np.around(phi_e, 2)}\")\n",
    "print(f\"The credible interval is: [{np.around(a, 2), np.around(b, 2)}]\")"
   ]
  },
  {
   "cell_type": "markdown",
   "id": "b1c37e3f",
   "metadata": {},
   "source": [
    "As we excpect, the odds that men BMI will be above tau is bigger than the odds that women will.<br>\n",
    "With that being said, we can see that the estimator is much closer to zero and the credible interval is not very informative since it is big and contains zero. This could indicate that the prior we chose might be wrong or that there is no evidence for stochastical differences between the distributions."
   ]
  },
  {
   "cell_type": "markdown",
   "id": "6e59b512",
   "metadata": {},
   "source": [
    "## Question 2 c"
   ]
  },
  {
   "cell_type": "markdown",
   "id": "c6626824",
   "metadata": {},
   "source": [
    "Now we will assume:<br>\n",
    "$Z_1^1,...,Z_m^1 \\sim Bernouli(p_1)$<br>\n",
    "$Z_1^2,...,Z_n^2 \\sim Bernouli(p_2)$ where:<br>\n",
    "m is number of males,<br>\n",
    "n is number of females.<br>\n",
    "We saw in the lecture that $\\pi(p_j)=\\sqrt{\\frac{1}{p_j(1-p)j)}}$ for j=1,2. <br>\n",
    "Using these priors we get that the aposteriors distributions of $p_1 \\ and \\ p_2$ are:<br>\n",
    "$p1|X^1\\sim{Beta(X^{1}_{\\tau} + 0.5, m - X^{1}_{\\tau} +0.5)}$ <br>\n",
    "$p2|X^2\\sim{Beta(X^{2}_{\\tau} + 0.5, n - X^{2}_{\\tau} +0.5)}$"
   ]
  },
  {
   "cell_type": "code",
   "execution_count": 29,
   "id": "d566f60b",
   "metadata": {},
   "outputs": [
    {
     "name": "stdout",
     "output_type": "stream",
     "text": [
      "The estimator of OR is: 0.56\n",
      "The credible interval is: [(-0.21, 1.38)]\n"
     ]
    }
   ],
   "source": [
    "B = 10000\n",
    "phi_jefferys_list = []\n",
    "for _ in range(B):\n",
    "    p1, p2 = simulate_p_beta(x_1, x_2, m, n, True)\n",
    "    phi_jefferys = logit(p1) - logit(p2)\n",
    "    phi_jefferys_list.append(phi_jefferys)\n",
    "phi_jefferys_e = sum(phi_jefferys_list)/len(phi_jefferys_list)\n",
    "a = np.quantile(phi_jefferys_list, q=(alpha/2))\n",
    "b = np.quantile(phi_jefferys_list, q=(1-(alpha/2)))\n",
    "print(f\"The estimator of OR is: {np.around(phi_jefferys_e, 2)}\")\n",
    "print(f\"The credible interval is: [{np.around(a, 2), np.around(b, 2)}]\")"
   ]
  },
  {
   "cell_type": "markdown",
   "id": "8420afa5",
   "metadata": {},
   "source": [
    "## Question 2 d"
   ]
  },
  {
   "cell_type": "markdown",
   "id": "56f127a1",
   "metadata": {},
   "source": [
    "Assuming that now both $p_1 \\ and \\ p_2$ have priors in the form of Beta distribution and also assuming $Z_i^j \\sim Bernouli(p_j)$, we get that the aposterior distributions are: <br>\n",
    "$p1|X^1, X^1_{old} \\sim{Beta(X^{1}_{\\tau} + \\alpha_1, m - X^{1}_{\\tau} + \\beta_1)}$ <br>\n",
    "$p2|X^2, X^2_{old} \\sim{Beta(X^{2}_{\\tau} + \\alpha_2, n - X^{2}_{\\tau} + \\beta_2)}$"
   ]
  },
  {
   "cell_type": "code",
   "execution_count": 30,
   "id": "d6db19ff",
   "metadata": {},
   "outputs": [],
   "source": [
    "male_z = df_old_observation[df_old_observation['male'] == 1][['BMI']]\n",
    "female_z = df_old_observation[df_old_observation['male'] == 0][['BMI']]"
   ]
  },
  {
   "cell_type": "code",
   "execution_count": 31,
   "id": "e2292668",
   "metadata": {},
   "outputs": [],
   "source": [
    "male_z['Z'] = male_z[['BMI']].apply(lambda x: x>tau)\n",
    "female_z['Z'] = female_z[['BMI']].apply(lambda x: x>tau)"
   ]
  },
  {
   "cell_type": "code",
   "execution_count": 32,
   "id": "d9abe0ed",
   "metadata": {},
   "outputs": [],
   "source": [
    "male_alpha, male_beta = beta.fit(male_z['Z'])[:2]\n",
    "female_alpha, female_beta = beta.fit(female_z['Z'])[:2]"
   ]
  },
  {
   "cell_type": "code",
   "execution_count": 33,
   "id": "4a187fed",
   "metadata": {},
   "outputs": [
    {
     "name": "stdout",
     "output_type": "stream",
     "text": [
      "The parameteres for p1 are: alpha=1.48, beta=0.62.\n",
      "The parameteres for p2 are: alpha=1.46, beta=0.92.\n"
     ]
    }
   ],
   "source": [
    "print(f\"The parameteres for p1 are: alpha={np.around(male_alpha, 2)}, beta={np.around(male_beta, 2)}.\\nThe parameteres for p2 are: alpha={np.around(female_alpha, 2)}, beta={np.around(female_beta, 2)}.\")"
   ]
  },
  {
   "cell_type": "code",
   "execution_count": 34,
   "id": "c4ab89a7",
   "metadata": {},
   "outputs": [
    {
     "name": "stdout",
     "output_type": "stream",
     "text": [
      "The estimator of OR is: 0.57\n",
      "The credible interval is: [(-0.2, 1.36)]\n"
     ]
    }
   ],
   "source": [
    "B = 10000\n",
    "phi_old_data_list = []\n",
    "for _ in range(B):\n",
    "    p1, p2 = beta.rvs(male_alpha + x_1,m - x_1 + male_beta), beta.rvs(x_2 + female_alpha,n- x_2 + female_beta)\n",
    "    phi_old_data = logit(p1) - logit(p2)\n",
    "    phi_old_data_list.append(phi_old_data)\n",
    "phi_old_data_e = sum(phi_old_data_list)/len(phi_old_data_list)\n",
    "a = np.quantile(phi_old_data_list, q=(alpha/2))\n",
    "b = np.quantile(phi_old_data_list, q=(1-(alpha/2)))\n",
    "print(f\"The estimator of OR is: {np.around(phi_old_data_e, 2)}\")\n",
    "print(f\"The credible interval is: [{np.around(a, 2), np.around(b, 2)}]\")"
   ]
  },
  {
   "cell_type": "markdown",
   "id": "229c8aa0",
   "metadata": {},
   "source": [
    "## Question 2 e"
   ]
  },
  {
   "cell_type": "code",
   "execution_count": 35,
   "id": "5f1507d7",
   "metadata": {},
   "outputs": [
    {
     "name": "stdout",
     "output_type": "stream",
     "text": [
      "Comparing all estimators for phi:\n",
      "phi based on MLE=6.78,\n",
      "phi based on flat priors=0.55,\n",
      "phi based on Jefferys' prior=0.56,\n",
      "phi based on old data and beta prior=0.57.\n"
     ]
    }
   ],
   "source": [
    "print(f\"Comparing all estimators for phi:\\nphi based on MLE={np.around(phi, 2)},\\nphi based on flat priors={np.around(phi_e, 2)},\\nphi based on Jefferys' prior={np.around(phi_jefferys_e, 2)},\\nphi based on old data and beta prior={np.around(phi_old_data_e, 2)}.\")"
   ]
  },
  {
   "cell_type": "markdown",
   "id": "91440504",
   "metadata": {},
   "source": [
    "As we can see, MLE got us the highest phi estimation by far. Moreover, we can see that all estimators agree that the odds of males BMI being larger than $\\tau$ are greater than the odds of females BMI to pass it. <br>\n",
    "However, as we saw in previous sections, the credible intervals for all methods other than MLE are quite large and include zero so it might be not informative enough. <br>\n",
    "Since MLE doesn't assume any prior over $p_1 \\ and \\ p_2$ it might be better to go with it and say confidently that the odds are in favour of males BMI. <br>\n",
    "In addition, comparing between flat, Jefferys' and Beta priors over $p_1 \\ and \\ p_2$ we can see that the flat and Jefferys' priors achieved quite the same estimators while Beta prior achieved an estimator closer to 1. <br>\n",
    "This could be a result of relying on old data and some knowledge over the parameters which is more informative yet biased than the priors that try to be non-informative."
   ]
  },
  {
   "cell_type": "markdown",
   "id": "5d612134",
   "metadata": {},
   "source": [
    "# Part B"
   ]
  },
  {
   "cell_type": "markdown",
   "id": "48c191bb",
   "metadata": {},
   "source": [
    "For this part we'll choose the following paramaters - \n",
    "3 explaining paramaters :\n",
    "* heartRate - numerical variable indicating this person's heart rate per minute.\n",
    "* cigsPerDay - numerical variable indicating how many cigarates the person is smoking if at all.\n",
    "* BMI - numerical variable indicating this person's BMI. <br> <br>\n",
    "\n",
    "and explained paramater : <br>\n",
    "* totChol - numerical variable indicating total amount of cholesterol in this person's blood (mg/dL)."
   ]
  },
  {
   "cell_type": "markdown",
   "id": "69b1f31a",
   "metadata": {},
   "source": [
    "## Question 1"
   ]
  },
  {
   "cell_type": "code",
   "execution_count": 28,
   "id": "de7c014d",
   "metadata": {},
   "outputs": [],
   "source": [
    "df_part_b = df.dropna().sample(n=1000, random_state=1, replace=False)"
   ]
  },
  {
   "cell_type": "code",
   "execution_count": 30,
   "id": "9ecc3f59",
   "metadata": {},
   "outputs": [
    {
     "data": {
      "text/plain": [
       "<AxesSubplot:title={'center':'total cholesterol'}, xlabel='mg/dL', ylabel='Number of pepole'>"
      ]
     },
     "execution_count": 30,
     "metadata": {},
     "output_type": "execute_result"
    },
    {
     "data": {
      "image/png": "[encoded data removed]",
      "text/plain": [
       "<Figure size 1080x720 with 4 Axes>"
      ]
     },
     "metadata": {
      "needs_background": "light"
     },
     "output_type": "display_data"
    }
   ],
   "source": [
    "fig, axes = plt.subplots(nrows=2, ncols=2, figsize=(15,10))\n",
    "axes[0][0].set_title(\"heart Rate\")\n",
    "axes[0][0].set_xlabel(\"heart Rate per min\")\n",
    "axes[0][0].set_ylabel(\"Number of pepole\")\n",
    "df_part_b[\"heartRate\"].hist(ax=axes[0][0])\n",
    "axes[1][0].set_title(\"cigs per day\")\n",
    "axes[1][0].set_xlabel(\"cigs per day\")\n",
    "axes[1][0].set_ylabel(\"Number of pepole\")\n",
    "df_part_b[\"cigsPerDay\"].hist(ax=axes[1][0])\n",
    "axes[0][1].set_title(\"BMI\")\n",
    "axes[0][1].set_xlabel(\"BMI\")\n",
    "axes[0][1].set_ylabel(\"Number of pepole\")\n",
    "df_part_b[\"BMI\"].hist(ax=axes[0][1])\n",
    "axes[1][1].set_title(\"total cholesterol\")\n",
    "axes[1][1].set_xlabel(\"mg/dL\")\n",
    "axes[1][1].set_ylabel(\"Number of pepole\")\n",
    "df_part_b[\"totChol\"].hist(ax=axes[1][1])"
   ]
  },
  {
   "cell_type": "markdown",
   "id": "fa05f288",
   "metadata": {},
   "source": [
    "## Question 2"
   ]
  },
  {
   "cell_type": "code",
   "execution_count": 34,
   "id": "15ab844d",
   "metadata": {},
   "outputs": [
    {
     "data": {
      "text/html": [
       "<table class=\"simpletable\">\n",
       "<caption>OLS Regression Results</caption>\n",
       "<tr>\n",
       "  <th>Dep. Variable:</th>         <td>totChol</td>     <th>  R-squared:         </th> <td>   0.017</td> \n",
       "</tr>\n",
       "<tr>\n",
       "  <th>Model:</th>                   <td>OLS</td>       <th>  Adj. R-squared:    </th> <td>   0.014</td> \n",
       "</tr>\n",
       "<tr>\n",
       "  <th>Method:</th>             <td>Least Squares</td>  <th>  F-statistic:       </th> <td>   5.578</td> \n",
       "</tr>\n",
       "<tr>\n",
       "  <th>Date:</th>             <td>Mon, 24 Jan 2022</td> <th>  Prob (F-statistic):</th> <td>0.000853</td> \n",
       "</tr>\n",
       "<tr>\n",
       "  <th>Time:</th>                 <td>16:59:32</td>     <th>  Log-Likelihood:    </th> <td> -5205.5</td> \n",
       "</tr>\n",
       "<tr>\n",
       "  <th>No. Observations:</th>      <td>  1000</td>      <th>  AIC:               </th> <td>1.042e+04</td>\n",
       "</tr>\n",
       "<tr>\n",
       "  <th>Df Residuals:</th>          <td>   996</td>      <th>  BIC:               </th> <td>1.044e+04</td>\n",
       "</tr>\n",
       "<tr>\n",
       "  <th>Df Model:</th>              <td>     3</td>      <th>                     </th>     <td> </td>    \n",
       "</tr>\n",
       "<tr>\n",
       "  <th>Covariance Type:</th>      <td>nonrobust</td>    <th>                     </th>     <td> </td>    \n",
       "</tr>\n",
       "</table>\n",
       "<table class=\"simpletable\">\n",
       "<tr>\n",
       "       <td></td>         <th>coef</th>     <th>std err</th>      <th>t</th>      <th>P>|t|</th>  <th>[0.025</th>    <th>0.975]</th>  \n",
       "</tr>\n",
       "<tr>\n",
       "  <th>const</th>      <td>  187.5730</td> <td>   12.412</td> <td>   15.113</td> <td> 0.000</td> <td>  163.217</td> <td>  211.929</td>\n",
       "</tr>\n",
       "<tr>\n",
       "  <th>heartRate</th>  <td>    0.2787</td> <td>    0.120</td> <td>    2.328</td> <td> 0.020</td> <td>    0.044</td> <td>    0.514</td>\n",
       "</tr>\n",
       "<tr>\n",
       "  <th>BMI</th>        <td>    1.1046</td> <td>    0.357</td> <td>    3.091</td> <td> 0.002</td> <td>    0.403</td> <td>    1.806</td>\n",
       "</tr>\n",
       "<tr>\n",
       "  <th>cigsPerDay</th> <td>   -0.0161</td> <td>    0.119</td> <td>   -0.136</td> <td> 0.892</td> <td>   -0.249</td> <td>    0.217</td>\n",
       "</tr>\n",
       "</table>\n",
       "<table class=\"simpletable\">\n",
       "<tr>\n",
       "  <th>Omnibus:</th>       <td>70.541</td> <th>  Durbin-Watson:     </th> <td>   2.038</td>\n",
       "</tr>\n",
       "<tr>\n",
       "  <th>Prob(Omnibus):</th> <td> 0.000</td> <th>  Jarque-Bera (JB):  </th> <td>  88.183</td>\n",
       "</tr>\n",
       "<tr>\n",
       "  <th>Skew:</th>          <td> 0.632</td> <th>  Prob(JB):          </th> <td>7.10e-20</td>\n",
       "</tr>\n",
       "<tr>\n",
       "  <th>Kurtosis:</th>      <td> 3.722</td> <th>  Cond. No.          </th> <td>    724.</td>\n",
       "</tr>\n",
       "</table><br/><br/>Notes:<br/>[1] Standard Errors assume that the covariance matrix of the errors is correctly specified."
      ],
      "text/plain": [
       "<class 'statsmodels.iolib.summary.Summary'>\n",
       "\"\"\"\n",
       "                            OLS Regression Results                            \n",
       "==============================================================================\n",
       "Dep. Variable:                totChol   R-squared:                       0.017\n",
       "Model:                            OLS   Adj. R-squared:                  0.014\n",
       "Method:                 Least Squares   F-statistic:                     5.578\n",
       "Date:                Mon, 24 Jan 2022   Prob (F-statistic):           0.000853\n",
       "Time:                        16:59:32   Log-Likelihood:                -5205.5\n",
       "No. Observations:                1000   AIC:                         1.042e+04\n",
       "Df Residuals:                     996   BIC:                         1.044e+04\n",
       "Df Model:                           3                                         \n",
       "Covariance Type:            nonrobust                                         \n",
       "==============================================================================\n",
       "                 coef    std err          t      P>|t|      [0.025      0.975]\n",
       "------------------------------------------------------------------------------\n",
       "const        187.5730     12.412     15.113      0.000     163.217     211.929\n",
       "heartRate      0.2787      0.120      2.328      0.020       0.044       0.514\n",
       "BMI            1.1046      0.357      3.091      0.002       0.403       1.806\n",
       "cigsPerDay    -0.0161      0.119     -0.136      0.892      -0.249       0.217\n",
       "==============================================================================\n",
       "Omnibus:                       70.541   Durbin-Watson:                   2.038\n",
       "Prob(Omnibus):                  0.000   Jarque-Bera (JB):               88.183\n",
       "Skew:                           0.632   Prob(JB):                     7.10e-20\n",
       "Kurtosis:                       3.722   Cond. No.                         724.\n",
       "==============================================================================\n",
       "\n",
       "Notes:\n",
       "[1] Standard Errors assume that the covariance matrix of the errors is correctly specified.\n",
       "\"\"\""
      ]
     },
     "execution_count": 34,
     "metadata": {},
     "output_type": "execute_result"
    }
   ],
   "source": [
    "X = sm.add_constant(df_part_b[[\"heartRate\", \"BMI\", \"cigsPerDay\"]])\n",
    "Y = df_part_b[\"totChol\"]\n",
    "model = sm.OLS(Y,X)\n",
    "results = model.fit()\n",
    "results.summary()"
   ]
  },
  {
   "cell_type": "code",
   "execution_count": 72,
   "id": "c7f99c40",
   "metadata": {},
   "outputs": [],
   "source": [
    "def calc_ci(x, y, y_pred, params, quantile):\n",
    "    sigma = (((y - y_pred).T@(y - y_pred))/(len(y) - x.shape[1]))\n",
    "    c = np.linalg.inv(x.T@x)\n",
    "    ci = []\n",
    "    for i in range(x.shape[1]):\n",
    "        a = params[i] - quantile*(c[i][i]*sigma)**0.5\n",
    "        b = params[i] + quantile*(c[i][i]*sigma)**0.5\n",
    "        ci.append((a, b))\n",
    "    return ci"
   ]
  },
  {
   "cell_type": "code",
   "execution_count": 79,
   "id": "d079aaf7",
   "metadata": {},
   "outputs": [
    {
     "name": "stdout",
     "output_type": "stream",
     "text": [
      "confident interval for paramater: const is (148.07, 227.07)\n",
      "confident interval for paramater: heartRate is (-0.1, 0.66)\n",
      "confident interval for paramater: BMI is (-0.03, 2.24)\n",
      "confident interval for paramater: cigsPerDay is (-0.39, 0.36)\n"
     ]
    }
   ],
   "source": [
    "t_q = t.ppf(0.975, df=3)\n",
    "ci = calc_ci(X, Y, results.predict(), results.params, t_q)\n",
    "for i, (a, b) in enumerate(ci):\n",
    "    print(f\"confident interval for paramater: {results.params.index[i]} is ({np.around(a, 2)}, {np.around(b, 2)})\")"
   ]
  },
  {
   "cell_type": "code",
   "execution_count": 78,
   "id": "27eeb43c",
   "metadata": {},
   "outputs": [
    {
     "data": {
      "text/plain": [
       "'const'"
      ]
     },
     "execution_count": 78,
     "metadata": {},
     "output_type": "execute_result"
    }
   ],
   "source": [
    "results.params.index[0]"
   ]
  }
 ],
 "metadata": {
  "kernelspec": {
   "display_name": "Python 3 (ipykernel)",
   "language": "python",
   "name": "python3"
  },
  "language_info": {
   "codemirror_mode": {
    "name": "ipython",
    "version": 3
   },
   "file_extension": ".py",
   "mimetype": "text/x-python",
   "name": "python",
   "nbconvert_exporter": "python",
   "pygments_lexer": "ipython3",
   "version": "3.9.10"
  }
 },
 "nbformat": 4,
 "nbformat_minor": 5
}
