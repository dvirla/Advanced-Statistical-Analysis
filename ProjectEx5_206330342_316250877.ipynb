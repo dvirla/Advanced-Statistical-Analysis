{
 "cells": [
  {
   "cell_type": "code",
   "execution_count": 36,
   "id": "d1bb50e8",
   "metadata": {},
   "outputs": [],
   "source": [
    "import pandas as pd\n",
    "from math import log\n",
    "import numpy as np\n",
    "from scipy.stats import beta\n",
    "import matplotlib.pyplot as plt\n",
    "import seaborn as sns\n",
    "from scipy.special import logit\n",
    "import warnings\n",
    "warnings.filterwarnings(\"ignore\")"
   ]
  },
  {
   "cell_type": "code",
   "execution_count": 2,
   "id": "b0f58514",
   "metadata": {},
   "outputs": [],
   "source": [
    "df = pd.read_csv('framingham_heart_disease.csv')"
   ]
  },
  {
   "cell_type": "markdown",
   "id": "9035d4f1",
   "metadata": {},
   "source": [
    "# Part A"
   ]
  },
  {
   "cell_type": "markdown",
   "id": "bec5e92c",
   "metadata": {},
   "source": [
    "# Hypothesis question:\n",
    "## Third Experimental question - Does BMI (X) change between gender (Y)"
   ]
  },
  {
   "cell_type": "markdown",
   "id": "bcde2b83",
   "metadata": {},
   "source": [
    "## Question 1"
   ]
  },
  {
   "cell_type": "code",
   "execution_count": 3,
   "id": "3fe0fcc9",
   "metadata": {},
   "outputs": [],
   "source": [
    "df_observed = df.dropna().sample(n=100, random_state=1)\n",
    "df_old_observation = df.drop(df_observed.index).dropna().sample(n=1000, random_state=1)"
   ]
  },
  {
   "cell_type": "markdown",
   "id": "28bdee90",
   "metadata": {},
   "source": [
    "## Question 2 a"
   ]
  },
  {
   "cell_type": "markdown",
   "id": "8360328d",
   "metadata": {},
   "source": [
    "Let's define $\\tau$ as the median of the bmi, and j=1 as male and j=2 as female"
   ]
  },
  {
   "cell_type": "code",
   "execution_count": 4,
   "id": "309f5275",
   "metadata": {},
   "outputs": [
    {
     "name": "stdout",
     "output_type": "stream",
     "text": [
      "tau=24.915\n"
     ]
    }
   ],
   "source": [
    "tau = df_observed[\"BMI\"].median()\n",
    "print(f'tau={tau}')"
   ]
  },
  {
   "cell_type": "markdown",
   "id": "160ace7d",
   "metadata": {},
   "source": [
    "As we seen in class, the MLE estimator of $\\psi$ is $log(\\frac{(n - {X^{2}_{\\tau}}){X^{1}_{\\tau}}}{(m - {X^{1}_{\\tau}}){X^{2}_{\\tau}}})$ where:<br> m is number of males,<br> n is number of females,<br> $X^{1}_{\\tau}=\\sum_{i=1}^{m}I\\{x_{i}^1>\\tau\\}$,<br> $X^{2}_{\\tau}=\\sum_{i=1}^{n}I\\{x_{i}^{2}>\\tau\\}$."
   ]
  },
  {
   "cell_type": "code",
   "execution_count": 54,
   "id": "295f9023",
   "metadata": {},
   "outputs": [],
   "source": [
    "def calcualte_phi_mle(temp_df, tau):\n",
    "    x_1 = len(temp_df[(temp_df[\"male\"] == 1) & (temp_df[\"BMI\"] > tau)])\n",
    "    x_2 = len(temp_df[(temp_df[\"male\"] == 0) & (temp_df[\"BMI\"] > tau)])\n",
    "    m = len(temp_df[temp_df[\"male\"] == 1])\n",
    "    n = len(temp_df[temp_df[\"male\"] == 0])\n",
    "    phi = log((x_1*(n - x_2))/(x_2)*(m- x_1))\n",
    "    return phi, n, m"
   ]
  },
  {
   "cell_type": "code",
   "execution_count": 55,
   "id": "dbc1945f",
   "metadata": {},
   "outputs": [],
   "source": [
    "phi, n, m = calcualte_phi_mle(df_observed, tau)"
   ]
  },
  {
   "cell_type": "code",
   "execution_count": 56,
   "id": "341693a2",
   "metadata": {},
   "outputs": [
    {
     "name": "stdout",
     "output_type": "stream",
     "text": [
      "Number of male: 53, number of female: 47. MLE estimation of Phi: 6.56\n"
     ]
    }
   ],
   "source": [
    "print(f\"Number of male: {n}, number of female: {m}. MLE estimation of Phi: {np.around(phi,2)}\")"
   ]
  },
  {
   "cell_type": "markdown",
   "id": "bbeeca7c",
   "metadata": {},
   "source": [
    "We can see that the log odd ratio is bigger than zero, from that we can infer that the males BMI are more likely to be bigger than $\\tau$ compared to females BMI."
   ]
  },
  {
   "cell_type": "markdown",
   "id": "7999b44d",
   "metadata": {},
   "source": [
    "Let's find the confident interval of $\\psi$ using (quantile) Bootsrap"
   ]
  },
  {
   "cell_type": "code",
   "execution_count": 8,
   "id": "5970fd3c",
   "metadata": {},
   "outputs": [
    {
     "name": "stdout",
     "output_type": "stream",
     "text": [
      "The confident interval is: [5.83, 7.27]\n"
     ]
    }
   ],
   "source": [
    "B = 500\n",
    "alpha = 0.05\n",
    "quantile_list = []\n",
    "for _ in range(B):\n",
    "    temp_df = df_observed.sample(n=len(df_observed), replace=True)\n",
    "    phi, _, _ = calcualte_phi_mle(temp_df, tau)\n",
    "    quantile_list.append(phi)\n",
    "a = np.quantile(quantile_list, q=(alpha/2))\n",
    "b = np.quantile(quantile_list, q=(1-(alpha/2)))\n",
    "print(f\"The confident interval is: [{np.around(a, 2)}, {np.around(b,2)}]\")"
   ]
  },
  {
   "cell_type": "markdown",
   "id": "54b87d88",
   "metadata": {},
   "source": [
    "And indeed, the MLE estimator that we just calculated is inside the interval. Moreover, we can see that the confident interval is short and informative, it suggest that the BMI of male is more likely to be above $\\tau$ than BMI of females."
   ]
  },
  {
   "cell_type": "markdown",
   "id": "9d05011f",
   "metadata": {},
   "source": [
    "## Question 2 b"
   ]
  },
  {
   "cell_type": "markdown",
   "id": "4edd318f",
   "metadata": {},
   "source": [
    "We will assume that: <br> $\\pi(p_1)=1I\\{0\\le{p_1}\\le1\\}$, <br> $\\pi(p_2)=1I\\{0\\le{p_2}\\le1\\}$ <br> ${\\mathcal{L}}_m(p_1)={p_1}^{X^{1}_{\\tau}}{(1-p_1)}^{m-X^{1}_{\\tau}}$ <br> ${\\mathcal{L}}_n(p_2)={p_2}^{X^{2}_{\\tau}}{(1-p_2)}^{n-X^{2}_{\\tau}}$ <br> and as we seen in lecture the postriors are: <br> $p1|X^1\\sim{Beta(X^{1}_{\\tau} + 1, m - X^{1}_{\\tau} +1)}$ <br> $p2|X^2\\sim{Beta(X^{2}_{\\tau} + 1, n - X^{2}_{\\tau} +1)}$<br> We will compute the estimator using simulation by sampling $p_1$ and $p_2$ from their aposterior distributions, and average the simulated phi."
   ]
  },
  {
   "cell_type": "code",
   "execution_count": 9,
   "id": "32feda1b",
   "metadata": {},
   "outputs": [],
   "source": [
    "def simulate_p_beta(x_1, x_2, m, n, jeffery=False):\n",
    "    a1 = x_1 + 0.5 if jeffery else x_1 + 1\n",
    "    b1 = m - x_1 + 0.5 if jeffery else m - x_1 + 1\n",
    "    a2 = x_2 + 0.5 if jeffery else x_2 + 1 \n",
    "    b2 = n - x_2 + 0.5 if jeffery else  n - x_2 + 1\n",
    "    return beta.rvs(a1, b1), beta.rvs(a2, b2)"
   ]
  },
  {
   "cell_type": "code",
   "execution_count": 57,
   "id": "9be2dd4a",
   "metadata": {},
   "outputs": [
    {
     "name": "stdout",
     "output_type": "stream",
     "text": [
      "The estimator of OR is: 0.55\n",
      "The credible interval is: [(-0.23, 1.34)]\n"
     ]
    }
   ],
   "source": [
    "B = 10000\n",
    "phi_list = []\n",
    "x_1 = len(df_observed[(df_observed[\"male\"] == 1) & (df_observed[\"BMI\"] > tau)][\"BMI\"])\n",
    "x_2 = len(df_observed[(df_observed[\"male\"] ==0) & (df_observed[\"BMI\"] > tau)][\"BMI\"])\n",
    "m = len(df_observed[df_observed[\"male\"] == 1])\n",
    "n = len(df_observed[df_observed[\"male\"] == 0])\n",
    "for _ in range(B):\n",
    "    p1, p2 = simulate_p_beta(x_1, x_2, m, n)\n",
    "    phi_flat = logit(p1) - logit(p2)\n",
    "    phi_list.append(phi_flat)\n",
    "phi_e = sum(phi_list)/len(phi_list)\n",
    "a = np.quantile(phi_list, q=(alpha/2))\n",
    "b = np.quantile(phi_list, q=(1-(alpha/2)))\n",
    "print(f\"The estimator of OR is: {np.around(phi_e, 2)}\")\n",
    "print(f\"The credible interval is: [{np.around(a, 2), np.around(b, 2)}]\")"
   ]
  },
  {
   "cell_type": "markdown",
   "id": "b1c37e3f",
   "metadata": {},
   "source": [
    "As we excpect, the odds that men BMI will be above tau is bigger than the odds that women will.<br>\n",
    "With that being said, we can see that the estimator is much closer to zero and the credible interval is not very informative since it is big and contains zero. This could indicate that the prior we chose might be wrong or that there is no evidence for stochastical differences between the distributions."
   ]
  },
  {
   "cell_type": "markdown",
   "id": "6e59b512",
   "metadata": {},
   "source": [
    "## Question 2 c"
   ]
  },
  {
   "cell_type": "markdown",
   "id": "c6626824",
   "metadata": {},
   "source": [
    "Now we will assume:<br>\n",
    "$Z_1^1,...,Z_m^1 \\sim Bernouli(p_1)$<br>\n",
    "$Z_1^2,...,Z_n^2 \\sim Bernouli(p_2)$ where:<br>\n",
    "m is number of males,<br>\n",
    "n is number of females.<br>\n",
    "We saw in the lecture that $\\pi(p_j)=\\sqrt{\\frac{1}{p_j(1-p)j)}}$ for j=1,2. <br>\n",
    "Using these priors we get that the aposteriors distributions of $p_1 \\ and \\ p_2$ are:<br>\n",
    "$p1|X^1\\sim{Beta(X^{1}_{\\tau} + 0.5, m - X^{1}_{\\tau} +0.5)}$ <br>\n",
    "$p2|X^2\\sim{Beta(X^{2}_{\\tau} + 0.5, n - X^{2}_{\\tau} +0.5)}$"
   ]
  },
  {
   "cell_type": "code",
   "execution_count": 11,
   "id": "d566f60b",
   "metadata": {},
   "outputs": [
    {
     "name": "stdout",
     "output_type": "stream",
     "text": [
      "The estimator of OR is: 0.56\n",
      "The credible interval is: [(-0.21, 1.34)]\n"
     ]
    }
   ],
   "source": [
    "B = 10000\n",
    "phi_jefferys_list = []\n",
    "for _ in range(B):\n",
    "    p1, p2 = simulate_p_beta(x_1, x_2, m, n, True)\n",
    "    phi_jefferys = logit(p1) - logit(p2)\n",
    "    phi_jefferys_list.append(phi_jefferys)\n",
    "phi_jefferys_e = sum(phi_jefferys_list)/len(phi_jefferys_list)\n",
    "a = np.quantile(phi_jefferys_list, q=(alpha/2))\n",
    "b = np.quantile(phi_jefferys_list, q=(1-(alpha/2)))\n",
    "print(f\"The estimator of OR is: {np.around(phi_jefferys_e, 2)}\")\n",
    "print(f\"The credible interval is: [{np.around(a, 2), np.around(b, 2)}]\")"
   ]
  },
  {
   "cell_type": "markdown",
   "id": "8420afa5",
   "metadata": {},
   "source": [
    "## Question 2 d"
   ]
  },
  {
   "cell_type": "markdown",
   "id": "56f127a1",
   "metadata": {},
   "source": [
    "Assuming that now both $p_1 \\ and \\ p_2$ have priors in the form of Beta distribution and also assuming $Z_i^j \\sim Bernouli(p_j)$, we get that the aposterior distributions are: <br>\n",
    "$p1|X^1, X^1_{old} \\sim{Beta(X^{1}_{\\tau} + \\alpha_1 + 1, m - X^{1}_{\\tau} + \\beta_1 + 1)}$ <br>\n",
    "$p2|X^2, X^2_{old} \\sim{Beta(X^{2}_{\\tau} + \\alpha_2 + 1, n - X^{2}_{\\tau} + \\beta_2 + 1)}$"
   ]
  },
  {
   "cell_type": "code",
   "execution_count": 22,
   "id": "d6db19ff",
   "metadata": {},
   "outputs": [],
   "source": [
    "male_z = df_old_observation[df_old_observation['male'] == 1][['BMI']]\n",
    "female_z = df_old_observation[df_old_observation['male'] == 0][['BMI']]"
   ]
  },
  {
   "cell_type": "code",
   "execution_count": 34,
   "id": "e2292668",
   "metadata": {},
   "outputs": [],
   "source": [
    "male_z['Z'] = male_z[['BMI']].apply(lambda x: x>tau)\n",
    "female_z['Z'] = female_z[['BMI']].apply(lambda x: x>tau)"
   ]
  },
  {
   "cell_type": "code",
   "execution_count": 40,
   "id": "d9abe0ed",
   "metadata": {},
   "outputs": [],
   "source": [
    "male_alpha, male_beta = beta.fit(male_z['Z'])[:2]\n",
    "female_alpha, female_beta = beta.fit(female_z['Z'])[:2]"
   ]
  },
  {
   "cell_type": "code",
   "execution_count": 47,
   "id": "4a187fed",
   "metadata": {},
   "outputs": [
    {
     "name": "stdout",
     "output_type": "stream",
     "text": [
      "The parameteres for p1 are: alpha=1.48, beta=0.62.\n",
      "The parameteres for p2 are: alpha=1.46, beta=0.92.\n"
     ]
    }
   ],
   "source": [
    "print(f\"The parameteres for p1 are: alpha={np.around(male_alpha, 2)}, beta={np.around(male_beta, 2)}.\\nThe parameteres for p2 are: alpha={np.around(female_alpha, 2)}, beta={np.around(female_beta, 2)}.\")"
   ]
  },
  {
   "cell_type": "code",
   "execution_count": 48,
   "id": "c4ab89a7",
   "metadata": {},
   "outputs": [
    {
     "name": "stdout",
     "output_type": "stream",
     "text": [
      "The estimator of OR is: 0.81\n",
      "The credible interval is: [(-4.14, 6.69)]\n"
     ]
    }
   ],
   "source": [
    "B = 10000\n",
    "phi_old_data_list = []\n",
    "for _ in range(B):\n",
    "    p1, p2 = beta.rvs(male_alpha, male_beta), beta.rvs(female_alpha, female_beta)\n",
    "    phi_old_data = logit(p1) - logit(p2)\n",
    "    phi_old_data_list.append(phi_old_data)\n",
    "phi_old_data_e = sum(phi_old_data_list)/len(phi_old_data_list)\n",
    "a = np.quantile(phi_old_data_list, q=(alpha/2))\n",
    "b = np.quantile(phi_old_data_list, q=(1-(alpha/2)))\n",
    "print(f\"The estimator of OR is: {np.around(phi_old_data_e, 2)}\")\n",
    "print(f\"The credible interval is: [{np.around(a, 2), np.around(b, 2)}]\")"
   ]
  },
  {
   "cell_type": "markdown",
   "id": "229c8aa0",
   "metadata": {},
   "source": [
    "## Question 2 d"
   ]
  },
  {
   "cell_type": "code",
   "execution_count": 58,
   "id": "5f1507d7",
   "metadata": {},
   "outputs": [
    {
     "name": "stdout",
     "output_type": "stream",
     "text": [
      "Comparing all estimators for phi:\n",
      "phi based on MLE=6.56,\n",
      "phi based on flat priors=0.55,\n",
      "phi based on Jefferys' prior=0.56,\n",
      "phi based on old data and beta prior=0.81.\n"
     ]
    }
   ],
   "source": [
    "print(f\"Comparing all estimators for phi:\\nphi based on MLE={np.around(phi, 2)},\\nphi based on flat priors={np.around(phi_e, 2)},\\nphi based on Jefferys' prior={np.around(phi_jefferys_e, 2)},\\nphi based on old data and beta prior={np.around(phi_old_data_e, 2)}.\")"
   ]
  },
  {
   "cell_type": "markdown",
   "id": "91440504",
   "metadata": {},
   "source": [
    "As we can see, MLE got us the highest phi estimation by far. Moreover, we can see that all estimators agree that the odds of males BMI being larger than $\\tau$ are greater than the odds of females BMI to pass it. <br>\n",
    "However, as we saw in previous sections, the credible intervals for all methods other than MLE are quite large and include zero so it might be not informative enough. <br>\n",
    "Since MLE doesn't assume any prior over $p_1 \\ and \\ p_2$ it might be better to go with it and say confidently that the odds are in favour of males BMI. <br>\n",
    "In addition, comparing between flat, Jefferys' and Beta priors over $p_1 \\ and \\ p_2$ we can see that the flat and Jefferys' priors achieved quite the same estimators while Beta prior achieved an estimator closer to 1. <br>\n",
    "This could be a result of relying on old data and some knowledge over the parameters which is more informative yet biased than the priors that try to be non-informative."
   ]
  }
 ],
 "metadata": {
  "kernelspec": {
   "display_name": "Python 3",
   "language": "python",
   "name": "python3"
  },
  "language_info": {
   "codemirror_mode": {
    "name": "ipython",
    "version": 3
   },
   "file_extension": ".py",
   "mimetype": "text/x-python",
   "name": "python",
   "nbconvert_exporter": "python",
   "pygments_lexer": "ipython3",
   "version": "3.8.8"
  }
 },
 "nbformat": 4,
 "nbformat_minor": 5
}
