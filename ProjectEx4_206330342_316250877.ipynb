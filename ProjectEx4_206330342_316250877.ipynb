{
 "cells": [
  {
   "cell_type": "markdown",
   "id": "554aceee",
   "metadata": {},
   "source": [
    "## Part 1 - Bootstraping"
   ]
  },
  {
   "cell_type": "code",
   "execution_count": 16,
   "id": "33361040",
   "metadata": {},
   "outputs": [],
   "source": [
    "import pandas as pd\n",
    "import seaborn as sns\n",
    "import matplotlib.pyplot as plt\n",
    "import numpy as np\n",
    "from sklearn.model_selection import train_test_split\n",
    "import statsmodels.api as sm\n",
    "from scipy.stats import norm, t\n",
    "from sklearn.utils import resample\n",
    "from sklearn.preprocessing import PolynomialFeatures\n",
    "from sklearn.linear_model import LinearRegression\n",
    "from sklearn.model_selection import cross_val_score\n",
    "from sklearn.linear_model import LogisticRegression\n",
    "from sklearn.metrics import mean_squared_error\n",
    "from itertools import combinations\n",
    "from collections import defaultdict\n",
    "from math import comb\n",
    "\n",
    "import warnings\n",
    "warnings.filterwarnings('ignore')"
   ]
  },
  {
   "cell_type": "code",
   "execution_count": 17,
   "id": "92ac96d5",
   "metadata": {},
   "outputs": [],
   "source": [
    "df = pd.read_csv('framingham_heart_disease.csv')"
   ]
  },
  {
   "cell_type": "markdown",
   "id": "5fc1563b",
   "metadata": {},
   "source": [
    "### Section 1\n",
    "Reminder from previous part:<br>\n",
    "We would like to explore the relations between: Number of cigaretes per day (discrete), total cholesterol (continous), diaBP (diastolic BP) and sysBP (systolic BP - continous). <br>\n",
    "Hence, our research question would be:\n",
    "**What are the effects of number of cigaretes per day, total cholesterol and diaBP over sysBP**"
   ]
  },
  {
   "cell_type": "markdown",
   "id": "1fae3cec",
   "metadata": {},
   "source": [
    "Preparing the subset that we will work with, as done in part 3"
   ]
  },
  {
   "cell_type": "code",
   "execution_count": 18,
   "id": "0e97400a",
   "metadata": {},
   "outputs": [],
   "source": [
    "df.dropna(subset=['cigsPerDay', 'totChol', 'diaBP', 'sysBP'], inplace=True)\n",
    "df_train, df_test, y_train, y_test = train_test_split(df[['cigsPerDay', 'totChol', 'diaBP']], df[['sysBP']], test_size=0.9519115171916326, random_state=42)"
   ]
  },
  {
   "cell_type": "markdown",
   "id": "7d00dfae",
   "metadata": {},
   "source": [
    "#### section a - calculating confidence intervals based on the variance matrix and normal approximation \n",
    "Calculating the parameters"
   ]
  },
  {
   "cell_type": "code",
   "execution_count": 19,
   "id": "ece3826f",
   "metadata": {},
   "outputs": [
    {
     "data": {
      "text/plain": [
       "const        -6.795017\n",
       "cigsPerDay   -0.002428\n",
       "totChol       0.055739\n",
       "diaBP         1.520925\n",
       "dtype: float64"
      ]
     },
     "execution_count": 19,
     "metadata": {},
     "output_type": "execute_result"
    }
   ],
   "source": [
    "X = sm.add_constant(df_train)\n",
    "model = sm.OLS(y_train,X)\n",
    "model_res = model.fit()\n",
    "model_res.params"
   ]
  },
  {
   "cell_type": "code",
   "execution_count": 20,
   "id": "bdc3a3de",
   "metadata": {},
   "outputs": [],
   "source": [
    "# Since the variance is unknown we will compute it using the unbiased estimator as shown in tutorial 5\n",
    "dof = len(df_train)-2\n",
    "sigma_squared = np.dot(model_res.resid.to_numpy().T,model_res.resid.to_numpy())/(len(df_train)-4)\n",
    "ci_t_percentile = norm().ppf(0.95)\n",
    "C = np.linalg.inv(np.matmul(X.T,X))  # C = (X.T * X)^-1"
   ]
  },
  {
   "cell_type": "code",
   "execution_count": 21,
   "id": "024cbcbb",
   "metadata": {},
   "outputs": [
    {
     "name": "stdout",
     "output_type": "stream",
     "text": [
      "Confidence interval for beta_0 is: [-20.120873608415245,6.530840172599772]\n",
      "Confidence interval for beta_1 is: [-0.12499805793941654,0.12014199808401821]\n",
      "Confidence interval for beta_2 is: [0.024470264676292097,0.08700841545378751]\n",
      "Confidence interval for beta_3 is: [1.3755587622140237,1.6662906536246527]\n"
     ]
    }
   ],
   "source": [
    "normal_approx_cis = []\n",
    "for i, beta in enumerate(model_res.params):\n",
    "    normal_approx_cis.append((beta - ci_t_percentile*np.sqrt(sigma_squared*C[i,i]), beta + ci_t_percentile*np.sqrt(sigma_squared*C[i,i])))\n",
    "    print(f\"Confidence interval for beta_{i} is: [{beta - ci_t_percentile*np.sqrt(sigma_squared*C[i,i])},{beta + ci_t_percentile*np.sqrt(sigma_squared*C[i,i])}]\")"
   ]
  },
  {
   "cell_type": "markdown",
   "id": "0fc95a14",
   "metadata": {},
   "source": [
    "#### section b - confidence intervals based on bootsrtap standart error"
   ]
  },
  {
   "cell_type": "code",
   "execution_count": 22,
   "id": "7bad8160",
   "metadata": {},
   "outputs": [],
   "source": [
    "def cal_bootstrap_normal_se(B, df, features_cols, label_cols):\n",
    "    df_len = len(df)\n",
    "    num_param = len(df.columns)\n",
    "    param_sum = np.zeros((num_param))\n",
    "    param_sum2 = np.zeros((num_param))\n",
    "    for i in range(B):\n",
    "        boot_df = df.sample(replace=True, n=200)\n",
    "        y = boot_df[label_cols]\n",
    "        X = boot_df[features_cols]\n",
    "        X['const'] = np.ones((df_len))\n",
    "        X = X[['const', *features_cols]]\n",
    "        model = sm.OLS(y,X)\n",
    "        model_res = model.fit()\n",
    "        param_sum = param_sum + model_res.params\n",
    "        param_sum2 = param_sum2 + (model_res.params) ** 2\n",
    "    return np.sqrt((1/B)*(param_sum2) - ((1/B)*(param_sum))**2)\n",
    "        "
   ]
  },
  {
   "cell_type": "code",
   "execution_count": 23,
   "id": "7f8568ea",
   "metadata": {},
   "outputs": [],
   "source": [
    "bootstrap_se = cal_bootstrap_normal_se(400, pd.concat([df_train, y_train], axis=1),\n",
    "                        features_cols=['cigsPerDay', 'totChol', 'diaBP'], label_cols=['sysBP'])"
   ]
  },
  {
   "cell_type": "code",
   "execution_count": 24,
   "id": "0ec85885",
   "metadata": {},
   "outputs": [
    {
     "name": "stdout",
     "output_type": "stream",
     "text": [
      "Confidence interval based on bootstrap s.e for beta_0 is: [-22.74622756646079,9.15619413064532]\n",
      "Confidence interval based on bootstrap s.e for beta_1 is: [-0.132661162021095,0.12780510216569668]\n",
      "Confidence interval based on bootstrap s.e for beta_2 is: [0.020681187084670538,0.09079749304540907]\n",
      "Confidence interval based on bootstrap s.e for beta_3 is: [1.3550205839387222,1.6868288318999543]\n"
     ]
    }
   ],
   "source": [
    "bootstrap_se_cis = []\n",
    "for i, beta in enumerate(model_res.params):\n",
    "    bootstrap_se_cis.append((beta - ci_t_percentile*bootstrap_se[i],beta + ci_t_percentile*bootstrap_se[i]))\n",
    "    print(f\"Confidence interval based on bootstrap s.e for beta_{i} is: [{beta - ci_t_percentile*bootstrap_se[i]},{beta + ci_t_percentile*bootstrap_se[i]}]\")"
   ]
  },
  {
   "cell_type": "markdown",
   "id": "f3fd575e",
   "metadata": {},
   "source": [
    "#### section c - pivotals confidence intervals "
   ]
  },
  {
   "cell_type": "code",
   "execution_count": 25,
   "id": "4bc52f01",
   "metadata": {},
   "outputs": [],
   "source": [
    "def cal_boot_pivot_quantile(B, df, features_cols, labels_cols, alpha):\n",
    "    num_sample = len(df)\n",
    "    q = 1 - alpha/2\n",
    "    g_dict = defaultdict(list)\n",
    "    q_list = [0] *(len(features_cols) + 1)\n",
    "    # calculate the real sample param\n",
    "    X = df[features_cols]\n",
    "    X['const'] = np.ones((num_sample))\n",
    "    X = X[['const', *features_cols]]\n",
    "    Y = df[labels_cols]\n",
    "    model = sm.OLS(Y, X)\n",
    "    model_res = model.fit()\n",
    "    b_r = model_res.params\n",
    "    for i in range(B):\n",
    "        new_df = df.sample(num_sample, replace=True)\n",
    "        X = new_df[features_cols]\n",
    "        X['const'] = np.ones((num_sample))\n",
    "        X = X[['const', *features_cols]]\n",
    "        Y = new_df[labels_cols]\n",
    "        model = sm.OLS(Y, X)\n",
    "        model_res = model.fit()\n",
    "        for i in range(len(features_cols) + 1):\n",
    "            g_dict[i].append((num_sample*0.5)*(model_res.params[i] - b_r[i]))\n",
    "    for i in range(len(features_cols) + 1):\n",
    "        q_list[i] = (np.quantile(g_dict[i], q), np.quantile(g_dict[i], alpha/2))\n",
    "    return q_list"
   ]
  },
  {
   "cell_type": "code",
   "execution_count": 26,
   "id": "047c226e",
   "metadata": {},
   "outputs": [],
   "source": [
    "qunatiles_list = cal_boot_pivot_quantile(400, pd.concat([df_train, y_train], axis=1),\n",
    "                        features_cols=['cigsPerDay', 'totChol', 'diaBP'], labels_cols=['sysBP'], alpha=0.05)"
   ]
  },
  {
   "cell_type": "code",
   "execution_count": 27,
   "id": "50b77f7c",
   "metadata": {},
   "outputs": [
    {
     "name": "stdout",
     "output_type": "stream",
     "text": [
      "Pivotal confidence intervals based on bootstrap for beta_0 is: [-133.94739449213958,149.97613479984486]\n",
      "Pivotal confidence intervals based on bootstrap for beta_1 is: [-1.0635786593584986,1.044649893407047]\n",
      "Pivotal confidence intervals based on bootstrap for beta_2 is: [-0.22495997331494985,0.3456965557065361]\n",
      "Pivotal confidence intervals based on bootstrap for beta_3 is: [-0.03544171241799998,2.951690817087851]\n"
     ]
    }
   ],
   "source": [
    "pivotal_cis = []\n",
    "for i, beta in enumerate(model_res.params):\n",
    "    pivotal_cis.append((beta - qunatiles_list[i][0]/np.sqrt(len(df_train)),beta - qunatiles_list[i][1]/np.sqrt(len(df_train))))\n",
    "    print(f\"Pivotal confidence intervals based on bootstrap for beta_{i} is: [{beta - qunatiles_list[i][0]/np.sqrt(len(df_train))},{beta - qunatiles_list[i][1]/np.sqrt(len(df_train))}]\")"
   ]
  },
  {
   "cell_type": "markdown",
   "id": "6e3e0e7d",
   "metadata": {},
   "source": [
    "### Section 2 - confidence intervals based on quantiles method"
   ]
  },
  {
   "cell_type": "code",
   "execution_count": 28,
   "id": "d5f95a3b",
   "metadata": {},
   "outputs": [],
   "source": [
    "def cal_boot_quantile(B, df, features_cols, labels_cols, alpha):\n",
    "    num_sample = len(df)\n",
    "    q1 = 1 - (alpha / 2)\n",
    "    q2 = alpha / 2\n",
    "    g_dict = defaultdict(list)\n",
    "    q_list = [0] * (len(features_cols) + 1)\n",
    "    for i in range(B):\n",
    "        new_df = df.sample(num_sample, replace=True)\n",
    "        X = new_df[features_cols]\n",
    "        X['const'] = np.ones((num_sample))\n",
    "        X = X[['const', *features_cols]]\n",
    "        Y = new_df[labels_cols]\n",
    "        model = sm.OLS(Y, X)\n",
    "        model_res = model.fit()\n",
    "        for i in range(len(features_cols) + 1):\n",
    "            g_dict[i].append(model_res.params[i])\n",
    "    for i in range(len(features_cols) + 1):\n",
    "        q_list[i] = (np.quantile(g_dict[i], q2), np.quantile(g_dict[i], q1))\n",
    "    return q_list"
   ]
  },
  {
   "cell_type": "code",
   "execution_count": 29,
   "id": "2d85b451",
   "metadata": {},
   "outputs": [],
   "source": [
    "confidence_intervals = cal_boot_quantile(400, pd.concat([df_train, y_train], axis=1),\n",
    "                        features_cols=['cigsPerDay', 'totChol', 'diaBP'], labels_cols=['sysBP'], alpha=0.05)"
   ]
  },
  {
   "cell_type": "code",
   "execution_count": 30,
   "id": "433a57b2",
   "metadata": {},
   "outputs": [
    {
     "name": "stdout",
     "output_type": "stream",
     "text": [
      "Quantiles confidence intervals based on bootstrap for beta_0 is: [-26.45587052275509,11.319780952748483]\n",
      "Quantiles confidence intervals based on bootstrap for beta_1 is: [-0.1599262425947986,0.16393993795392292]\n",
      "Quantiles confidence intervals based on bootstrap for beta_2 is: [0.01310704974665416,0.0999600475275766]\n",
      "Quantiles confidence intervals based on bootstrap for beta_3 is: [1.320620576189419,1.7340459451383243]\n"
     ]
    }
   ],
   "source": [
    "qunatiles_cis = []\n",
    "for i, ci in enumerate(confidence_intervals):\n",
    "    qunatiles_cis.append((ci[0],ci[1]))\n",
    "    print(f\"Quantiles confidence intervals based on bootstrap for beta_{i} is: [{ci[0]},{ci[1]}]\")"
   ]
  },
  {
   "cell_type": "markdown",
   "id": "0b0c6405",
   "metadata": {},
   "source": [
    "**Calculating the parameters using the whole dataset**"
   ]
  },
  {
   "cell_type": "code",
   "execution_count": 31,
   "id": "e249f5f4",
   "metadata": {},
   "outputs": [
    {
     "data": {
      "text/plain": [
       "const         5.611044\n",
       "cigsPerDay   -0.082200\n",
       "totChol       0.040282\n",
       "diaBP         1.422623\n",
       "dtype: float64"
      ]
     },
     "execution_count": 31,
     "metadata": {},
     "output_type": "execute_result"
    }
   ],
   "source": [
    "X = sm.add_constant(df[['cigsPerDay', 'totChol', 'diaBP']])\n",
    "model = sm.OLS(df[['sysBP']],X)\n",
    "model_res = model.fit()\n",
    "model_res.params"
   ]
  },
  {
   "cell_type": "markdown",
   "id": "ba131a45",
   "metadata": {},
   "source": [
    "### Comparing the confidence intervals"
   ]
  },
  {
   "cell_type": "code",
   "execution_count": 44,
   "id": "8c442a33",
   "metadata": {},
   "outputs": [],
   "source": [
    "ci_list = [normal_approx_cis, bootstrap_se_cis, pivotal_cis, qunatiles_cis]\n",
    "ci_names = ['normal approx', 'bootstrap se', 'pivotal', 'qunatiles']\n",
    "data_dict = {}\n",
    "data_dict['beta_i'] = ['beta 0','beta 1','beta 2', 'beta 3']\n",
    "for (name, li) in zip(ci_names, ci_list):\n",
    "    data_dict[name+'_lower'] = [x[0] for x in li]\n",
    "    data_dict[name+'_upper'] = [x[1] for x in li]\n",
    "ci_df = pd.DataFrame(data_dict)"
   ]
  },
  {
   "cell_type": "code",
   "execution_count": 90,
   "id": "90332547",
   "metadata": {},
   "outputs": [
    {
     "data": {
      "image/png": "[encoded data removed]",
      "text/plain": [
       "<Figure size 1440x1440 with 4 Axes>"
      ]
     },
     "metadata": {
      "needs_background": "light"
     },
     "output_type": "display_data"
    }
   ],
   "source": [
    "fig, ax = plt.subplots(2, 2, sharey=True, figsize=(20,20))\n",
    "row_idx = 0\n",
    "col_idx = 0\n",
    "for i, row in ci_df.iterrows():\n",
    "    for y, ci_name in enumerate(ci_names):\n",
    "        ax[row_idx][col_idx].plot((row[ci_name+'_lower'], row[ci_name+'_upper']), (y,y), label=f\"Length={np.around(row[ci_name+'_upper']-row[ci_name+'_lower'],2)}\")\n",
    "    ax[row_idx][col_idx].set_title(row['beta_i'] + ' confidence intervals', fontsize=16)\n",
    "    ax[row_idx][col_idx].set_xlabel('x', fontsize=16)\n",
    "    ax[row_idx][col_idx].set_ylabel('Method', fontsize=16)\n",
    "    ax[row_idx][col_idx].tick_params(axis='both', which='major', labelsize=16)\n",
    "    ax[row_idx][col_idx].legend(fontsize=16)\n",
    "    col_idx += 1\n",
    "    if i%2:\n",
    "        col_idx = 0\n",
    "        row_idx += 1\n",
    "plt.yticks(range(len(ci_names)),ci_names)\n",
    "plt.show()"
   ]
  },
  {
   "cell_type": "markdown",
   "id": "048fb90c",
   "metadata": {},
   "source": [
    "**Insights**:<br>\n",
    "* As we can see the confidence interval based on the normal approximation yields the smallest interval for all of the parameters (as expected).\n",
    "* The next smallest interval is the interval based on the se calculated using the bootstrap.\n",
    "* In small gap behind the three, the interval calculated based on the quantiles (using bootstrap) is the third smallest.\n",
    "* The largest interval was calculated based on the pivot method. We can see that the difference between this interval's length and all other intervals is significantly large, this might be due to the fact that the pivot method relies on estimating properly the distribution of the parmeters $\\beta_i$. This also assumes that there is a distribution for those parameters. Both of those assumptions are very strong and seems like they do not hold."
   ]
  },
  {
   "cell_type": "markdown",
   "id": "f84a5372",
   "metadata": {},
   "source": [
    "### Section 3"
   ]
  },
  {
   "cell_type": "markdown",
   "id": "48fd8c15",
   "metadata": {},
   "source": [
    "#### Section a"
   ]
  },
  {
   "cell_type": "code",
   "execution_count": 17,
   "id": "77ef45d3",
   "metadata": {},
   "outputs": [],
   "source": [
    "new_df = pd.concat([df_test, y_test], axis=1).sample(100)"
   ]
  },
  {
   "cell_type": "code",
   "execution_count": 18,
   "id": "50124556",
   "metadata": {},
   "outputs": [],
   "source": [
    "y_test_100 = new_df[['sysBP']]\n",
    "new_df = new_df[['cigsPerDay', 'totChol', 'diaBP']]"
   ]
  },
  {
   "cell_type": "code",
   "execution_count": 19,
   "id": "60f37ec6",
   "metadata": {},
   "outputs": [],
   "source": [
    "X = sm.add_constant(new_df)"
   ]
  },
  {
   "cell_type": "code",
   "execution_count": 20,
   "id": "134ef367",
   "metadata": {},
   "outputs": [],
   "source": [
    "y_new_preds = model_res.predict(X)"
   ]
  },
  {
   "cell_type": "markdown",
   "id": "d4d27e11",
   "metadata": {},
   "source": [
    "#### Section b"
   ]
  },
  {
   "cell_type": "code",
   "execution_count": 21,
   "id": "4a74c3d1",
   "metadata": {},
   "outputs": [],
   "source": [
    "def cal_bootstrap_normal_se_predict(B, df_train, X_test, features_cols, labels_cols):\n",
    "    df_test_len = len(X_test)\n",
    "    df_train_len = len(df_train)\n",
    "    predict_sum = np.zeros((df_test_len))\n",
    "    predict_sum2 = np.zeros((df_test_len))\n",
    "    for i in range(B):\n",
    "        boot_df = df_train.sample(replace=True, n=200)\n",
    "        y = boot_df[labels_cols]\n",
    "        X = boot_df[features_cols]\n",
    "        X['const'] = np.ones((df_train_len))\n",
    "        X = X[['const', *features_cols]]\n",
    "        model = sm.OLS(y,X)\n",
    "        model_res = model.fit()\n",
    "        predict_sum = predict_sum + model_res.predict(X_test)\n",
    "        predict_sum2 = predict_sum2 + (model_res.predict(X_test)) ** 2\n",
    "    return np.sqrt((1/B)*(predict_sum2) - ((1/B)*(predict_sum))**2)"
   ]
  },
  {
   "cell_type": "code",
   "execution_count": 22,
   "id": "9fce14ad",
   "metadata": {},
   "outputs": [],
   "source": [
    "y_preds_se = cal_bootstrap_normal_se_predict(400, pd.concat([df_train, y_train], axis=1),\n",
    "                        X, features_cols=['cigsPerDay', 'totChol', 'diaBP'], labels_cols=['sysBP'])"
   ]
  },
  {
   "cell_type": "code",
   "execution_count": 23,
   "id": "79841b3f",
   "metadata": {},
   "outputs": [],
   "source": [
    "y_new_cis = [(y_pred - ci_t_percentile*y_pred_se, y_pred + ci_t_percentile*y_pred_se)\n",
    "              for (y_pred, y_pred_se) in zip(y_new_preds, y_preds_se)]"
   ]
  },
  {
   "cell_type": "code",
   "execution_count": 24,
   "id": "1fc82b00",
   "metadata": {},
   "outputs": [
    {
     "data": {
      "text/plain": [
       "0.26"
      ]
     },
     "execution_count": 24,
     "metadata": {},
     "output_type": "execute_result"
    }
   ],
   "source": [
    "sum([y_new_ci[0] < y_new[0] < y_new_ci[1] for (y_new, y_new_ci) in zip(y_test_100.values, y_new_cis)])/100"
   ]
  },
  {
   "cell_type": "markdown",
   "id": "fbc14831",
   "metadata": {},
   "source": [
    "### Trying to calculate confidence intervals in quantiles method"
   ]
  },
  {
   "cell_type": "code",
   "execution_count": 25,
   "id": "dcd00d2b",
   "metadata": {},
   "outputs": [],
   "source": [
    "def cal_bootstrap_quantile_predict(B, df_train, X_test, features_cols, labels_cols, alpha=0.05):\n",
    "    df_test_len = len(X_test)\n",
    "    df_train_len = len(df_train)\n",
    "    q1 = alpha / 2\n",
    "    q2 = 1 - q1\n",
    "    predict_dict = defaultdict(list)\n",
    "    q_list = [0] * (df_test_len)\n",
    "    for i in range(B):\n",
    "        boot_df = df_train.sample(replace=True, n=200)\n",
    "        y = boot_df[labels_cols]\n",
    "        X = boot_df[features_cols]\n",
    "        X['const'] = np.ones((df_train_len))\n",
    "        X = X[['const', *features_cols]]\n",
    "        model = sm.OLS(y,X)\n",
    "        model_res = model.fit()\n",
    "        pred = model_res.predict(X_test)\n",
    "        for j in range(df_test_len):\n",
    "            predict_dict[j].append(pred.iloc[j])\n",
    "    for i in range(df_test_len):\n",
    "        q_list[i] = (np.quantile(predict_dict[i], q1), np.quantile(predict_dict[i], q2))\n",
    "    return q_list"
   ]
  },
  {
   "cell_type": "code",
   "execution_count": 26,
   "id": "dffe6472",
   "metadata": {},
   "outputs": [],
   "source": [
    "y_pred_ci = cal_bootstrap_quantile_predict(400, pd.concat([df_train, y_train], axis=1),\n",
    "                        X, features_cols=['cigsPerDay', 'totChol', 'diaBP'], labels_cols=['sysBP'])"
   ]
  },
  {
   "cell_type": "markdown",
   "id": "8eb5d91e",
   "metadata": {},
   "source": [
    "#### Section c"
   ]
  },
  {
   "cell_type": "code",
   "execution_count": 27,
   "id": "0ed828e3",
   "metadata": {},
   "outputs": [
    {
     "data": {
      "text/plain": [
       "0.26"
      ]
     },
     "execution_count": 27,
     "metadata": {},
     "output_type": "execute_result"
    }
   ],
   "source": [
    "sum([y_new_ci[0] < y_new[0] < y_new_ci[1] for (y_new, y_new_ci) in zip(y_test_100.values, y_pred_ci)])/100"
   ]
  },
  {
   "cell_type": "markdown",
   "id": "65ca977d",
   "metadata": {},
   "source": [
    "#### Section d"
   ]
  },
  {
   "cell_type": "markdown",
   "id": "fafb3def",
   "metadata": {},
   "source": [
    "We seen in class that the confident interval for the $Y_{new}$ is $[\\hat{Y_{new}}\\pm z_{1-\\frac{\\alpha}{2}}\\hat{\\sigma_{\\epsilon}}\\sqrt{1+X_{new}^T(X^TX)^{-1}X_{new}}]$. The idea behind this modification in the confident interval is that we adding the estimator of the variance of the data to the variance of our model, which make the confident interval longer. So if we want to build a confident interval base of Bootstrap, we would make a small modification in our current Bootstrap confident interval : $[\\hat{Y^i}_{new}\\pm z_{\\frac{\\alpha}{2}}\\hat{S.E}_{bootstrap}], \\ when \\ \\hat{S.E}_{bootstrap}^2=\\underbrace{\\frac{1}{B}\\sum_{j=1}^{B}\\hat{(Y^j)^2}_{new}-\\frac{1}{B}(\\sum_{j=1}^{B}\\hat{(Y^j)}_{new})^2 }_{variance \\ of \\ the \\ model}+\\underbrace{\\frac{1}{B}\\sum_{j=1}^{B}\\hat{\\sigma^2_j}_{\\epsilon}}_{estimator \\ to \\ the \\ model \\ variance} $  "
   ]
  },
  {
   "cell_type": "markdown",
   "id": "3cdf20a5",
   "metadata": {},
   "source": [
    "## Part 2 "
   ]
  },
  {
   "cell_type": "code",
   "execution_count": 41,
   "id": "ff5a3422",
   "metadata": {},
   "outputs": [],
   "source": [
    "df = pd.read_csv('framingham_heart_disease.csv')\n",
    "df.dropna(subset=['BMI', 'male'], inplace=True)"
   ]
  },
  {
   "cell_type": "markdown",
   "id": "4d76f9e9",
   "metadata": {},
   "source": [
    "## 1. Hypothesis question:"
   ]
  },
  {
   "cell_type": "markdown",
   "id": "fb60eb19",
   "metadata": {},
   "source": [
    "Let's denote $BMI_{male}$ as the BMI of a random male and $BMI_{female}$ as the BMI of a random female.<br> Our Hypothesis question is : BMI of a male is sthochstic greeter then BMI of a female i.e : $BMI_{male} \\ \\succ BMI_{female}$"
   ]
  },
  {
   "cell_type": "code",
   "execution_count": 42,
   "id": "f795c3a2",
   "metadata": {},
   "outputs": [
    {
     "data": {
      "text/plain": [
       "Text(0.5, 1.0, 'Female')"
      ]
     },
     "execution_count": 42,
     "metadata": {},
     "output_type": "execute_result"
    },
    {
     "data": {
      "image/png": "[encoded data removed]",
      "text/plain": [
       "<Figure size 1080x720 with 2 Axes>"
      ]
     },
     "metadata": {
      "needs_background": "light"
     },
     "output_type": "display_data"
    }
   ],
   "source": [
    "fig, axes = plt.subplots(nrows=1, ncols=2, figsize=(15,10))\n",
    "sns.histplot(data=df[df['male']== 1], x='BMI', ax=axes[0]).set_title('Male')\n",
    "sns.histplot(data=df[df['male']== 0], x='BMI', ax=axes[1]).set_title('Female')"
   ]
  },
  {
   "cell_type": "markdown",
   "id": "24fbb9cb",
   "metadata": {},
   "source": [
    "From the first look on he histogram we can infer that the answer to our hypothesis question is true."
   ]
  },
  {
   "cell_type": "markdown",
   "id": "f99e3787",
   "metadata": {},
   "source": [
    "## section 2"
   ]
  },
  {
   "cell_type": "code",
   "execution_count": 50,
   "id": "1b78b239",
   "metadata": {},
   "outputs": [],
   "source": [
    "male_train, male_test, bmi_train, bmi_test = train_test_split(df[['male']], df[['BMI']], test_size=4019/4219, random_state=42)"
   ]
  },
  {
   "cell_type": "markdown",
   "id": "5f27fea8",
   "metadata": {},
   "source": [
    "## section 3"
   ]
  },
  {
   "cell_type": "markdown",
   "id": "c18aa74e",
   "metadata": {},
   "source": [
    "## a"
   ]
  },
  {
   "cell_type": "code",
   "execution_count": 51,
   "id": "975ab595",
   "metadata": {},
   "outputs": [],
   "source": [
    "male_bmi_train = pd.concat([male_train, bmi_train], axis=1)"
   ]
  },
  {
   "cell_type": "code",
   "execution_count": 69,
   "id": "2828dc94",
   "metadata": {},
   "outputs": [],
   "source": [
    "male_bmi = male_bmi_train[male_bmi_train[\"male\"] == 1][\"BMI\"]\n",
    "female_bmi = male_bmi_train[male_bmi_train[\"male\"] == 0][\"BMI\"]"
   ]
  },
  {
   "cell_type": "code",
   "execution_count": 70,
   "id": "10c855c8",
   "metadata": {},
   "outputs": [],
   "source": [
    "male_bmi_avg = male_bmi.mean()\n",
    "female_bmi_avg = female_bmi.mean()"
   ]
  },
  {
   "cell_type": "code",
   "execution_count": 71,
   "id": "c5d6cf34",
   "metadata": {
    "scrolled": true
   },
   "outputs": [
    {
     "data": {
      "text/plain": [
       "26.33636363636364"
      ]
     },
     "execution_count": 71,
     "metadata": {},
     "output_type": "execute_result"
    }
   ],
   "source": [
    "male_bmi_avg"
   ]
  },
  {
   "cell_type": "code",
   "execution_count": 72,
   "id": "4b82f865",
   "metadata": {},
   "outputs": [
    {
     "data": {
      "text/plain": [
       "25.902321428571433"
      ]
     },
     "execution_count": 72,
     "metadata": {},
     "output_type": "execute_result"
    }
   ],
   "source": [
    "female_bmi_avg"
   ]
  },
  {
   "cell_type": "code",
   "execution_count": 73,
   "id": "e38df991",
   "metadata": {},
   "outputs": [
    {
     "data": {
      "text/plain": [
       "0.43404220779220637"
      ]
     },
     "execution_count": 73,
     "metadata": {},
     "output_type": "execute_result"
    }
   ],
   "source": [
    "male_bmi_avg - female_bmi_avg"
   ]
  },
  {
   "cell_type": "markdown",
   "id": "ac47ec13",
   "metadata": {},
   "source": [
    "We denote male bmi mean as $\\mu_1$ and female bmi mean as $\\mu_2$. We can see that $\\mu_1$=26.3 and $\\mu_2$=25.9. Futhermore $\\delta$ = 0.43. <br>Our estimator is not a MLE estimator becuase it's calculate only from a partical samples from our observed data and not all the observed data."
   ]
  },
  {
   "cell_type": "markdown",
   "id": "2046415f",
   "metadata": {},
   "source": [
    "## b"
   ]
  },
  {
   "cell_type": "code",
   "execution_count": null,
   "id": "123bc3f6",
   "metadata": {},
   "outputs": [],
   "source": [
    "# TODO : check if we need to estimate CI by bootstrap or other method "
   ]
  },
  {
   "cell_type": "markdown",
   "id": "e822dd19",
   "metadata": {},
   "source": [
    "## c"
   ]
  },
  {
   "cell_type": "code",
   "execution_count": null,
   "id": "cf615ad2",
   "metadata": {},
   "outputs": [],
   "source": [
    "# TODO : because the previaous section"
   ]
  },
  {
   "cell_type": "markdown",
   "id": "01fd602f",
   "metadata": {},
   "source": [
    "## d"
   ]
  },
  {
   "cell_type": "markdown",
   "id": "8b63ddc4",
   "metadata": {},
   "source": [
    "Wald test :<br>          $H_0 \\ \\mu_1=\\mu_2$          <br>$H_0 \\ \\mu_1\\ne\\mu_2$          <br>T.S:$\\frac{|\\mu_1-\\mu_2|}{\\hat{s.e}}$"
   ]
  },
  {
   "cell_type": "code",
   "execution_count": 78,
   "id": "55787f2e",
   "metadata": {},
   "outputs": [],
   "source": [
    "test_var = ((male_bmi.std())**2/len(male_bmi)) + ((female_bmi.std())**2/len(female_bmi))\n",
    "test_stat = abs(male_bmi_avg - female_bmi_avg) / (test_var)**0.5\n",
    "pval_wald = 2*norm.cdf(-test_stat)"
   ]
  },
  {
   "cell_type": "code",
   "execution_count": 79,
   "id": "edf6f81e",
   "metadata": {
    "scrolled": true
   },
   "outputs": [
    {
     "data": {
      "text/plain": [
       "0.4433246746970879"
      ]
     },
     "execution_count": 79,
     "metadata": {},
     "output_type": "execute_result"
    }
   ],
   "source": [
    "pval_wald"
   ]
  },
  {
   "cell_type": "markdown",
   "id": "69f0a10f",
   "metadata": {},
   "source": [
    "Permutation Test:<br>$H_0:BMI_{male} \\ = BMI_{female}$<br> $H_1:BMI_{male} \\ \\succ BMI_{female}$<br>T.S:$\\mu_{male}-\\mu_{female}$<br>$Pvalue=\\frac{\\#\\mathbb{1}\\{T_j>=T_0\\}}{{n+m \\choose n}}$"
   ]
  },
  {
   "cell_type": "code",
   "execution_count": 86,
   "id": "40815d44",
   "metadata": {},
   "outputs": [
    {
     "ename": "KeyboardInterrupt",
     "evalue": "",
     "output_type": "error",
     "traceback": [
      "\u001b[1;31m---------------------------------------------------------------------------\u001b[0m",
      "\u001b[1;31mKeyboardInterrupt\u001b[0m                         Traceback (most recent call last)",
      "\u001b[1;32mC:\\Users\\TSHATZ~1\\AppData\\Local\\Temp/ipykernel_23500/4218776870.py\u001b[0m in \u001b[0;36m<module>\u001b[1;34m\u001b[0m\n\u001b[0;32m      2\u001b[0m \u001b[0mcounter\u001b[0m \u001b[1;33m=\u001b[0m \u001b[1;36m0\u001b[0m\u001b[1;33m\u001b[0m\u001b[1;33m\u001b[0m\u001b[0m\n\u001b[0;32m      3\u001b[0m \u001b[1;32mfor\u001b[0m \u001b[0mbmi_combi\u001b[0m \u001b[1;32min\u001b[0m \u001b[0mcombinations\u001b[0m\u001b[1;33m(\u001b[0m\u001b[0mmale_bmi_train\u001b[0m\u001b[1;33m[\u001b[0m\u001b[1;34m\"BMI\"\u001b[0m\u001b[1;33m]\u001b[0m\u001b[1;33m.\u001b[0m\u001b[0mvalues\u001b[0m\u001b[1;33m,\u001b[0m \u001b[0mlen\u001b[0m\u001b[1;33m(\u001b[0m\u001b[0mmale_bmi\u001b[0m\u001b[1;33m)\u001b[0m\u001b[1;33m)\u001b[0m\u001b[1;33m:\u001b[0m\u001b[1;33m\u001b[0m\u001b[1;33m\u001b[0m\u001b[0m\n\u001b[1;32m----> 4\u001b[1;33m     \u001b[0mmean_bmi\u001b[0m \u001b[1;33m=\u001b[0m \u001b[0msum\u001b[0m\u001b[1;33m(\u001b[0m\u001b[0mbmi_combi\u001b[0m\u001b[1;33m)\u001b[0m \u001b[1;33m/\u001b[0m \u001b[0mlen\u001b[0m\u001b[1;33m(\u001b[0m\u001b[0mbmi_combi\u001b[0m\u001b[1;33m)\u001b[0m\u001b[1;33m\u001b[0m\u001b[1;33m\u001b[0m\u001b[0m\n\u001b[0m\u001b[0;32m      5\u001b[0m     \u001b[1;32mif\u001b[0m \u001b[0mmean_bmi\u001b[0m \u001b[1;33m>=\u001b[0m \u001b[0mperm_test_stat\u001b[0m\u001b[1;33m:\u001b[0m\u001b[1;33m\u001b[0m\u001b[1;33m\u001b[0m\u001b[0m\n\u001b[0;32m      6\u001b[0m         \u001b[0mcounter\u001b[0m \u001b[1;33m+=\u001b[0m \u001b[1;36m1\u001b[0m\u001b[1;33m\u001b[0m\u001b[1;33m\u001b[0m\u001b[0m\n",
      "\u001b[1;31mKeyboardInterrupt\u001b[0m: "
     ]
    }
   ],
   "source": [
    "perm_test_stat = male_bmi_avg - female_bmi_avg\n",
    "counter = 0\n",
    "for bmi_combi in combinations(male_bmi_train[\"BMI\"].values, len(male_bmi)):\n",
    "    mean_bmi = sum(bmi_combi) / len(bmi_combi)\n",
    "    if mean_bmi >= perm_test_stat:\n",
    "        counter += 1\n",
    "pval_perm = counter /comb(len(male_bmi_train[\"BMI\"]), len(male_bmi))"
   ]
  },
  {
   "cell_type": "markdown",
   "id": "53456eb4",
   "metadata": {},
   "source": [
    "## section 4"
   ]
  },
  {
   "cell_type": "markdown",
   "id": "3fe907fa",
   "metadata": {},
   "source": [
    "## a"
   ]
  },
  {
   "cell_type": "code",
   "execution_count": 88,
   "id": "8127f3c4",
   "metadata": {},
   "outputs": [
    {
     "data": {
      "text/plain": [
       "88"
      ]
     },
     "execution_count": 88,
     "metadata": {},
     "output_type": "execute_result"
    }
   ],
   "source": [
    "len(male_bmi)"
   ]
  },
  {
   "cell_type": "code",
   "execution_count": 89,
   "id": "963c7f90",
   "metadata": {},
   "outputs": [
    {
     "data": {
      "text/plain": [
       "21534099716856603957288603514012855223601371336107402599000"
      ]
     },
     "execution_count": 89,
     "metadata": {},
     "output_type": "execute_result"
    }
   ],
   "source": [
    "comb(200,88)"
   ]
  }
 ],
 "metadata": {
  "kernelspec": {
   "display_name": "Python 3",
   "language": "python",
   "name": "python3"
  },
  "language_info": {
   "codemirror_mode": {
    "name": "ipython",
    "version": 3
   },
   "file_extension": ".py",
   "mimetype": "text/x-python",
   "name": "python",
   "nbconvert_exporter": "python",
   "pygments_lexer": "ipython3",
   "version": "3.8.8"
  }
 },
 "nbformat": 4,
 "nbformat_minor": 5
}
