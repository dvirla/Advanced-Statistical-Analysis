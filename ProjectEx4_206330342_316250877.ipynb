{
 "cells": [
  {
   "cell_type": "markdown",
   "id": "554aceee",
   "metadata": {},
   "source": [
    "## Part 1 - Bootstraping"
   ]
  },
  {
   "cell_type": "code",
   "execution_count": 1,
   "id": "33361040",
   "metadata": {},
   "outputs": [],
   "source": [
    "import pandas as pd\n",
    "import seaborn as sns\n",
    "import matplotlib.pyplot as plt\n",
    "import numpy as np\n",
    "from sklearn.model_selection import train_test_split\n",
    "import statsmodels.api as sm\n",
    "from scipy.stats import norm, t\n",
    "from sklearn.utils import resample\n",
    "from sklearn.preprocessing import PolynomialFeatures\n",
    "from sklearn.linear_model import LinearRegression\n",
    "from sklearn.model_selection import cross_val_score\n",
    "from sklearn.linear_model import LogisticRegression\n",
    "from sklearn.metrics import mean_squared_error\n",
    "from itertools import combinations\n",
    "from collections import defaultdict\n",
    "from math import comb\n",
    "import random\n",
    "import warnings\n",
    "warnings.filterwarnings('ignore')"
   ]
  },
  {
   "cell_type": "code",
   "execution_count": 2,
   "id": "92ac96d5",
   "metadata": {},
   "outputs": [],
   "source": [
    "df = pd.read_csv('framingham_heart_disease.csv')"
   ]
  },
  {
   "cell_type": "markdown",
   "id": "5fc1563b",
   "metadata": {},
   "source": [
    "### Section 1\n",
    "Reminder from previous part:<br>\n",
    "We would like to explore the relations between: Number of cigaretes per day (discrete), total cholesterol (continous), diaBP (diastolic BP) and sysBP (systolic BP - continous). <br>\n",
    "Hence, our research question would be:\n",
    "**What are the effects of number of cigaretes per day, total cholesterol and diaBP over sysBP**"
   ]
  },
  {
   "cell_type": "markdown",
   "id": "1fae3cec",
   "metadata": {},
   "source": [
    "Preparing the subset that we will work with, as done in part 3"
   ]
  },
  {
   "cell_type": "code",
   "execution_count": 3,
   "id": "0e97400a",
   "metadata": {},
   "outputs": [],
   "source": [
    "df.dropna(subset=['cigsPerDay', 'totChol', 'diaBP', 'sysBP'], inplace=True)\n",
    "df_train, df_test, y_train, y_test = train_test_split(df[['cigsPerDay', 'totChol', 'diaBP']], df[['sysBP']], test_size=0.9519115171916326, random_state=42)"
   ]
  },
  {
   "cell_type": "markdown",
   "id": "7d00dfae",
   "metadata": {},
   "source": [
    "#### section a - calculating confidence intervals based on the variance matrix and normal approximation \n",
    "Calculating the parameters"
   ]
  },
  {
   "cell_type": "code",
   "execution_count": 4,
   "id": "ece3826f",
   "metadata": {},
   "outputs": [
    {
     "data": {
      "text/plain": [
       "const        -6.795017\n",
       "cigsPerDay   -0.002428\n",
       "totChol       0.055739\n",
       "diaBP         1.520925\n",
       "dtype: float64"
      ]
     },
     "execution_count": 4,
     "metadata": {},
     "output_type": "execute_result"
    }
   ],
   "source": [
    "X = sm.add_constant(df_train)\n",
    "model = sm.OLS(y_train,X)\n",
    "model_res = model.fit()\n",
    "model_res.params"
   ]
  },
  {
   "cell_type": "code",
   "execution_count": 5,
   "id": "bdc3a3de",
   "metadata": {},
   "outputs": [],
   "source": [
    "# Since the variance is unknown we will compute it using the unbiased estimator as shown in tutorial 5\n",
    "dof = len(df_train)-2\n",
    "sigma_squared = np.dot(model_res.resid.to_numpy().T,model_res.resid.to_numpy())/(len(df_train)-4)\n",
    "ci_t_percentile = norm().ppf(0.95)\n",
    "C = np.linalg.inv(np.matmul(X.T,X))  # C = (X.T * X)^-1"
   ]
  },
  {
   "cell_type": "code",
   "execution_count": 6,
   "id": "024cbcbb",
   "metadata": {},
   "outputs": [
    {
     "name": "stdout",
     "output_type": "stream",
     "text": [
      "Confidence interval for beta_0 is: [-20.120873608415245,6.530840172599772]\n",
      "Confidence interval for beta_1 is: [-0.12499805793941654,0.12014199808401821]\n",
      "Confidence interval for beta_2 is: [0.024470264676292097,0.08700841545378751]\n",
      "Confidence interval for beta_3 is: [1.3755587622140237,1.6662906536246527]\n"
     ]
    }
   ],
   "source": [
    "normal_approx_cis = []\n",
    "for i, beta in enumerate(model_res.params):\n",
    "    normal_approx_cis.append((beta - ci_t_percentile*np.sqrt(sigma_squared*C[i,i]), beta + ci_t_percentile*np.sqrt(sigma_squared*C[i,i])))\n",
    "    print(f\"Confidence interval for beta_{i} is: [{beta - ci_t_percentile*np.sqrt(sigma_squared*C[i,i])},{beta + ci_t_percentile*np.sqrt(sigma_squared*C[i,i])}]\")"
   ]
  },
  {
   "cell_type": "markdown",
   "id": "0fc95a14",
   "metadata": {},
   "source": [
    "#### section b - confidence intervals based on bootsrtap standart error"
   ]
  },
  {
   "cell_type": "code",
   "execution_count": 7,
   "id": "7bad8160",
   "metadata": {},
   "outputs": [],
   "source": [
    "def cal_bootstrap_normal_se(B, df, features_cols, label_cols):\n",
    "    df_len = len(df)\n",
    "    num_param = len(df.columns)\n",
    "    param_sum = np.zeros((num_param))\n",
    "    param_sum2 = np.zeros((num_param))\n",
    "    for i in range(B):\n",
    "        boot_df = df.sample(replace=True, n=200)\n",
    "        y = boot_df[label_cols]\n",
    "        X = boot_df[features_cols]\n",
    "        X['const'] = np.ones((df_len))\n",
    "        X = X[['const', *features_cols]]\n",
    "        model = sm.OLS(y,X)\n",
    "        model_res = model.fit()\n",
    "        param_sum = param_sum + model_res.params\n",
    "        param_sum2 = param_sum2 + (model_res.params) ** 2\n",
    "    return np.sqrt((1/B)*(param_sum2) - ((1/B)*(param_sum))**2)\n",
    "        "
   ]
  },
  {
   "cell_type": "code",
   "execution_count": 8,
   "id": "7f8568ea",
   "metadata": {},
   "outputs": [],
   "source": [
    "bootstrap_se = cal_bootstrap_normal_se(400, pd.concat([df_train, y_train], axis=1),\n",
    "                        features_cols=['cigsPerDay', 'totChol', 'diaBP'], label_cols=['sysBP'])"
   ]
  },
  {
   "cell_type": "code",
   "execution_count": 9,
   "id": "0ec85885",
   "metadata": {},
   "outputs": [
    {
     "name": "stdout",
     "output_type": "stream",
     "text": [
      "Confidence interval based on bootstrap s.e for beta_0 is: [-23.4943772821184,9.904343846302929]\n",
      "Confidence interval based on bootstrap s.e for beta_1 is: [-0.13439971535870524,0.1295436555033069]\n",
      "Confidence interval based on bootstrap s.e for beta_2 is: [0.02098043488273519,0.09049824524734443]\n",
      "Confidence interval based on bootstrap s.e for beta_3 is: [1.3419028012377219,1.6999466146009545]\n"
     ]
    }
   ],
   "source": [
    "bootstrap_se_cis = []\n",
    "for i, beta in enumerate(model_res.params):\n",
    "    bootstrap_se_cis.append((beta - ci_t_percentile*bootstrap_se[i],beta + ci_t_percentile*bootstrap_se[i]))\n",
    "    print(f\"Confidence interval based on bootstrap s.e for beta_{i} is: [{beta - ci_t_percentile*bootstrap_se[i]},{beta + ci_t_percentile*bootstrap_se[i]}]\")"
   ]
  },
  {
   "cell_type": "markdown",
   "id": "f3fd575e",
   "metadata": {},
   "source": [
    "#### section c - pivotals confidence intervals "
   ]
  },
  {
   "cell_type": "code",
   "execution_count": 10,
   "id": "4bc52f01",
   "metadata": {},
   "outputs": [],
   "source": [
    "def cal_boot_pivot_quantile(B, df, features_cols, labels_cols, alpha):\n",
    "    num_sample = len(df)\n",
    "    q = 1 - alpha/2\n",
    "    g_dict = defaultdict(list)\n",
    "    q_list = [0] *(len(features_cols) + 1)\n",
    "    # calculate the real sample param\n",
    "    X = df[features_cols]\n",
    "    X['const'] = np.ones((num_sample))\n",
    "    X = X[['const', *features_cols]]\n",
    "    Y = df[labels_cols]\n",
    "    model = sm.OLS(Y, X)\n",
    "    model_res = model.fit()\n",
    "    b_r = model_res.params\n",
    "    for i in range(B):\n",
    "        new_df = df.sample(num_sample, replace=True)\n",
    "        X = new_df[features_cols]\n",
    "        X['const'] = np.ones((num_sample))\n",
    "        X = X[['const', *features_cols]]\n",
    "        Y = new_df[labels_cols]\n",
    "        model = sm.OLS(Y, X)\n",
    "        model_res = model.fit()\n",
    "        for i in range(len(features_cols) + 1):\n",
    "            g_dict[i].append((num_sample*0.5)*(model_res.params[i] - b_r[i]))\n",
    "    for i in range(len(features_cols) + 1):\n",
    "        q_list[i] = (np.quantile(g_dict[i], q), np.quantile(g_dict[i], alpha/2))\n",
    "    return q_list"
   ]
  },
  {
   "cell_type": "code",
   "execution_count": 11,
   "id": "047c226e",
   "metadata": {},
   "outputs": [],
   "source": [
    "qunatiles_list = cal_boot_pivot_quantile(400, pd.concat([df_train, y_train], axis=1),\n",
    "                        features_cols=['cigsPerDay', 'totChol', 'diaBP'], labels_cols=['sysBP'], alpha=0.05)"
   ]
  },
  {
   "cell_type": "code",
   "execution_count": 12,
   "id": "50b77f7c",
   "metadata": {},
   "outputs": [
    {
     "name": "stdout",
     "output_type": "stream",
     "text": [
      "Pivotal confidence intervals based on bootstrap for beta_0 is: [-133.98023612295435,132.98394338607574]\n",
      "Pivotal confidence intervals based on bootstrap for beta_1 is: [-1.1503220909962615,1.0830129156017734]\n",
      "Pivotal confidence intervals based on bootstrap for beta_2 is: [-0.2086425536688908,0.3564382095801185]\n",
      "Pivotal confidence intervals based on bootstrap for beta_3 is: [0.014130715753375211,2.937117322274389]\n"
     ]
    }
   ],
   "source": [
    "pivotal_cis = []\n",
    "for i, beta in enumerate(model_res.params):\n",
    "    pivotal_cis.append((beta - qunatiles_list[i][0]/np.sqrt(len(df_train)),beta - qunatiles_list[i][1]/np.sqrt(len(df_train))))\n",
    "    print(f\"Pivotal confidence intervals based on bootstrap for beta_{i} is: [{beta - qunatiles_list[i][0]/np.sqrt(len(df_train))},{beta - qunatiles_list[i][1]/np.sqrt(len(df_train))}]\")"
   ]
  },
  {
   "cell_type": "markdown",
   "id": "6e3e0e7d",
   "metadata": {},
   "source": [
    "### Section 2 - confidence intervals based on quantiles method"
   ]
  },
  {
   "cell_type": "code",
   "execution_count": 13,
   "id": "d5f95a3b",
   "metadata": {},
   "outputs": [],
   "source": [
    "def cal_boot_quantile(B, df, features_cols, labels_cols, alpha):\n",
    "    num_sample = len(df)\n",
    "    q1 = 1 - (alpha / 2)\n",
    "    q2 = alpha / 2\n",
    "    g_dict = defaultdict(list)\n",
    "    q_list = [0] * (len(features_cols) + 1)\n",
    "    for i in range(B):\n",
    "        new_df = df.sample(num_sample, replace=True)\n",
    "        X = new_df[features_cols]\n",
    "        X['const'] = np.ones((num_sample))\n",
    "        X = X[['const', *features_cols]]\n",
    "        Y = new_df[labels_cols]\n",
    "        model = sm.OLS(Y, X)\n",
    "        model_res = model.fit()\n",
    "        for i in range(len(features_cols) + 1):\n",
    "            g_dict[i].append(model_res.params[i])\n",
    "    for i in range(len(features_cols) + 1):\n",
    "        q_list[i] = (np.quantile(g_dict[i], q2), np.quantile(g_dict[i], q1))\n",
    "    return q_list"
   ]
  },
  {
   "cell_type": "code",
   "execution_count": 14,
   "id": "2d85b451",
   "metadata": {},
   "outputs": [],
   "source": [
    "confidence_intervals = cal_boot_quantile(400, pd.concat([df_train, y_train], axis=1),\n",
    "                        features_cols=['cigsPerDay', 'totChol', 'diaBP'], labels_cols=['sysBP'], alpha=0.05)"
   ]
  },
  {
   "cell_type": "code",
   "execution_count": 15,
   "id": "433a57b2",
   "metadata": {},
   "outputs": [
    {
     "name": "stdout",
     "output_type": "stream",
     "text": [
      "Quantiles confidence intervals based on bootstrap for beta_0 is: [-29.047732336863557,13.529156868975118]\n",
      "Quantiles confidence intervals based on bootstrap for beta_1 is: [-0.147018734743988,0.144753247687708]\n",
      "Quantiles confidence intervals based on bootstrap for beta_2 is: [0.015927685183612456,0.10079269646715458]\n",
      "Quantiles confidence intervals based on bootstrap for beta_3 is: [1.319060521132843,1.7471987786813015]\n"
     ]
    }
   ],
   "source": [
    "qunatiles_cis = []\n",
    "for i, ci in enumerate(confidence_intervals):\n",
    "    qunatiles_cis.append((ci[0],ci[1]))\n",
    "    print(f\"Quantiles confidence intervals based on bootstrap for beta_{i} is: [{ci[0]},{ci[1]}]\")"
   ]
  },
  {
   "cell_type": "markdown",
   "id": "0b0c6405",
   "metadata": {},
   "source": [
    "**Calculating the parameters using the whole dataset**"
   ]
  },
  {
   "cell_type": "code",
   "execution_count": 16,
   "id": "e249f5f4",
   "metadata": {},
   "outputs": [
    {
     "data": {
      "text/plain": [
       "const         5.611044\n",
       "cigsPerDay   -0.082200\n",
       "totChol       0.040282\n",
       "diaBP         1.422623\n",
       "dtype: float64"
      ]
     },
     "execution_count": 16,
     "metadata": {},
     "output_type": "execute_result"
    }
   ],
   "source": [
    "X = sm.add_constant(df[['cigsPerDay', 'totChol', 'diaBP']])\n",
    "model = sm.OLS(df[['sysBP']],X)\n",
    "model_res = model.fit()\n",
    "model_res.params"
   ]
  },
  {
   "cell_type": "markdown",
   "id": "ba131a45",
   "metadata": {},
   "source": [
    "### Comparing the confidence intervals"
   ]
  },
  {
   "cell_type": "code",
   "execution_count": 17,
   "id": "8c442a33",
   "metadata": {},
   "outputs": [],
   "source": [
    "ci_list = [normal_approx_cis, bootstrap_se_cis, pivotal_cis, qunatiles_cis]\n",
    "ci_names = ['normal approx', 'bootstrap se', 'pivotal', 'qunatiles']\n",
    "data_dict = {}\n",
    "data_dict['beta_i'] = ['beta 0','beta 1','beta 2', 'beta 3']\n",
    "for (name, li) in zip(ci_names, ci_list):\n",
    "    data_dict[name+'_lower'] = [x[0] for x in li]\n",
    "    data_dict[name+'_upper'] = [x[1] for x in li]\n",
    "ci_df = pd.DataFrame(data_dict)"
   ]
  },
  {
   "cell_type": "code",
   "execution_count": 18,
   "id": "90332547",
   "metadata": {},
   "outputs": [
    {
     "data": {
      "image/png": "[encoded data removed]",
      "text/plain": [
       "<Figure size 1440x1440 with 4 Axes>"
      ]
     },
     "metadata": {
      "needs_background": "light"
     },
     "output_type": "display_data"
    }
   ],
   "source": [
    "fig, ax = plt.subplots(2, 2, sharey=True, figsize=(20,20))\n",
    "row_idx = 0\n",
    "col_idx = 0\n",
    "for i, row in ci_df.iterrows():\n",
    "    for y, ci_name in enumerate(ci_names):\n",
    "        ax[row_idx][col_idx].plot((row[ci_name+'_lower'], row[ci_name+'_upper']), (y,y), label=f\"Length={np.around(row[ci_name+'_upper']-row[ci_name+'_lower'],2)}\")\n",
    "    ax[row_idx][col_idx].set_title(row['beta_i'] + ' confidence intervals', fontsize=16)\n",
    "    ax[row_idx][col_idx].set_xlabel('x', fontsize=16)\n",
    "    ax[row_idx][col_idx].set_ylabel('Method', fontsize=16)\n",
    "    ax[row_idx][col_idx].tick_params(axis='both', which='major', labelsize=16)\n",
    "    ax[row_idx][col_idx].legend(fontsize=16)\n",
    "    col_idx += 1\n",
    "    if i%2:\n",
    "        col_idx = 0\n",
    "        row_idx += 1\n",
    "plt.yticks(range(len(ci_names)),ci_names)\n",
    "plt.show()"
   ]
  },
  {
   "cell_type": "markdown",
   "id": "048fb90c",
   "metadata": {},
   "source": [
    "**Insights**:<br>\n",
    "* First we notice that all of the parameters of the model that was trained on all dataset are in the confidence interval using all of the methods.\n",
    "* As we can see the confidence interval based on the normal approximation yields the smallest interval for all of the parameters (as expected).\n",
    "* The next smallest interval is the interval based on the se calculated using the bootstrap.\n",
    "* In small gap behind the three, the interval calculated based on the quantiles (using bootstrap) is the third smallest.\n",
    "* The largest interval was calculated based on the pivot method. We can see that the difference between this interval's length and all other intervals is significantly large, this might be due to the fact that the pivot method relies on estimating properly the distribution of the parmeters $\\beta_i$. This also assumes that there is a distribution for those parameters. Both of those assumptions are very strong and seems like they do not hold."
   ]
  },
  {
   "cell_type": "markdown",
   "id": "f84a5372",
   "metadata": {},
   "source": [
    "### Section 3"
   ]
  },
  {
   "cell_type": "markdown",
   "id": "48fd8c15",
   "metadata": {},
   "source": [
    "#### Section a"
   ]
  },
  {
   "cell_type": "code",
   "execution_count": 19,
   "id": "359af8a6",
   "metadata": {},
   "outputs": [
    {
     "data": {
      "text/plain": [
       "const        -6.795017\n",
       "cigsPerDay   -0.002428\n",
       "totChol       0.055739\n",
       "diaBP         1.520925\n",
       "dtype: float64"
      ]
     },
     "execution_count": 19,
     "metadata": {},
     "output_type": "execute_result"
    }
   ],
   "source": [
    "X = sm.add_constant(df_train)\n",
    "model = sm.OLS(y_train,X)\n",
    "model_res = model.fit()\n",
    "model_res.params"
   ]
  },
  {
   "cell_type": "code",
   "execution_count": 20,
   "id": "77ef45d3",
   "metadata": {},
   "outputs": [],
   "source": [
    "new_df = pd.concat([df_test, y_test], axis=1).sample(100)"
   ]
  },
  {
   "cell_type": "code",
   "execution_count": 21,
   "id": "50124556",
   "metadata": {},
   "outputs": [],
   "source": [
    "y_test_100 = new_df[['sysBP']]\n",
    "new_df = new_df[['cigsPerDay', 'totChol', 'diaBP']]"
   ]
  },
  {
   "cell_type": "code",
   "execution_count": 22,
   "id": "60f37ec6",
   "metadata": {},
   "outputs": [],
   "source": [
    "X = sm.add_constant(new_df)"
   ]
  },
  {
   "cell_type": "code",
   "execution_count": 23,
   "id": "134ef367",
   "metadata": {},
   "outputs": [],
   "source": [
    "y_new_preds = model_res.predict(X)"
   ]
  },
  {
   "cell_type": "markdown",
   "id": "d4d27e11",
   "metadata": {},
   "source": [
    "#### Section b + c"
   ]
  },
  {
   "cell_type": "markdown",
   "id": "a7a3ede7",
   "metadata": {},
   "source": [
    "### Calculating confidence interval using bootstrap normal $\\hat{S.E}$ approximation"
   ]
  },
  {
   "cell_type": "code",
   "execution_count": 24,
   "id": "4a74c3d1",
   "metadata": {},
   "outputs": [],
   "source": [
    "def cal_bootstrap_normal_se_predict(B, df_train, X_test, features_cols, labels_cols):\n",
    "    df_test_len = len(X_test)\n",
    "    df_train_len = len(df_train)\n",
    "    predict_sum = np.zeros((df_test_len))\n",
    "    predict_sum2 = np.zeros((df_test_len))\n",
    "    for i in range(B):\n",
    "        boot_df = df_train.sample(replace=True, n=200)\n",
    "        y = boot_df[labels_cols]\n",
    "        X = boot_df[features_cols]\n",
    "        X['const'] = np.ones((df_train_len))\n",
    "        X = X[['const', *features_cols]]\n",
    "        model = sm.OLS(y,X)\n",
    "        model_res = model.fit()\n",
    "        predict_sum = predict_sum + model_res.predict(X_test)\n",
    "        predict_sum2 = predict_sum2 + (model_res.predict(X_test)) ** 2\n",
    "    return np.sqrt((1/B)*(predict_sum2) - ((1/B)*(predict_sum))**2)"
   ]
  },
  {
   "cell_type": "code",
   "execution_count": 25,
   "id": "9fce14ad",
   "metadata": {},
   "outputs": [],
   "source": [
    "y_preds_se = cal_bootstrap_normal_se_predict(400, pd.concat([df_train, y_train], axis=1),\n",
    "                        X, features_cols=['cigsPerDay', 'totChol', 'diaBP'], labels_cols=['sysBP'])"
   ]
  },
  {
   "cell_type": "code",
   "execution_count": 26,
   "id": "79841b3f",
   "metadata": {},
   "outputs": [],
   "source": [
    "y_new_cis = [(y_pred - ci_t_percentile*y_pred_se, y_pred + ci_t_percentile*y_pred_se)\n",
    "              for (y_pred, y_pred_se) in zip(y_new_preds, y_preds_se)]"
   ]
  },
  {
   "cell_type": "code",
   "execution_count": 27,
   "id": "1fc82b00",
   "metadata": {},
   "outputs": [
    {
     "data": {
      "text/plain": [
       "0.15"
      ]
     },
     "execution_count": 27,
     "metadata": {},
     "output_type": "execute_result"
    }
   ],
   "source": [
    "sum([y_new_ci[0] < y_new[0] < y_new_ci[1] for (y_new, y_new_ci) in zip(y_test_100.values, y_new_cis)])/100"
   ]
  },
  {
   "cell_type": "markdown",
   "id": "fbc14831",
   "metadata": {},
   "source": [
    "### Calculating confidence interval using quantiles method"
   ]
  },
  {
   "cell_type": "code",
   "execution_count": 28,
   "id": "dcd00d2b",
   "metadata": {},
   "outputs": [],
   "source": [
    "def cal_bootstrap_quantile_predict(B, df_train, X_test, features_cols, labels_cols, alpha=0.05):\n",
    "    df_test_len = len(X_test)\n",
    "    df_train_len = len(df_train)\n",
    "    q1 = alpha / 2\n",
    "    q2 = 1 - q1\n",
    "    predict_dict = defaultdict(list)\n",
    "    q_list = [0] * (df_test_len)\n",
    "    for i in range(B):\n",
    "        boot_df = df_train.sample(replace=True, n=200)\n",
    "        y = boot_df[labels_cols]\n",
    "        X = boot_df[features_cols]\n",
    "        X['const'] = np.ones((df_train_len))\n",
    "        X = X[['const', *features_cols]]\n",
    "        model = sm.OLS(y,X)\n",
    "        model_res = model.fit()\n",
    "        pred = model_res.predict(X_test)\n",
    "        for j in range(df_test_len):\n",
    "            predict_dict[j].append(pred.iloc[j])\n",
    "    for i in range(df_test_len):\n",
    "        q_list[i] = (np.quantile(predict_dict[i], q1), np.quantile(predict_dict[i], q2))\n",
    "    return q_list"
   ]
  },
  {
   "cell_type": "code",
   "execution_count": 29,
   "id": "dffe6472",
   "metadata": {},
   "outputs": [],
   "source": [
    "y_pred_ci = cal_bootstrap_quantile_predict(400, pd.concat([df_train, y_train], axis=1),\n",
    "                        X, features_cols=['cigsPerDay', 'totChol', 'diaBP'], labels_cols=['sysBP'])"
   ]
  },
  {
   "cell_type": "code",
   "execution_count": 30,
   "id": "0ed828e3",
   "metadata": {
    "scrolled": true
   },
   "outputs": [
    {
     "data": {
      "text/plain": [
       "0.16"
      ]
     },
     "execution_count": 30,
     "metadata": {},
     "output_type": "execute_result"
    }
   ],
   "source": [
    "sum([y_new_ci[0] < y_new[0] < y_new_ci[1] for (y_new, y_new_ci) in zip(y_test_100.values, y_pred_ci)])/100"
   ]
  },
  {
   "cell_type": "markdown",
   "id": "5e3df845",
   "metadata": {},
   "source": [
    "We can see that using both methods: qunatiles and normal S.E approximation using bootstrap gives us very poor confidence intervals for the predictions itself.<br>\n",
    "The reason for this might be the fact that we calculated confidence intervals for the expected prediction, which doesn't take into account the residuals of the model."
   ]
  },
  {
   "cell_type": "markdown",
   "id": "65ca977d",
   "metadata": {},
   "source": [
    "#### Section d"
   ]
  },
  {
   "cell_type": "markdown",
   "id": "fafb3def",
   "metadata": {},
   "source": [
    "We seen in class that the confident interval for the $Y_{new}$ is $[\\hat{Y_{new}}\\pm z_{1-\\frac{\\alpha}{2}}\\hat{\\sigma_{\\epsilon}}\\sqrt{1+X_{new}^T(X^TX)^{-1}X_{new}}]$. The idea behind this modification in the confident interval is that we adding the estimator of the variance of the data to the variance of our model, which make the confident interval longer. So if we want to build a confident interval base of Bootstrap, we would make a small modification in our current Bootstrap confident interval : $[\\hat{Y^i}_{new}\\pm z_{\\frac{\\alpha}{2}}\\hat{S.E}_{bootstrap}], \\ when \\ \\hat{S.E}_{bootstrap}^2=\\underbrace{\\frac{1}{B}\\sum_{j=1}^{B}\\hat{(Y^j)^2}_{new}-\\frac{1}{B}(\\sum_{j=1}^{B}\\hat{(Y^j)}_{new})^2 }_{variance \\ of \\ the \\ model}+\\underbrace{\\frac{1}{B}\\sum_{j=1}^{B}\\hat{\\sigma^2_j}_{\\epsilon}}_{estimator \\ to \\ the \\ model \\ variance} $  "
   ]
  },
  {
   "cell_type": "markdown",
   "id": "3cdf20a5",
   "metadata": {},
   "source": [
    "## Part 2 "
   ]
  },
  {
   "cell_type": "code",
   "execution_count": 31,
   "id": "ff5a3422",
   "metadata": {},
   "outputs": [],
   "source": [
    "df = pd.read_csv('framingham_heart_disease.csv')\n",
    "df.dropna(subset=['BMI', 'male'], inplace=True)"
   ]
  },
  {
   "cell_type": "markdown",
   "id": "4d76f9e9",
   "metadata": {},
   "source": [
    "### Section 1: Hypothesis question:"
   ]
  },
  {
   "cell_type": "markdown",
   "id": "fb60eb19",
   "metadata": {},
   "source": [
    "Let's denote $BMI_{male}$ as the BMI of a random male and $BMI_{female}$ as the BMI of a random female.<br> Our Hypothesis question is : does BMI of a male is sthochsticly greeter then BMI of a female i.e : $BMI_{male} \\ \\succ BMI_{female}$"
   ]
  },
  {
   "cell_type": "code",
   "execution_count": 32,
   "id": "f795c3a2",
   "metadata": {},
   "outputs": [
    {
     "data": {
      "text/plain": [
       "Text(0.5, 1.0, 'Female')"
      ]
     },
     "execution_count": 32,
     "metadata": {},
     "output_type": "execute_result"
    },
    {
     "data": {
      "image/png": "[encoded data removed]",
      "text/plain": [
       "<Figure size 1080x720 with 2 Axes>"
      ]
     },
     "metadata": {
      "needs_background": "light"
     },
     "output_type": "display_data"
    }
   ],
   "source": [
    "fig, axes = plt.subplots(nrows=1, ncols=2, figsize=(15,10))\n",
    "sns.histplot(data=df[df['male']== 1], x='BMI', ax=axes[0]).set_title('Male')\n",
    "sns.histplot(data=df[df['male']== 0], x='BMI', ax=axes[1]).set_title('Female')"
   ]
  },
  {
   "cell_type": "markdown",
   "id": "24fbb9cb",
   "metadata": {},
   "source": [
    "From first look on the histogram we can infer that the answer to our hypothesis question is true."
   ]
  },
  {
   "cell_type": "markdown",
   "id": "f99e3787",
   "metadata": {},
   "source": [
    "### section 2"
   ]
  },
  {
   "cell_type": "code",
   "execution_count": 33,
   "id": "1b78b239",
   "metadata": {},
   "outputs": [],
   "source": [
    "male_train, male_test, bmi_train, bmi_test = train_test_split(df[['male']], df[['BMI']], test_size=4019/4219, random_state=42)"
   ]
  },
  {
   "cell_type": "markdown",
   "id": "5f27fea8",
   "metadata": {},
   "source": [
    "### section 3"
   ]
  },
  {
   "cell_type": "markdown",
   "id": "c18aa74e",
   "metadata": {},
   "source": [
    "**Estimating $\\mu_1,\\ \\mu_2 \\ and \\ \\delta=\\mu_1-\\mu_2$**"
   ]
  },
  {
   "cell_type": "code",
   "execution_count": 34,
   "id": "975ab595",
   "metadata": {},
   "outputs": [],
   "source": [
    "bmi_train = pd.concat([male_train, bmi_train], axis=1)"
   ]
  },
  {
   "cell_type": "code",
   "execution_count": 35,
   "id": "2828dc94",
   "metadata": {},
   "outputs": [],
   "source": [
    "male_bmi = bmi_train[bmi_train[\"male\"] == 1][\"BMI\"]\n",
    "female_bmi = bmi_train[bmi_train[\"male\"] == 0][\"BMI\"]"
   ]
  },
  {
   "cell_type": "code",
   "execution_count": 36,
   "id": "10c855c8",
   "metadata": {},
   "outputs": [],
   "source": [
    "male_bmi_avg = male_bmi.mean()\n",
    "female_bmi_avg = female_bmi.mean()"
   ]
  },
  {
   "cell_type": "code",
   "execution_count": 37,
   "id": "da3f7db9",
   "metadata": {},
   "outputs": [
    {
     "name": "stdout",
     "output_type": "stream",
     "text": [
      "The average BMI of males is: 26.34, The average BMI of females is 25.9\n"
     ]
    }
   ],
   "source": [
    "print(f\"The average BMI of males is: {np.around(male_bmi_avg, 2)}, The average BMI of females is {np.around(female_bmi_avg, 2)}\")"
   ]
  },
  {
   "cell_type": "code",
   "execution_count": 38,
   "id": "e38df991",
   "metadata": {
    "scrolled": true
   },
   "outputs": [
    {
     "name": "stdout",
     "output_type": "stream",
     "text": [
      "The estimation of delta is: 0.43\n"
     ]
    }
   ],
   "source": [
    "print(f\"The estimation of delta is: {np.around(male_bmi_avg - female_bmi_avg, 2)}\")"
   ]
  },
  {
   "cell_type": "markdown",
   "id": "dc5c3b1b",
   "metadata": {},
   "source": [
    "Our estimators here for all three varibales: $\\mu_1,\\ \\mu_2 \\ and \\ \\delta=\\mu_1-\\mu_2$, are MLEs since the estimators for the mean of BMIs are MLEs to the expectation and using the equivariance of MLE we get that the estimator for $\\delta$ is MLE as well."
   ]
  },
  {
   "cell_type": "markdown",
   "id": "2046415f",
   "metadata": {},
   "source": [
    "#### Section b"
   ]
  },
  {
   "cell_type": "code",
   "execution_count": 39,
   "id": "123bc3f6",
   "metadata": {},
   "outputs": [],
   "source": [
    "def cal_bootstrap_quantile_delta_bmi(B, df_train, alpha=0.05):\n",
    "    df_train_len = len(df_train)\n",
    "    q1 = alpha / 2\n",
    "    q2 = 1 - q1\n",
    "    q_list = []\n",
    "    for i in range(B):\n",
    "        boot_df = df_train.sample(replace=True, n=200)\n",
    "        boot_df_male = boot_df[boot_df[\"male\"] == 1]\n",
    "        boot_df_female = boot_df[boot_df[\"male\"] == 0]\n",
    "        male_bmi_avg = boot_df_male.BMI.mean()\n",
    "        female_bmi_avg = boot_df_female.BMI.mean()\n",
    "        delta = male_bmi_avg - female_bmi_avg\n",
    "        q_list.append(delta)\n",
    "    return (np.quantile(q_list, q1), np.quantile(q_list, q2))"
   ]
  },
  {
   "cell_type": "code",
   "execution_count": 40,
   "id": "4326ebf8",
   "metadata": {},
   "outputs": [
    {
     "name": "stdout",
     "output_type": "stream",
     "text": [
      "The confidence interval for delta using quantiles bootstrap method is: [-0.65,1.51 ]\n"
     ]
    }
   ],
   "source": [
    "delta_bmi_ci = cal_bootstrap_quantile_delta_bmi(400, bmi_train, alpha=0.05)\n",
    "print(f\"The confidence interval for delta using quantiles bootstrap method is: [{np.around(delta_bmi_ci[0], 2)},{np.around(delta_bmi_ci[1], 2)} ]\")"
   ]
  },
  {
   "cell_type": "markdown",
   "id": "e822dd19",
   "metadata": {},
   "source": [
    "#### Section c"
   ]
  },
  {
   "cell_type": "code",
   "execution_count": 41,
   "id": "cf615ad2",
   "metadata": {},
   "outputs": [],
   "source": [
    "male_all_bmi = df[df[\"male\"] == 1][\"BMI\"]\n",
    "female_all_bmi = df[df[\"male\"] == 0][\"BMI\"]"
   ]
  },
  {
   "cell_type": "code",
   "execution_count": 42,
   "id": "727fc6c6",
   "metadata": {},
   "outputs": [
    {
     "name": "stdout",
     "output_type": "stream",
     "text": [
      "Delta estimation using the whole df: 0.67\n"
     ]
    }
   ],
   "source": [
    "print(f\"Delta estimation using the whole df: {np.around(male_all_bmi.mean() - female_all_bmi.mean(), 2)}\")"
   ]
  },
  {
   "cell_type": "markdown",
   "id": "2e1e9811",
   "metadata": {},
   "source": [
    "As we can see, the stimator for $\\delta$ using the whole dataset is inside the confidence interval for $\\delta$ based on the quantiles bootstrap method using 200 samples."
   ]
  },
  {
   "cell_type": "markdown",
   "id": "01fd602f",
   "metadata": {},
   "source": [
    "####  Section d"
   ]
  },
  {
   "cell_type": "markdown",
   "id": "8b63ddc4",
   "metadata": {},
   "source": [
    "Wald test :<br>          $H_0 \\ \\mu_1=\\mu_2$          <br>$H_0 \\ \\mu_1\\ne\\mu_2$          <br>T.S:$\\frac{|\\mu_1-\\mu_2|}{\\hat{s.e}}$"
   ]
  },
  {
   "cell_type": "code",
   "execution_count": 43,
   "id": "55787f2e",
   "metadata": {},
   "outputs": [],
   "source": [
    "test_var = ((male_bmi.std())**2/len(male_bmi)) + ((female_bmi.std())**2/len(female_bmi))\n",
    "test_stat = abs(male_bmi_avg - female_bmi_avg) / (test_var)**0.5\n",
    "pval_wald = 2*norm.cdf(-test_stat)"
   ]
  },
  {
   "cell_type": "code",
   "execution_count": 44,
   "id": "edf6f81e",
   "metadata": {
    "scrolled": true
   },
   "outputs": [
    {
     "name": "stdout",
     "output_type": "stream",
     "text": [
      "The p-value for the wald test is: 0.44\n"
     ]
    }
   ],
   "source": [
    "print(f\"The p-value for the wald test is: {np.around(pval_wald, 2)}\")"
   ]
  },
  {
   "cell_type": "markdown",
   "id": "69f0a10f",
   "metadata": {},
   "source": [
    "Permutation Test:<br>$H_0:BMI_{male} \\ = BMI_{female}$<br> $H_1:BMI_{male} \\ \\succ BMI_{female}$<br>T.S:$\\mu_{male}-\\mu_{female}$<br>$Pvalue=\\frac{\\#\\mathbb{1}\\{T_j>=T_0\\}}{{n+m \\choose n}}$. <br>Because the samples here are too big to compute the p-value of the Permutation Test, will use Bootstrap to calculate the p-value :First we'll calcualte the statistic of our samples (S) : $\\delta^S={\\mu^S}_{male}-{\\mu^S}_{female}$. <br>Then for each bootstrap iteration we'll randmoly permuate the data and calculate the statistic accordingly, we'll denote this current i'th bootstrap iteration statistic by $\\delta^S_i={\\mu^S_i}_{male}-{\\mu^S_i}_{female}$. <br>\n",
    "Then our P-value will be: $Pvalue=\\frac{\\#\\mathbb{1}\\{\\delta^S_i>=\\delta^S_0\\}}{B}$"
   ]
  },
  {
   "cell_type": "code",
   "execution_count": 45,
   "id": "d1cf9d1b",
   "metadata": {},
   "outputs": [],
   "source": [
    "def bootstrap_permutation_pval(B, df, perm_test_stat):\n",
    "    pval_perm = 0\n",
    "    counter = 0\n",
    "    male_len = len(df[df[\"male\"] == 1][\"BMI\"])\n",
    "    for i in range(B):\n",
    "        male_df = df.sample(male_len)\n",
    "        male_index = [int(i) for i in male_df.index]\n",
    "        female_df = df.drop(male_index, axis=0)\n",
    "        delta = male_df[\"BMI\"].mean() - female_df[\"BMI\"].mean()\n",
    "        if delta >= perm_test_stat:\n",
    "            counter += 1\n",
    "    return counter/B"
   ]
  },
  {
   "cell_type": "code",
   "execution_count": 46,
   "id": "04532014",
   "metadata": {},
   "outputs": [],
   "source": [
    "original_delta = male_bmi_avg - female_bmi_avg\n",
    "pval = bootstrap_permutation_pval(2000, bmi_train, original_delta)"
   ]
  },
  {
   "cell_type": "code",
   "execution_count": 47,
   "id": "e7c620dd",
   "metadata": {},
   "outputs": [
    {
     "name": "stdout",
     "output_type": "stream",
     "text": [
      "The p-value for the permutation test based on bootstrap is: 0.24\n"
     ]
    }
   ],
   "source": [
    "print(f\"The p-value for the permutation test based on bootstrap is: {np.around(pval, 2)}\")"
   ]
  },
  {
   "cell_type": "markdown",
   "id": "53456eb4",
   "metadata": {},
   "source": [
    "### Section 4"
   ]
  },
  {
   "cell_type": "markdown",
   "id": "11b9dd88",
   "metadata": {},
   "source": [
    "#### Section a"
   ]
  },
  {
   "cell_type": "code",
   "execution_count": 48,
   "id": "e97fb119",
   "metadata": {},
   "outputs": [],
   "source": [
    "male_median = male_bmi.median()\n",
    "female_median = female_bmi.median()"
   ]
  },
  {
   "cell_type": "code",
   "execution_count": 49,
   "id": "7778658e",
   "metadata": {},
   "outputs": [
    {
     "name": "stdout",
     "output_type": "stream",
     "text": [
      "The median BMI of males is: 26.02, The median BMI of females is 25.06\n"
     ]
    }
   ],
   "source": [
    "print(f\"The median BMI of males is: {np.around(male_median, 2)}, The median BMI of females is {np.around(female_median, 2)}\")"
   ]
  },
  {
   "cell_type": "code",
   "execution_count": 50,
   "id": "d1ab7ea2",
   "metadata": {},
   "outputs": [
    {
     "name": "stdout",
     "output_type": "stream",
     "text": [
      "The estimation of delta is: 0.96\n"
     ]
    }
   ],
   "source": [
    "print(f\"The estimation of delta is: {np.around(male_median - female_median, 2)}\")"
   ]
  },
  {
   "cell_type": "markdown",
   "id": "5f3f5acf",
   "metadata": {},
   "source": [
    "As we can see from the histograms of both males and females, it is quite safe to assume that the data of their BMI has normal distribution. Since the normal distribution is symmetric around the mean, we know that the median should be equal to the mean. Now, our estimators for the median is not being calculated the same way as the mean so this is not an MLE for the median."
   ]
  },
  {
   "cell_type": "markdown",
   "id": "780970ee",
   "metadata": {},
   "source": [
    "#### Section b"
   ]
  },
  {
   "cell_type": "code",
   "execution_count": 51,
   "id": "916abda9",
   "metadata": {},
   "outputs": [],
   "source": [
    "def cal_bootstrap_quantile_delta_bmi(B, df_train, alpha=0.05):\n",
    "    df_train_len = len(df_train)\n",
    "    q1 = alpha / 2\n",
    "    q2 = 1 - q1\n",
    "    q_list = []\n",
    "    for i in range(B):\n",
    "        boot_df = df_train.sample(replace=True, n=200)\n",
    "        boot_df_male = boot_df[boot_df[\"male\"] == 1]\n",
    "        boot_df_female = boot_df[boot_df[\"male\"] == 0]\n",
    "        male_bmi_median = boot_df_male.BMI.median()\n",
    "        female_bmi_median = boot_df_female.BMI.median()\n",
    "        delta = male_bmi_median - female_bmi_median\n",
    "        q_list.append(delta)\n",
    "    return (np.quantile(q_list, q1), np.quantile(q_list, q2))"
   ]
  },
  {
   "cell_type": "code",
   "execution_count": 52,
   "id": "95bead86",
   "metadata": {},
   "outputs": [
    {
     "name": "stdout",
     "output_type": "stream",
     "text": [
      "The confidence interval for delta using quantiles bootstrap method is: [-0.58,2.06 ]\n"
     ]
    }
   ],
   "source": [
    "delta_bmi_ci = cal_bootstrap_quantile_delta_bmi(400, bmi_train, alpha=0.05)\n",
    "print(f\"The confidence interval for delta using quantiles bootstrap method is: [{np.around(delta_bmi_ci[0], 2)},{np.around(delta_bmi_ci[1], 2)} ]\")"
   ]
  },
  {
   "cell_type": "markdown",
   "id": "04b69d8b",
   "metadata": {},
   "source": [
    "#### Section c"
   ]
  },
  {
   "cell_type": "code",
   "execution_count": 53,
   "id": "86aac51f",
   "metadata": {},
   "outputs": [],
   "source": [
    "male_all_bmi = df[df[\"male\"] == 1][\"BMI\"]\n",
    "female_all_bmi = df[df[\"male\"] == 0][\"BMI\"]"
   ]
  },
  {
   "cell_type": "code",
   "execution_count": 54,
   "id": "231b6616",
   "metadata": {},
   "outputs": [
    {
     "name": "stdout",
     "output_type": "stream",
     "text": [
      "Delta estimation using the whole df: 1.34\n"
     ]
    }
   ],
   "source": [
    "print(f\"Delta estimation using the whole df: {np.around(male_all_bmi.median() - female_all_bmi.median(), 2)}\")"
   ]
  },
  {
   "cell_type": "markdown",
   "id": "92de1c33",
   "metadata": {},
   "source": [
    "As we can see, the stimator for $\\delta$ using the whole dataset is inside the confidence interval for $\\delta$ based on the quantiles bootstrap method using 200 samples."
   ]
  },
  {
   "cell_type": "markdown",
   "id": "22b6f9b6",
   "metadata": {},
   "source": [
    "#### Section d"
   ]
  },
  {
   "cell_type": "markdown",
   "id": "b4004168",
   "metadata": {},
   "source": [
    "Permutation Test:<br>$H_0:BMI_{male} \\ = BMI_{female}$<br> $H_1:BMI_{male} \\ \\succ BMI_{female}$<br>T.S:$\\mu_{male}-\\mu_{female}$<br>$Pvalue=\\frac{\\#\\mathbb{1}\\{T_j>=T_0\\}}{{n+m \\choose n}}$. <br>Because the samples here are too big to compute the p-value of the Permutation Test, will use Bootstrap to calculate the p-value :First we'll calcualte the statistic of our samples (S) : $\\delta^S={\\mu^S}_{male}-{\\mu^S}_{female}$. <br>Then for each bootstrap iteration we'll randmoly permuate the data and calculate the statistic accordingly, we'll denote this current i'th bootstrap iteration statistic by $\\delta^S_i={\\mu^S_i}_{male}-{\\mu^S_i}_{female}$. <br>\n",
    "Then our P-value will be: $Pvalue=\\frac{\\#\\mathbb{1}\\{\\delta^S_i>=\\delta^S_0\\}}{B}$"
   ]
  },
  {
   "cell_type": "code",
   "execution_count": 55,
   "id": "bfda27c5",
   "metadata": {},
   "outputs": [],
   "source": [
    "def bootstrap_permutation_pval(B, df, perm_test_stat):\n",
    "    pval_perm = 0\n",
    "    counter = 0\n",
    "    male_len = len(df[df[\"male\"] == 1][\"BMI\"])\n",
    "    for i in range(B):\n",
    "        male_df = df.sample(male_len)\n",
    "        male_index = [int(i) for i in male_df.index]\n",
    "        female_df = df.drop(male_index, axis=0)\n",
    "        delta = male_df[\"BMI\"].median() - female_df[\"BMI\"].median()\n",
    "        if delta >= perm_test_stat:\n",
    "            counter += 1\n",
    "    return counter/B"
   ]
  },
  {
   "cell_type": "code",
   "execution_count": 56,
   "id": "53296a37",
   "metadata": {},
   "outputs": [],
   "source": [
    "original_delta = male_median - female_median\n",
    "pval = bootstrap_permutation_pval(2000, bmi_train, original_delta)"
   ]
  },
  {
   "cell_type": "code",
   "execution_count": 57,
   "id": "11a7a81d",
   "metadata": {},
   "outputs": [
    {
     "name": "stdout",
     "output_type": "stream",
     "text": [
      "The p-value for the permutation test based on bootstrap is: 0.07\n"
     ]
    }
   ],
   "source": [
    "print(f\"The p-value for the permutation test based on bootstrap is: {np.around(pval, 2)}\")"
   ]
  },
  {
   "cell_type": "markdown",
   "id": "620bd7cf",
   "metadata": {},
   "source": [
    "#### Section e"
   ]
  },
  {
   "cell_type": "markdown",
   "id": "5eebd3f7",
   "metadata": {},
   "source": [
    "Wald test assumes that our parameter of interest is asymptotically normal, since our estimator is not an MLE we cannot say for sure that it is asymptotically normal, so the results of Wald test would be ambigous.<br>\n",
    "T-test however, assumes normal distribution over our parameter of interest and we cannot say for sure that the median is normally distributed."
   ]
  },
  {
   "cell_type": "markdown",
   "id": "27e5b67f",
   "metadata": {},
   "source": [
    "### Section 5"
   ]
  },
  {
   "cell_type": "code",
   "execution_count": 58,
   "id": "c02d5f46",
   "metadata": {},
   "outputs": [],
   "source": [
    "bmi_train['ranked_bmi'] = bmi_train[['BMI']].rank(method='first')"
   ]
  },
  {
   "cell_type": "code",
   "execution_count": 59,
   "id": "34372060",
   "metadata": {},
   "outputs": [],
   "source": [
    "sum_df = bmi_train.groupby('male').sum().reset_index()\n",
    "S1 = sum_df[sum_df['male'] == 1]['ranked_bmi']"
   ]
  },
  {
   "cell_type": "code",
   "execution_count": 60,
   "id": "a41236c2",
   "metadata": {},
   "outputs": [
    {
     "data": {
      "text/plain": [
       "1    9563.0\n",
       "Name: ranked_bmi, dtype: float64"
      ]
     },
     "execution_count": 60,
     "metadata": {},
     "output_type": "execute_result"
    }
   ],
   "source": [
    "S1"
   ]
  },
  {
   "cell_type": "markdown",
   "id": "ef5d43ae",
   "metadata": {},
   "source": [
    "We will use the normal approximation for permuation tests since we have enough samples and because the BMI values are continous, thus we can assume that the sum of the ranks is normaly distributed in approximation."
   ]
  },
  {
   "cell_type": "code",
   "execution_count": 61,
   "id": "4ce09a7b",
   "metadata": {},
   "outputs": [],
   "source": [
    "expected_ranks = len(male_bmi)*(1 + len(bmi_train))/2"
   ]
  },
  {
   "cell_type": "code",
   "execution_count": 62,
   "id": "465f11f3",
   "metadata": {},
   "outputs": [],
   "source": [
    "m = len(female_bmi)\n",
    "n = len(male_bmi)\n",
    "N = len(bmi_train)"
   ]
  },
  {
   "cell_type": "code",
   "execution_count": 63,
   "id": "cfda4677",
   "metadata": {},
   "outputs": [],
   "source": [
    "var_bmi_part_1 = (n*m/(12*N*(N-1)))\n",
    "var_bmi_part_2 = N*(N**2 -1)"
   ]
  },
  {
   "cell_type": "code",
   "execution_count": 64,
   "id": "4082cc53",
   "metadata": {},
   "outputs": [],
   "source": [
    "count_rank_df = bmi_train.groupby('BMI')['ranked_bmi'].agg(['mean', 'count']).reset_index()"
   ]
  },
  {
   "cell_type": "code",
   "execution_count": 65,
   "id": "9cf1acb2",
   "metadata": {},
   "outputs": [],
   "source": [
    "var_bmi_part_3 = 0\n",
    "for (i, row) in count_rank_df[count_rank_df['count'] > 1].iterrows():\n",
    "    t_r = row['count']\n",
    "    if t_r == 81:\n",
    "        t_r = 81.333\n",
    "    var_bmi_part_3 += t_r * (t_r**2 -1)"
   ]
  },
  {
   "cell_type": "code",
   "execution_count": 66,
   "id": "56644cbd",
   "metadata": {},
   "outputs": [],
   "source": [
    "var_ranks = var_bmi_part_1*(var_bmi_part_2 - var_bmi_part_3)"
   ]
  },
  {
   "cell_type": "code",
   "execution_count": 67,
   "id": "89c5e3e0",
   "metadata": {},
   "outputs": [],
   "source": [
    "T = (S1.iloc[0] - expected_ranks)/np.sqrt(var_ranks)"
   ]
  },
  {
   "cell_type": "code",
   "execution_count": 68,
   "id": "be347b2e",
   "metadata": {
    "scrolled": true
   },
   "outputs": [],
   "source": [
    "Pval = 1 - norm.cdf(T)"
   ]
  },
  {
   "cell_type": "code",
   "execution_count": 69,
   "id": "cf66fb81",
   "metadata": {},
   "outputs": [
    {
     "name": "stdout",
     "output_type": "stream",
     "text": [
      "The p-value for manh-whiteny-wilcoxon test with ties and normal approximation is: 0.04\n"
     ]
    }
   ],
   "source": [
    "print(f\"The p-value for manh-whiteny-wilcoxon test with ties and normal approximation is: {np.around(Pval, 2)}\")"
   ]
  },
  {
   "cell_type": "code",
   "execution_count": 70,
   "id": "ded8ce18",
   "metadata": {},
   "outputs": [],
   "source": [
    "def bootstrap_permutation_pval_ranks(B, count_rank_df, perm_test_stat, male_len):\n",
    "    pval_perm = 0\n",
    "    counter = 0\n",
    "    for i in range(B):\n",
    "        random_S1 = count_rank_df['mean'].sample(male_len, replace=True).sum()\n",
    "        if random_S1 >= perm_test_stat:\n",
    "            counter += 1\n",
    "    return counter/B"
   ]
  },
  {
   "cell_type": "code",
   "execution_count": 71,
   "id": "0489cb63",
   "metadata": {},
   "outputs": [],
   "source": [
    "male_len = len(male_bmi)\n",
    "bootstrap_pval = bootstrap_permutation_pval_ranks(20000, count_rank_df, S1.iloc[0], male_len)"
   ]
  },
  {
   "cell_type": "code",
   "execution_count": 72,
   "id": "e6509220",
   "metadata": {},
   "outputs": [
    {
     "name": "stdout",
     "output_type": "stream",
     "text": [
      "The p-value for manh-whiteny-wilcoxon test with ties using bootstrap is: 0.15\n"
     ]
    }
   ],
   "source": [
    "print(f\"The p-value for manh-whiteny-wilcoxon test with ties using bootstrap is: {np.around(bootstrap_pval, 2)}\")"
   ]
  },
  {
   "cell_type": "markdown",
   "id": "7e881fc2",
   "metadata": {},
   "source": [
    "### Section 6"
   ]
  },
  {
   "cell_type": "markdown",
   "id": "73a83f86",
   "metadata": {},
   "source": [
    "In section 3 we performed Wald and permutations test using $\\delta=\\mu_1-\\mu_2$, where $\\mu_1,\\mu_2$ are the means of BMI for males and females respectively. <br>\n",
    "The pvalue we got in section 3 is much bigger that the pvalues we got in section 4 and 5, this might be a result of the fact that the mean is very sensitive to outliers and extreme values.<br>\n",
    "The median and the ranks mehod are more robust in that sense and because of that they got close p-values (and much smaller). In conclusion we can say that we think men BMI are higger then female BMI be"
   ]
  }
 ],
 "metadata": {
  "kernelspec": {
   "display_name": "Python 3",
   "language": "python",
   "name": "python3"
  },
  "language_info": {
   "codemirror_mode": {
    "name": "ipython",
    "version": 3
   },
   "file_extension": ".py",
   "mimetype": "text/x-python",
   "name": "python",
   "nbconvert_exporter": "python",
   "pygments_lexer": "ipython3",
   "version": "3.8.8"
  }
 },
 "nbformat": 4,
 "nbformat_minor": 5
}
